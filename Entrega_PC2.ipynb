{
 "cells": [
  {
   "cell_type": "markdown",
   "id": "9b55b930",
   "metadata": {},
   "source": [
    "# PROYECTO DE CONSOLIDACIÓN: APRENDIZAJE SUPERVISADO"
   ]
  },
  {
   "cell_type": "markdown",
   "id": "e1fa5f12",
   "metadata": {},
   "source": [
    "## [EJERCICIO 1] Explicación\n",
    "Bienvenido al año 2912, donde se necesitan tus habilidades de ciencia de datos para resolver un misterio cósmico. Hemos recibido una transmisión desde cuatro años luz de distancia y las cosas no pintan bien.\n",
    "\n",
    "La nave espacial Alcón Milenario fue un transatlántico de pasajeros interestelar lanzado hace un mes. Con casi 13.000 pasajeros a bordo, la nave emprendió su viaje inaugural transportando emigrantes de nuestro sistema solar a tres exoplanetas recientemente habitables que orbitan estrellas cercanas.\n",
    "\n",
    "Mientras rodeaba Alpha Centauri en ruta hacia su primer destino, el tórrido 55 Cancri E, la desprevenida nave espacial Alcón Milenario chocó con una anomalía del espacio-tiempo escondida dentro de una nube de polvo. Lamentablemente, tuvo un destino similar al de su homónimo de 1000 años antes. Aunque la nave permaneció intacta, ¡casi la mitad de los pasajeros fueron transportados a una dimensión alternativa!\n",
    "\n",
    "Para ayudar a las tripulaciones de rescate y recuperar a los pasajeros perdidos, debe predecir qué pasajeros fueron transportados por la anomalía utilizando los registros recuperados del sistema informático dañado de la nave espacial.\n",
    "\n",
    "¡Ayuda a salvarlos y cambia la historia!\n",
    "\n",
    "###### a) Realiza un análisis exploratorio de los datos para entender la distribución de las diferentes variables.\n",
    "###### b) Procesa los datos para:\n",
    "###### - Detectar y tratar los posibles valores faltantes.\n",
    "###### - Detectar y tratar outliers.\n",
    "###### c) Utiliza las técnicas vistas en clase para detectar las variables más importante con respecto a la variable objetivo (Transported)\n",
    "###### d) Aplica alguna de las técnicas vistas en clase para determinar qué pasajeros fueron transportados y cuales no.\n",
    "###### e) Mejora los resultados optimizando los parámetros.\n",
    "###### f) Compara los resultados obtenidos utilizando modelos de ensemble para resolver el problema.\n",
    "###### g) Selecciona el mejor modelo de los testeados en los apartados anteriores.\n",
    "\n",
    "###### Deberás entrenar y validar el modelo seleccionado sobre el dataset \"spaceship_alcon_train.csv\" y aplicar posteriormente este modelo para predecir sobre el dataset \"spaceship_alcon_test.csv\".\n",
    "###### Deberás explicar todos los pasos que vayas dando en la resolución del problema."
   ]
  },
  {
   "cell_type": "markdown",
   "source": [
    "## [EJERCICIO 1] Resolución"
   ],
   "metadata": {
    "collapsed": false
   },
   "id": "5c3847a00f1639d9"
  },
  {
   "cell_type": "markdown",
   "id": "c1f544a2-cd85-4f54-aab2-cc1f8c3a1206",
   "metadata": {},
   "source": [
    "### Importar Librerías y funciones:"
   ]
  },
  {
   "cell_type": "code",
   "execution_count": 171,
   "id": "9476f50c-f966-4065-b465-d3dc1b5c0495",
   "metadata": {
    "tags": [],
    "ExecuteTime": {
     "end_time": "2024-03-08T04:51:28.800312Z",
     "start_time": "2024-03-08T04:51:24.264999Z"
    }
   },
   "source": [
    "import matplotlib.pyplot as plt\n",
    "from sklearn.ensemble import AdaBoostClassifier, AdaBoostRegressor, RandomForestClassifier\n",
    "from sklearn.tree import DecisionTreeClassifier\n",
    "from sklearn.linear_model import LogisticRegression\n",
    "from sklearn.neighbors import KNeighborsClassifier\n",
    "from sklearn.svm import SVC\n",
    "import pandas as pd\n",
    "import seaborn as sns\n",
    "from sklearn.preprocessing import StandardScaler\n",
    "from sklearn.model_selection import train_test_split\n",
    "from sklearn.ensemble import BaggingClassifier\n",
    "\n",
    "from sklearn.linear_model import LogisticRegression\n",
    "from sklearn.neighbors import KNeighborsClassifier\n",
    "from sklearn.svm import SVC\n",
    "from sklearn.naive_bayes import GaussianNB\n",
    "from sklearn.tree import DecisionTreeClassifier\n",
    "\n",
    "import numpy as np\n",
    "from sklearn.tree import plot_tree\n",
    "from sklearn.metrics import accuracy_score, confusion_matrix\n",
    "\n",
    "import warnings\n",
    "warnings.filterwarnings(\"ignore\")"
   ],
   "outputs": []
  },
  {
   "cell_type": "markdown",
   "id": "edbb6e1d-bc50-4fd5-8c28-81db0a79425c",
   "metadata": {},
   "source": [
    "### Importar Dataset:"
   ]
  },
  {
   "cell_type": "code",
   "execution_count": 172,
   "id": "b99c21fd-28a0-4586-9f6c-0aba58283755",
   "metadata": {
    "tags": [],
    "ExecuteTime": {
     "end_time": "2024-03-08T04:51:29.006884Z",
     "start_time": "2024-03-08T04:51:28.799510Z"
    }
   },
   "source": [
    "dataset=pd.read_csv(\"spaceship_alcon_train.csv\")"
   ],
   "outputs": []
  },
  {
   "cell_type": "markdown",
   "source": [
    "Lo primero de todo, analizamos el dataset del conjunto de entrenamiento, y vemos que este proporciona una variedad de datos sobre los pasajeros de la nave espacial, incluyendo:\n",
    "\n",
    "- **PassengerId**: Identificador único para cada pasajero.\n",
    "- **HomePlanet**: El planeta/ubicación de origen del pasajero.\n",
    "- **CryoSleep**: Indica si el pasajero eligió estar en \"cryosueño\" durante el viaje.\n",
    "- **Cabin**: El número de la cabina del pasajero.\n",
    "- **Destination**: El destino planetario del pasajero.\n",
    "- **Age**: La edad del pasajero.\n",
    "- **VIP**: Indica si el pasajero pagó por servicio VIP en la nave.\n",
    "- **RoomService, FoodCourt, ShoppingMall, Spa, VRDeck**: Gastos del pasajero en diferentes servicios a bordo.\n",
    "- **Name**: Nombre del pasajero.\n",
    "- **Transported**: Variable objetivo que indica si el pasajero fue transportado a una dimensión alternativa (True/False).\n",
    "\n",
    "El siguiente paso es realizar un **Análisis Exploratorio de Datos (EDA)** para entender mejor la distribución de las variables, identificar valores faltantes, y observar posibles outliers. Esto incluirá estadísticas descriptivas, distribuciones de variables, y correlaciones potenciales entre variables. Para ello, vamos a iniciar con un resumen estadístico del conjunto de entrenamiento para identificar patrones iniciales, valores atípicos y valores faltantes."
   ],
   "metadata": {
    "collapsed": false
   },
   "id": "d898e7c42786e349"
  },
  {
   "cell_type": "markdown",
   "id": "857604a6-b35a-47de-97ea-62ac812eeedc",
   "metadata": {},
   "source": [
    "### a) Realiza un análisis exploratorio de los datos para entender la distribución de las diferentes variables."
   ]
  },
  {
   "cell_type": "code",
   "execution_count": 173,
   "id": "095e2b2d-49c8-4c5b-8e65-dae6ca78e0a4",
   "metadata": {
    "tags": [],
    "ExecuteTime": {
     "end_time": "2024-03-08T04:51:29.114902Z",
     "start_time": "2024-03-08T04:51:28.882492Z"
    }
   },
   "source": [
    "dataset.head()"
   ],
   "outputs": []
  },
  {
   "cell_type": "code",
   "execution_count": 174,
   "id": "28b9a004-6296-4e27-b333-ec01f40c5cb7",
   "metadata": {
    "tags": [],
    "ExecuteTime": {
     "end_time": "2024-03-08T04:51:29.300190Z",
     "start_time": "2024-03-08T04:51:29.093127Z"
    }
   },
   "source": [
    "dataset.shape"
   ],
   "outputs": []
  },
  {
   "cell_type": "code",
   "execution_count": 175,
   "id": "e890b6b5-9e47-4e20-8cad-efa6fa02960b",
   "metadata": {
    "tags": [],
    "ExecuteTime": {
     "end_time": "2024-03-08T04:51:29.610219Z",
     "start_time": "2024-03-08T04:51:29.282296Z"
    }
   },
   "source": [
    "dataset.describe(include= object)"
   ],
   "outputs": []
  },
  {
   "cell_type": "code",
   "execution_count": 176,
   "id": "ec6fc748-153e-486f-bf64-cb2c52714821",
   "metadata": {
    "tags": [],
    "ExecuteTime": {
     "end_time": "2024-03-08T04:51:29.788526Z",
     "start_time": "2024-03-08T04:51:29.458221Z"
    }
   },
   "source": [
    "dataset.describe()"
   ],
   "outputs": []
  },
  {
   "cell_type": "code",
   "execution_count": 177,
   "id": "fccb1d2f-524a-4456-8d48-f565392ad72a",
   "metadata": {
    "tags": [],
    "ExecuteTime": {
     "end_time": "2024-03-08T04:51:29.974165Z",
     "start_time": "2024-03-08T04:51:29.765403Z"
    }
   },
   "source": [
    "dataset.isna().sum()"
   ],
   "outputs": []
  },
  {
   "cell_type": "code",
   "source": [
    "#pip install ydata_profiling \n",
    "#pip install ipywidgets"
   ],
   "metadata": {
    "collapsed": false,
    "ExecuteTime": {
     "end_time": "2024-03-08T04:51:30.192901Z",
     "start_time": "2024-03-08T04:51:29.944544Z"
    }
   },
   "id": "43a19e2299d38173",
   "execution_count": 178,
   "outputs": []
  },
  {
   "cell_type": "code",
   "source": [
    "from ydata_profiling import ProfileReport\n",
    "\n",
    "report = ProfileReport(dataset)\n",
    "report"
   ],
   "metadata": {
    "collapsed": false,
    "ExecuteTime": {
     "end_time": "2024-03-08T04:51:44.701450Z",
     "start_time": "2024-03-08T04:51:30.193939Z"
    }
   },
   "id": "26b1802505079584",
   "execution_count": 179,
   "outputs": []
  },
  {
   "cell_type": "markdown",
   "source": [
    "El resumen estadístico y la información sobre valores faltantes nos revelan varios puntos clave sobre el conjunto de entrenamiento:\n",
    "\n",
    "1.- **Valores Faltantes**: Hay valores faltantes en varias columnas, incluyendo `HomePlanet` (201 faltantes), `CryoSleep` (217), `Cabin` (199), `Destination` (182), `Age` (179), `VIP` (203), `RoomService` (181), `FoodCourt` (183), `ShoppingMall` (208), `Spa` (183), `VRDeck` (188), y `Name` (200). Es crucial tratar estos valores faltantes antes de modelar.\n",
    "\n",
    "\n",
    "2.- **Variables Categóricas**:\n",
    "- `HomePlanet` tiene tres valores únicos, siendo `Earth` el más común, seguido de `Europa` y `Marte`.\n",
    "- `Cabin` muestra una gran variedad, lo que sugiere que podría necesitar un tratamiento especial para su uso en el modelado, similar al que tendremos que utilizar con `Name` y `PassengerID`.\n",
    "- `CryoSleep`: Una cantidad significativa de pasajeros (5439) no estuvo en CryoSleep, mientras que 3037 sí lo estuvieron.\n",
    "- `Destination`: La mayoría de los pasajeros se dirigían a TRAPPIST-1e, seguido por 55 Cancri e y, en menor medida, PSO J318.5-22\n",
    "- `VIP`: Muy pocos pasajeros adquirieron el status de VIP.\n",
    "\n",
    "\n",
    "3.- **Variables Numéricas**:\n",
    "- `Age` varía entre 0 y 79 años, con una media de aproximadamente 28,8 años.\n",
    "- Los gastos en servicios a bordo (`RoomService`, `FoodCourt`, `ShoppingMall`, `Spa`, `VRDeck`) muestran una gran variabilidad, con muchos valores en 0 (posiblemente indicando pasajeros que no usaron esos servicios) y algunos valores extremadamente altos, lo que sugiere la presencia de outliers.\n",
    "\n",
    "\n",
    "4.- **Variable Objetivo (`Transported`)**: La variable objetivo es binaria, indicando si un pasajero fue transportado a una dimensión alternativa. La distribución es relativamente balanceada con una ligera mayoría de casos `True`."
   ],
   "metadata": {
    "collapsed": false
   },
   "id": "374b93357937dee"
  },
  {
   "cell_type": "code",
   "execution_count": 180,
   "id": "0d89d2fe-6f59-4cbc-bce5-503b05553d29",
   "metadata": {
    "tags": [],
    "ExecuteTime": {
     "end_time": "2024-03-08T04:51:44.701594Z",
     "start_time": "2024-03-08T04:51:44.644764Z"
    }
   },
   "source": [
    "dataset[\"HomePlanet\"].value_counts()"
   ],
   "outputs": []
  },
  {
   "cell_type": "code",
   "execution_count": 181,
   "id": "85cb9256-0445-4869-b099-15e25bafedf0",
   "metadata": {
    "tags": [],
    "ExecuteTime": {
     "end_time": "2024-03-08T04:51:44.727096Z",
     "start_time": "2024-03-08T04:51:44.649138Z"
    }
   },
   "source": [
    "dataset[\"CryoSleep\"].value_counts()"
   ],
   "outputs": []
  },
  {
   "cell_type": "code",
   "execution_count": 182,
   "id": "e67b5fa0-0ae2-4d45-b246-b5b71f190072",
   "metadata": {
    "tags": [],
    "ExecuteTime": {
     "end_time": "2024-03-08T04:51:44.727288Z",
     "start_time": "2024-03-08T04:51:44.651902Z"
    }
   },
   "source": [
    "dataset[\"Destination\"].value_counts()"
   ],
   "outputs": []
  },
  {
   "cell_type": "code",
   "execution_count": 183,
   "id": "6afddf06-290c-446c-99a9-337c44cc3b18",
   "metadata": {
    "tags": [],
    "ExecuteTime": {
     "end_time": "2024-03-08T04:51:44.727627Z",
     "start_time": "2024-03-08T04:51:44.654647Z"
    }
   },
   "source": [
    "dataset[\"VIP\"].value_counts()"
   ],
   "outputs": []
  },
  {
   "cell_type": "code",
   "execution_count": 184,
   "id": "0255bb3a-3a43-4a0d-824b-230b6086df82",
   "metadata": {
    "tags": [],
    "ExecuteTime": {
     "end_time": "2024-03-08T04:51:44.727742Z",
     "start_time": "2024-03-08T04:51:44.657173Z"
    }
   },
   "source": [
    "dataset.Cabin.unique()"
   ],
   "outputs": []
  },
  {
   "cell_type": "code",
   "execution_count": 185,
   "id": "2cb8bf7c-203f-4601-98f7-64c74c5d152d",
   "metadata": {
    "tags": [],
    "ExecuteTime": {
     "end_time": "2024-03-08T04:51:45.408877Z",
     "start_time": "2024-03-08T04:51:44.659523Z"
    }
   },
   "source": [
    "list = [\"PassengerId\",\"HomePlanet\",\"Cabin\",\"Destination\",\"Name\"]\n",
    "dataset_num= dataset.drop(list, axis = 1)\n",
    "correlation_matrix = dataset_num.corr().round(2)\n",
    "plt.figure(figsize=(10,7))\n",
    "#sns.heatmap(data=correlation_matrix, annot=True)\n",
    "sns.heatmap(correlation_matrix, annot=True, fmt=\".1f\")"
   ],
   "outputs": []
  },
  {
   "cell_type": "code",
   "execution_count": 186,
   "id": "9397273c-9bba-4d6d-ae5f-421d1c3a0059",
   "metadata": {
    "tags": [],
    "ExecuteTime": {
     "end_time": "2024-03-08T04:51:45.723912Z",
     "start_time": "2024-03-08T04:51:45.034976Z"
    }
   },
   "source": [
    "list = [\"PassengerId\",\"HomePlanet\",\"Cabin\",\"Destination\",\"Name\",\"VIP\",\"Transported\",\"Age\"]\n",
    "dataset_cryo= dataset.drop(list, axis = 1)\n",
    "correlation_matrix = dataset_cryo.corr().round(2)\n",
    "plt.figure(figsize=(10,7))\n",
    "sns.heatmap(correlation_matrix, annot=True, fmt=\".1f\")"
   ],
   "outputs": []
  },
  {
   "cell_type": "code",
   "execution_count": 187,
   "id": "f190e200-497b-4b21-81e2-f4e4619c4f61",
   "metadata": {
    "tags": [],
    "ExecuteTime": {
     "end_time": "2024-03-08T04:51:45.808072Z",
     "start_time": "2024-03-08T04:51:45.420367Z"
    }
   },
   "source": [
    "sns.countplot(x = \"Transported\", hue=\"HomePlanet\", data = dataset)"
   ],
   "outputs": []
  },
  {
   "cell_type": "code",
   "execution_count": 188,
   "id": "2c9957bc-2144-4d00-b7d0-0ea00dc5fe47",
   "metadata": {
    "tags": [],
    "ExecuteTime": {
     "end_time": "2024-03-08T04:51:46.170182Z",
     "start_time": "2024-03-08T04:51:45.628756Z"
    }
   },
   "source": [
    "sns.countplot(x = \"Transported\", hue=\"Destination\", data = dataset)"
   ],
   "outputs": []
  },
  {
   "cell_type": "code",
   "execution_count": 189,
   "id": "561eff09-3bd3-4896-9df2-e27da49697aa",
   "metadata": {
    "tags": [],
    "ExecuteTime": {
     "end_time": "2024-03-08T04:51:46.353305Z",
     "start_time": "2024-03-08T04:51:45.856648Z"
    }
   },
   "source": [
    "sns.catplot(x= \"VIP\", kind = \"count\", data = dataset)"
   ],
   "outputs": []
  },
  {
   "cell_type": "code",
   "execution_count": 190,
   "id": "7a8fab4f-03b0-446f-a736-6d3ad880acc2",
   "metadata": {
    "tags": [],
    "ExecuteTime": {
     "end_time": "2024-03-08T04:51:46.538159Z",
     "start_time": "2024-03-08T04:51:46.108907Z"
    }
   },
   "source": [
    "sns.catplot(x= \"CryoSleep\", kind = \"count\", data = dataset)"
   ],
   "outputs": []
  },
  {
   "cell_type": "code",
   "execution_count": 191,
   "id": "d60c2519-f1d4-4f5b-b517-71189ccbeece",
   "metadata": {
    "tags": [],
    "ExecuteTime": {
     "end_time": "2024-03-08T04:51:46.946087Z",
     "start_time": "2024-03-08T04:51:46.342845Z"
    }
   },
   "source": [
    "sns.catplot(x= \"Transported\", kind = \"count\", data = dataset)"
   ],
   "outputs": []
  },
  {
   "cell_type": "code",
   "execution_count": 192,
   "id": "9e15e3e5-b05d-41af-91d4-ce42ab56b0bf",
   "metadata": {
    "tags": [],
    "ExecuteTime": {
     "end_time": "2024-03-08T04:51:46.987385Z",
     "start_time": "2024-03-08T04:51:46.560036Z"
    }
   },
   "source": [
    "sns.boxplot(x = \"CryoSleep\",y= \"Age\", data = dataset)"
   ],
   "outputs": []
  },
  {
   "cell_type": "code",
   "execution_count": 193,
   "id": "a58ec702-a0b7-4648-8dec-f234a6361f3a",
   "metadata": {
    "tags": [],
    "ExecuteTime": {
     "end_time": "2024-03-08T04:51:47.028494Z",
     "start_time": "2024-03-08T04:51:46.721322Z"
    }
   },
   "source": [
    "sns.boxplot(x=\"Transported\", y= \"Age\", data = dataset)"
   ],
   "outputs": []
  },
  {
   "cell_type": "code",
   "execution_count": 194,
   "id": "e1d58180-5c44-4ebe-9bac-7325a76c26cf",
   "metadata": {
    "tags": [],
    "ExecuteTime": {
     "end_time": "2024-03-08T04:51:47.395674Z",
     "start_time": "2024-03-08T04:51:46.879406Z"
    }
   },
   "source": [
    "sns.boxplot(x=\"HomePlanet\", y=\"Age\", data = dataset)"
   ],
   "outputs": []
  },
  {
   "cell_type": "code",
   "execution_count": 195,
   "id": "26be5693-0f94-4ea2-aaa5-10e249271ba2",
   "metadata": {
    "tags": [],
    "ExecuteTime": {
     "end_time": "2024-03-08T04:51:47.439812Z",
     "start_time": "2024-03-08T04:51:47.035455Z"
    }
   },
   "source": [
    "sns.boxplot(x=\"VIP\", y=\"Age\", data = dataset)"
   ],
   "outputs": []
  },
  {
   "cell_type": "code",
   "source": [
    "gastos = ['RoomService', 'FoodCourt', 'ShoppingMall', 'Spa', 'VRDeck'] # Variables de gastos\n",
    "\n",
    "# Revisamos las distribuciones de los gastos\n",
    "fig, axs = plt.subplots(5, 1, figsize=(18, 12))\n",
    "for var, ax in zip(gastos, axs.flat):\n",
    "    sns.boxplot(x=dataset[var], ax=ax)\n",
    "    ax.set_title(f'Boxplot de {var}')\n",
    "\n",
    "plt.tight_layout()\n",
    "plt.show()"
   ],
   "metadata": {
    "collapsed": false,
    "ExecuteTime": {
     "end_time": "2024-03-08T04:51:47.983691Z",
     "start_time": "2024-03-08T04:51:47.194389Z"
    }
   },
   "id": "a922e5f7fa92d261",
   "execution_count": 196,
   "outputs": []
  },
  {
   "cell_type": "code",
   "execution_count": 197,
   "id": "a5a7802b-529e-4b6e-b087-82558bfef5f7",
   "metadata": {
    "tags": [],
    "ExecuteTime": {
     "end_time": "2024-03-08T04:51:48.428483Z",
     "start_time": "2024-03-08T04:51:47.976100Z"
    }
   },
   "source": [
    "sns.displot(kind=\"kde\", data= dataset, x = \"Age\", hue=\"HomePlanet\", fill = \"True\")"
   ],
   "outputs": []
  },
  {
   "cell_type": "code",
   "execution_count": 198,
   "id": "6ce98fd2-1f28-4985-843e-660fdac9ea6e",
   "metadata": {
    "tags": [],
    "ExecuteTime": {
     "end_time": "2024-03-08T04:51:48.878923Z",
     "start_time": "2024-03-08T04:51:48.440488Z"
    }
   },
   "source": [
    "sns.displot(kind=\"kde\", data= dataset, x = \"Age\", hue=\"Destination\", fill = \"True\")"
   ],
   "outputs": []
  },
  {
   "cell_type": "markdown",
   "source": [
    "**Implicaciones para la Limpieza de Datos y el Tratamiento de Outliers**\n",
    "\n",
    "Hacemos gráficas aparte (para tenerlas incluidas en el dataset fuera del report) así como un mapa de correlaciones, para tenerlas más a mano que en el `report`, por todo ello, podemos sacar las siguientes conclusiones del conjunto de entrenamiento sobre el tratamiento de outliers y faltantes que tenemos que hacer: \n",
    "\n",
    "**Outliers en las Variables de Gastos:**\n",
    "- Los boxplots para las variables de gastos (`RoomService`, `FoodCourt`, `ShoppingMall`, `Spa`, `VRDeck`) muestran claramente la presencia de outliers, con muchos valores extremadamente altos en comparación con la mayoría de los datos. Aunque, dada la naturaleza de estos datos, la presencia de outliers no necesariamente indica datos incorrectos o anomalías; podrían representar simplemente pasajeros que gastaron mucho más que otros.\n",
    "\n",
    "**Correlaciones con CryoSleep y Tratamiento de Faltantes:**\n",
    "- Con el mapa de correlaciones podemos observar lo siguiente:\n",
    "  - **CryoSleep tiene correlaciones negativas con todas las variables de gastos**, lo cual es consistente con la idea que teníamos de que los pasajeros en CryoSleep no gastarían en servicios a bordo, puesto que no pueden, al no estar \"despiertos\". Estas correlaciones negativas apoyan la hipótesis de que los valores cero y posiblemente algunos valores faltantes en las variables de gastos podrían estar relacionados con pasajeros en CryoSleep.\n",
    "  - **VIP muestra correlaciones positivas moderadas con algunas variables de gastos**, lo que sugiere que los pasajeros VIP tienden a gastar más en ciertos servicios, lo cual podemos tenerlo en cuenta para los outliers."
   ],
   "metadata": {
    "collapsed": false
   },
   "id": "8ed8025f34c7b111"
  },
  {
   "cell_type": "markdown",
   "id": "d3a5a9dd-7d4a-4cc1-b913-72ea37ac2378",
   "metadata": {},
   "source": [
    "### b) Procesa los datos para:"
   ]
  },
  {
   "cell_type": "markdown",
   "source": [
    "Para abordar el tratamiento de valores faltantes y outliers, hemos procedido de la siguiente manera:\n",
    "\n",
    "1. **Valores Faltantes:**\n",
    "   - Para los pasajeros en CryoSleep (`CryoSleep` es True), imputaremos los valores faltantes de las variables numéricas relacionadas con los gastos (`RoomService`, `FoodCourt`, `ShoppingMall`, `Spa`, `VRDeck`) con 0, ya que estos pasajeros no tendrían la oportunidad de gastar, y para el resto, imputaremos la mediana.\n",
    "   - Para la edad (`Age`), utilizaremos la mediana como técnica de imputación que considere la distribución de esta variable, para todos los pasajeros independientemente de su estado de CryoSleep.\n",
    "   - Para las variables categóricas con valores faltantes y para `CryoSleep` y `VIP` donde no se especifique, aplicaremos la moda (el valor más frecuente) como técnica de imputación.\n",
    "\n",
    "2. **Outliers:**\n",
    "   - Una vez analizado el dataset no consideramos que la presencia de outliers sean datos incorrectos o anomalías por la naturaleza del dataset, por ello, vamos a proceder con el tratamiento de faltantes para no de outliers. "
   ],
   "metadata": {
    "collapsed": false
   },
   "id": "7a925ec83828ca3a"
  },
  {
   "cell_type": "markdown",
   "id": "06766732-8acb-4b55-9a3c-9d8966de687c",
   "metadata": {},
   "source": [
    "#### - Detectar y tratar los posibles valores faltantes."
   ]
  },
  {
   "cell_type": "code",
   "execution_count": 199,
   "id": "24131720-d8fd-4f90-98d8-77f53a186822",
   "metadata": {
    "tags": [],
    "ExecuteTime": {
     "end_time": "2024-03-08T04:51:48.912082Z",
     "start_time": "2024-03-08T04:51:48.872939Z"
    }
   },
   "source": [
    "dataset.isna().mean()*100"
   ],
   "outputs": []
  },
  {
   "cell_type": "code",
   "execution_count": 200,
   "id": "54303800-702b-4465-a383-a59b4fc87596",
   "metadata": {
    "tags": [],
    "ExecuteTime": {
     "end_time": "2024-03-08T04:51:48.979045Z",
     "start_time": "2024-03-08T04:51:48.877716Z"
    }
   },
   "source": [
    "dataset.dtypes"
   ],
   "outputs": []
  },
  {
   "cell_type": "markdown",
   "id": "6b0c0a0d-43be-4607-aaff-b1615f1b4d3c",
   "metadata": {},
   "source": [
    "- Imputación para variables categóricas con la moda"
   ]
  },
  {
   "cell_type": "code",
   "execution_count": 201,
   "id": "2170c6c6-596e-431f-8784-01b2b6d61f30",
   "metadata": {
    "tags": [],
    "ExecuteTime": {
     "end_time": "2024-03-08T04:51:49.200265Z",
     "start_time": "2024-03-08T04:51:48.881284Z"
    }
   },
   "source": [
    "rev_null=['HomePlanet','CryoSleep','Cabin','Destination','VIP']\n",
    "dataset[rev_null]=dataset[rev_null].replace({np.nan:dataset['HomePlanet'].mode(),\n",
    "                                                np.nan:dataset['CryoSleep'].mode(),\n",
    "                                                np.nan:dataset['Cabin'].mode(),\n",
    "                                                np.nan:dataset['Destination'].mode(),\n",
    "                                                np.nan:dataset['VIP'].median()})"
   ],
   "outputs": []
  },
  {
   "cell_type": "markdown",
   "id": "ddd0e8a3-a471-415d-8b59-ec1f7816f390",
   "metadata": {},
   "source": [
    "- Imputación para la variable numérica con la mediana."
   ]
  },
  {
   "cell_type": "code",
   "execution_count": 202,
   "id": "423e4c96-b187-4218-9364-844291a4e683",
   "metadata": {
    "tags": [],
    "ExecuteTime": {
     "end_time": "2024-03-08T04:51:49.251589Z",
     "start_time": "2024-03-08T04:51:48.895880Z"
    }
   },
   "source": [
    "dataset[\"Age\"].fillna(dataset[\"Age\"].median(), inplace=True)"
   ],
   "outputs": []
  },
  {
   "cell_type": "code",
   "execution_count": 203,
   "id": "bf6f9b52-61f2-486f-9522-489b1a24dfaa",
   "metadata": {
    "tags": [],
    "ExecuteTime": {
     "end_time": "2024-03-08T04:51:49.287307Z",
     "start_time": "2024-03-08T04:51:48.899788Z"
    }
   },
   "source": [
    "dataset.isna().sum()"
   ],
   "outputs": []
  },
  {
   "cell_type": "markdown",
   "id": "d809443d-2aab-4ee0-bae7-78d6e14f22b4",
   "metadata": {},
   "source": [
    "Del análisis gráfico se deduce que los que están en criosueño no generan ningún consumo, por lo que se aplica el valor cero a las filas de criosueño = True"
   ]
  },
  {
   "cell_type": "code",
   "execution_count": 204,
   "id": "48bb2a42-5298-452c-8955-330fa2a78e9e",
   "metadata": {
    "tags": [],
    "ExecuteTime": {
     "end_time": "2024-03-08T04:51:49.346958Z",
     "start_time": "2024-03-08T04:51:48.910757Z"
    }
   },
   "source": [
    "list_num_null= [\"RoomService\",\"FoodCourt\",\"ShoppingMall\",\"Spa\",\"VRDeck\"]\n",
    "\n",
    "for i in list_num_null:\n",
    "    dataset[i] = np.where(dataset['CryoSleep'] == True, 0, dataset[i])   "
   ],
   "outputs": []
  },
  {
   "cell_type": "code",
   "execution_count": 205,
   "id": "57056385-bcd2-4ae8-9b23-58823221843c",
   "metadata": {
    "tags": [],
    "ExecuteTime": {
     "end_time": "2024-03-08T04:51:49.358245Z",
     "start_time": "2024-03-08T04:51:48.924669Z"
    }
   },
   "source": [
    "dataset.isna().sum()"
   ],
   "outputs": []
  },
  {
   "cell_type": "code",
   "execution_count": 206,
   "id": "548f476c-8e83-4ae8-9089-43169fec877f",
   "metadata": {
    "tags": [],
    "ExecuteTime": {
     "end_time": "2024-03-08T04:51:49.385498Z",
     "start_time": "2024-03-08T04:51:48.939221Z"
    }
   },
   "source": [
    "dataset[list_num_null]= dataset[list_num_null].replace({np.nan:dataset[\"RoomService\"].median(),\n",
    "                                                        np.nan:dataset[\"FoodCourt\"].median(),\n",
    "                                                        np.nan:dataset[\"ShoppingMall\"].median(),\n",
    "                                                        np.nan:dataset[\"Spa\"].median(),\n",
    "                                                        np.nan:dataset[\"VRDeck\"].median()})"
   ],
   "outputs": []
  },
  {
   "cell_type": "code",
   "execution_count": 207,
   "id": "c9fd7f35-e7a4-49dc-99b3-1341ea137b8a",
   "metadata": {
    "tags": [],
    "ExecuteTime": {
     "end_time": "2024-03-08T04:51:49.426216Z",
     "start_time": "2024-03-08T04:51:48.945865Z"
    }
   },
   "source": [
    "dataset.isna().sum()"
   ],
   "outputs": []
  },
  {
   "cell_type": "markdown",
   "id": "ca1b3275-7cfe-446c-a6df-c36eedccaf80",
   "metadata": {},
   "source": [
    "### Preprocesamiento de Datos"
   ]
  },
  {
   "cell_type": "code",
   "execution_count": 208,
   "id": "d646ff58-9294-4ab8-88c6-ac8b608ff8ff",
   "metadata": {
    "tags": [],
    "ExecuteTime": {
     "end_time": "2024-03-08T04:51:49.455067Z",
     "start_time": "2024-03-08T04:51:48.957044Z"
    }
   },
   "source": [
    "dataset_filter = dataset.drop([\"PassengerId\",\"Name\",\"Cabin\"], axis = 1)"
   ],
   "outputs": []
  },
  {
   "cell_type": "code",
   "execution_count": 209,
   "id": "84741bc3-d0c3-4344-b639-03b34089c655",
   "metadata": {
    "tags": [],
    "ExecuteTime": {
     "end_time": "2024-03-08T04:51:49.467840Z",
     "start_time": "2024-03-08T04:51:48.962230Z"
    }
   },
   "source": [
    "dataset_filter = pd.get_dummies(dataset_filter, dtype=int, drop_first = True)"
   ],
   "outputs": []
  },
  {
   "cell_type": "code",
   "execution_count": 210,
   "id": "033efa40-c0fd-4f2b-aef9-197b74ec66de",
   "metadata": {
    "tags": [],
    "ExecuteTime": {
     "end_time": "2024-03-08T04:51:49.508651Z",
     "start_time": "2024-03-08T04:51:48.974363Z"
    }
   },
   "source": [
    "dataset_filter"
   ],
   "outputs": []
  },
  {
   "cell_type": "code",
   "execution_count": 211,
   "id": "06f9191a-2dee-46ab-8776-c63b24625500",
   "metadata": {
    "tags": [],
    "ExecuteTime": {
     "end_time": "2024-03-08T04:51:49.535132Z",
     "start_time": "2024-03-08T04:51:48.991206Z"
    }
   },
   "source": [
    "X = dataset_filter.drop(\"Transported\", axis = 1)\n",
    "y = dataset_filter[\"Transported\"]"
   ],
   "outputs": []
  },
  {
   "cell_type": "markdown",
   "id": "3e414d63-7d45-4e4d-91bf-514e21a777f3",
   "metadata": {},
   "source": [
    "Dividir el data set en conjunto de entrenamiento y conjunto de test"
   ]
  },
  {
   "cell_type": "code",
   "execution_count": 212,
   "id": "dc7905b7-1670-4d6d-89a1-3e46443234cd",
   "metadata": {
    "tags": [],
    "ExecuteTime": {
     "end_time": "2024-03-08T04:51:49.545265Z",
     "start_time": "2024-03-08T04:51:48.997325Z"
    }
   },
   "source": [
    "X_train, X_test, y_train, y_test = train_test_split(X, y, test_size = 0.3, random_state = 0)"
   ],
   "outputs": []
  },
  {
   "cell_type": "markdown",
   "id": "fcb110f1-e3be-4429-a446-54c3aaf4e653",
   "metadata": {},
   "source": [
    "Normalizamos variables"
   ]
  },
  {
   "cell_type": "code",
   "execution_count": 213,
   "id": "adf14139-46a7-43a1-81bc-f18b265aa8ab",
   "metadata": {
    "tags": [],
    "ExecuteTime": {
     "end_time": "2024-03-08T04:51:49.571625Z",
     "start_time": "2024-03-08T04:51:49.003377Z"
    }
   },
   "source": [
    "from sklearn.preprocessing import MinMaxScaler\n",
    "sc_X = MinMaxScaler()\n",
    "X_train = sc_X.fit_transform(X_train)\n",
    "X_test = sc_X.transform(X_test)"
   ],
   "outputs": []
  },
  {
   "cell_type": "markdown",
   "id": "584700fb-d46d-4824-9ba3-a161c3c16d3d",
   "metadata": {},
   "source": [
    "Utilizamos un modelo de Random Forest para ver que variables tienen más peso."
   ]
  },
  {
   "cell_type": "code",
   "execution_count": 214,
   "id": "5028d8b8-f3f5-4aa0-ac28-536460d8cada",
   "metadata": {
    "tags": [],
    "ExecuteTime": {
     "end_time": "2024-03-08T04:51:49.598256Z",
     "start_time": "2024-03-08T04:51:49.012995Z"
    }
   },
   "source": [
    "rf = RandomForestClassifier(criterion = 'entropy', n_estimators = 10)"
   ],
   "outputs": []
  },
  {
   "cell_type": "code",
   "execution_count": 215,
   "id": "44de655c-cb22-46e6-a65e-0cd04938dc5b",
   "metadata": {
    "tags": [],
    "ExecuteTime": {
     "end_time": "2024-03-08T04:51:49.924627Z",
     "start_time": "2024-03-08T04:51:49.018150Z"
    }
   },
   "source": [
    "rf.fit(X_train,y_train)\n",
    "rf.feature_importances_"
   ],
   "outputs": []
  },
  {
   "cell_type": "code",
   "execution_count": 216,
   "id": "8602345a-e93a-4150-b83e-4807547dbc09",
   "metadata": {
    "tags": [],
    "ExecuteTime": {
     "end_time": "2024-03-08T04:51:50.108336Z",
     "start_time": "2024-03-08T04:51:49.091850Z"
    }
   },
   "source": [
    "#plt.figure(figsize=(10,15))\n",
    "plt.barh(X.columns, rf.feature_importances_)"
   ],
   "outputs": []
  },
  {
   "cell_type": "markdown",
   "id": "dff080f1-7e6e-4dc5-8078-9ba8dc85c90c",
   "metadata": {},
   "source": [
    "Selección de las variables predictoras con mayor importancia:"
   ]
  },
  {
   "cell_type": "code",
   "execution_count": 217,
   "id": "583f2b7e-2fa3-497f-9e0f-4fbbf4e4615a",
   "metadata": {
    "tags": [],
    "ExecuteTime": {
     "end_time": "2024-03-08T04:51:50.151737Z",
     "start_time": "2024-03-08T04:51:49.356131Z"
    }
   },
   "source": [
    "X = X[[ \"Age\",\"RoomService\",\"FoodCourt\",\"ShoppingMall\",\"Spa\",\"VRDeck\",\"CryoSleep_True\"]]"
   ],
   "outputs": []
  },
  {
   "cell_type": "markdown",
   "id": "26152e33-a980-4a0f-819a-f1c2c256765d",
   "metadata": {},
   "source": [
    "División en entrenamiento y test:"
   ]
  },
  {
   "cell_type": "code",
   "execution_count": 218,
   "id": "1025e3e1-3822-4404-9784-f5aaf467fa73",
   "metadata": {
    "tags": [],
    "ExecuteTime": {
     "end_time": "2024-03-08T04:51:50.175659Z",
     "start_time": "2024-03-08T04:51:49.360462Z"
    }
   },
   "source": [
    "X_train, X_test, y_train, y_test = train_test_split(X, y, test_size = 0.3, random_state = 0)"
   ],
   "outputs": []
  },
  {
   "cell_type": "markdown",
   "id": "1dd8f826-728c-4fc4-8c5f-d363b446d941",
   "metadata": {},
   "source": [
    "Normalización de variables"
   ]
  },
  {
   "cell_type": "code",
   "execution_count": 219,
   "id": "b92baef5-cee3-4339-9d97-f699dfb54b41",
   "metadata": {
    "tags": [],
    "ExecuteTime": {
     "end_time": "2024-03-08T04:51:50.186026Z",
     "start_time": "2024-03-08T04:51:49.365138Z"
    }
   },
   "source": [
    "sc_X = MinMaxScaler()\n",
    "X_train = sc_X.fit_transform(X_train)\n",
    "X_test = sc_X.transform(X_test)"
   ],
   "outputs": []
  },
  {
   "cell_type": "markdown",
   "id": "ce8c6aaa-c2d5-4c42-8caf-93330ff6ff4f",
   "metadata": {},
   "source": [
    "### Definimos distintos modelos de clasificación y calculamos las métricas para ver cuál se comporta mejor:"
   ]
  },
  {
   "cell_type": "code",
   "execution_count": 220,
   "id": "9e489807-0735-4216-a413-a7cbb5ff43c2",
   "metadata": {
    "tags": [],
    "ExecuteTime": {
     "end_time": "2024-03-08T04:51:50.210446Z",
     "start_time": "2024-03-08T04:51:49.372405Z"
    }
   },
   "source": [
    "reg = LogisticRegression()\n",
    "svm = SVC()\n",
    "nb = GaussianNB()\n",
    "dt = DecisionTreeClassifier()\n",
    "knn = KNeighborsClassifier(n_neighbors=7)"
   ],
   "outputs": []
  },
  {
   "cell_type": "markdown",
   "id": "1b065205-ca4f-47ed-950c-d954b587fdf1",
   "metadata": {},
   "source": [
    "Entrenamos los distintos modelos:"
   ]
  },
  {
   "cell_type": "code",
   "execution_count": 221,
   "id": "2db5caea-0602-47cb-91c5-feb1e3412ede",
   "metadata": {
    "tags": [],
    "ExecuteTime": {
     "end_time": "2024-03-08T04:51:51.068728Z",
     "start_time": "2024-03-08T04:51:49.378643Z"
    }
   },
   "source": [
    "reg.fit(X_train,y_train.ravel())\n",
    "svm.fit(X_train,y_train.ravel())\n",
    "nb.fit(X_train,y_train.ravel())\n",
    "dt.fit(X_train,y_train.ravel())\n",
    "knn.fit(X_train, y_train.ravel())"
   ],
   "outputs": []
  },
  {
   "cell_type": "markdown",
   "id": "4eb68fab-56d6-4663-a6c1-b07bb200de76",
   "metadata": {},
   "source": [
    "Calculamos el accuracy en el conjunto de validación (test) y visualizamos las métricas acc en un gráfico de barras:"
   ]
  },
  {
   "cell_type": "code",
   "execution_count": 222,
   "id": "d75ffefd-9b64-4de3-9ef6-9c9c45a9e85a",
   "metadata": {
    "tags": [],
    "ExecuteTime": {
     "end_time": "2024-03-08T04:51:51.749585Z",
     "start_time": "2024-03-08T04:51:50.323885Z"
    }
   },
   "source": [
    "accuracyList = []\n",
    "algorithm = []\n",
    "\n",
    "#Cálculo acc y almacena en lista\n",
    "accuracyList.append(reg.score(X_test,y_test))\n",
    "accuracyList.append(svm.score(X_test,y_test))\n",
    "accuracyList.append(nb.score(X_test,y_test))\n",
    "accuracyList.append(dt.score(X_test,y_test))\n",
    "accuracyList.append(knn.score(X_test,y_test))\n",
    "\n",
    "algorithm.append(\"Logistic Regression\")\n",
    "algorithm.append(\"Support Vector Machine\")\n",
    "algorithm.append(\"Naive Bayes\")\n",
    "algorithm.append(\"Decision Tree\")\n",
    "algorithm.append(\"KNN\")\n",
    "\n",
    "#Visualización gráficas:\n",
    "f,ax = plt.subplots(figsize = (15,7))\n",
    "sns.barplot(x=accuracyList,y=algorithm,palette = sns.cubehelix_palette(len(accuracyList)))\n",
    "plt.xlabel(\"Accuracy\")\n",
    "plt.ylabel(\"Classifier\")\n",
    "plt.title('Classifier Accuracy')\n",
    "plt.show()"
   ],
   "outputs": []
  },
  {
   "cell_type": "markdown",
   "id": "6f1b4675-f7df-4f15-854a-539224df3ed3",
   "metadata": {},
   "source": [
    "Vamos ahora a predecir sobre el conjunto de test y calcular la matriz de confusión:"
   ]
  },
  {
   "cell_type": "code",
   "execution_count": 223,
   "id": "81038bd1-2b3d-4769-9575-3fdc5593dc2c",
   "metadata": {
    "tags": [],
    "ExecuteTime": {
     "end_time": "2024-03-08T04:51:52.365918Z",
     "start_time": "2024-03-08T04:51:51.490644Z"
    }
   },
   "source": [
    "predict_list = []\n",
    "y_pred_LR = reg.predict(X_test)\n",
    "y_pred_SVM = svm.predict(X_test)\n",
    "y_pred_NB = nb.predict(X_test)\n",
    "y_pred_DT = dt.predict(X_test)\n",
    "y_pred_KNN = knn.predict(X_test)"
   ],
   "outputs": []
  },
  {
   "cell_type": "code",
   "execution_count": 224,
   "id": "350d5e24-dbf8-4f4a-a5ff-b0657aaac510",
   "metadata": {
    "tags": [],
    "ExecuteTime": {
     "end_time": "2024-03-08T04:51:52.403128Z",
     "start_time": "2024-03-08T04:51:52.367476Z"
    }
   },
   "source": [
    "#Matriz de confusión:\n",
    "cmLR = confusion_matrix(y_test,y_pred_LR)\n",
    "cmSVM = confusion_matrix(y_test,y_pred_SVM)\n",
    "cmNB = confusion_matrix(y_test,y_pred_NB)\n",
    "cmDT = confusion_matrix(y_test,y_pred_DT)\n",
    "cmKNN = confusion_matrix(y_test,y_pred_KNN)"
   ],
   "outputs": []
  },
  {
   "cell_type": "markdown",
   "id": "656b743c-074e-4c94-82e1-c9258050cbdf",
   "metadata": {},
   "source": [
    "Visualizamos las distintas matrices para cada uno de los modelos entrenados:"
   ]
  },
  {
   "cell_type": "code",
   "execution_count": 225,
   "id": "05aa16a4-5c15-4bdf-bdc3-b8a07ac6023f",
   "metadata": {
    "tags": [],
    "ExecuteTime": {
     "end_time": "2024-03-08T04:51:54.494260Z",
     "start_time": "2024-03-08T04:51:52.387476Z"
    }
   },
   "source": [
    "width = 25\n",
    "height = 5\n",
    "\n",
    "f, ax = plt.subplots(1, 5)\n",
    "f.set_size_inches(width, height)\n",
    "\n",
    "# Logistic Regression\n",
    "sns.heatmap(cmLR,annot = True,linewidths=0.5,\n",
    "            linecolor=\"red\",fmt = \".0f\",ax=ax[0])\n",
    "# Support Vector Machines\n",
    "sns.heatmap(cmSVM,annot = True,linewidths=0.5,\n",
    "            linecolor=\"red\",fmt = \".0f\",ax=ax[1])\n",
    "# Naive Bayes\n",
    "sns.heatmap(cmNB,annot = True,linewidths=0.5,\n",
    "            linecolor=\"red\",fmt = \".0f\",ax=ax[2])\n",
    "# Decision Tree\n",
    "sns.heatmap(cmDT,annot = True,linewidths=0.5,\n",
    "            linecolor=\"red\",fmt = \".0f\",ax=ax[3])\n",
    "# KNN\n",
    "sns.heatmap(cmKNN,annot = True,linewidths=0.5,\n",
    "            linecolor=\"red\",fmt = \".0f\",ax=ax[4])\n",
    "\n",
    "f.show()"
   ],
   "outputs": []
  },
  {
   "cell_type": "code",
   "execution_count": 226,
   "id": "64592237-45f2-4123-95e7-5289213fe7ee",
   "metadata": {
    "tags": [],
    "ExecuteTime": {
     "end_time": "2024-03-08T04:51:54.521631Z",
     "start_time": "2024-03-08T04:51:54.487676Z"
    }
   },
   "source": [
    "print(accuracy_score(y_test,y_pred_LR))\n",
    "print(accuracy_score(y_test,y_pred_SVM))\n",
    "print(accuracy_score(y_test,y_pred_NB))\n",
    "print(accuracy_score(y_test,y_pred_DT))\n",
    "print(accuracy_score(y_test,y_pred_KNN))"
   ],
   "outputs": []
  },
  {
   "cell_type": "markdown",
   "id": "1710a0cd-744c-4215-b052-0da6ec325a36",
   "metadata": {},
   "source": [
    "### Aplicamos métodos Ensemble: modelo Baggin"
   ]
  },
  {
   "cell_type": "code",
   "execution_count": 227,
   "id": "b971ec4a-574b-42de-ad73-fc2772a81b72",
   "metadata": {
    "tags": [],
    "ExecuteTime": {
     "end_time": "2024-03-08T04:51:54.562457Z",
     "start_time": "2024-03-08T04:51:54.495506Z"
    }
   },
   "source": [
    "# Definir los estimadores base a probar\n",
    "base_estimators = {\n",
    "    \"Decision Tree\": DecisionTreeClassifier(max_depth=None),\n",
    "    \"Logistic Regression\": LogisticRegression(solver='liblinear', random_state=42),\n",
    "    \"K-Nearest Neighbors\": KNeighborsClassifier(),\n",
    "    \"Support Vector Marchine\": SVC(),\n",
    "    \"Naive Bayes\": GaussianNB(),\n",
    "}"
   ],
   "outputs": []
  },
  {
   "cell_type": "code",
   "execution_count": 228,
   "id": "79ec6688-a686-474d-a96e-f3e3eddae373",
   "metadata": {
    "tags": [],
    "ExecuteTime": {
     "end_time": "2024-03-08T04:55:01.406482Z",
     "start_time": "2024-03-08T04:51:54.501797Z"
    }
   },
   "source": [
    "# Lista para guardar los resultados\n",
    "results = []\n",
    "\n",
    "for name, estimator in base_estimators.items():\n",
    "    for n_estimators in [5, 10, 20, 50]:\n",
    "        # Crear y entrenar el modelo de bagging\n",
    "        model = BaggingClassifier(base_estimator=estimator, n_estimators=n_estimators, random_state=42)\n",
    "        model.fit(X_train, y_train)\n",
    "        \n",
    "        # Realizar predicciones y calcular la precisión\n",
    "        y_pred_train = model.predict(X_train)\n",
    "        y_pred_test = model.predict(X_test)\n",
    "        train_accuracy = accuracy_score(y_train, y_pred_train)\n",
    "        test_accuracy = accuracy_score(y_test, y_pred_test)\n",
    "        \n",
    "        # Guardar los resultados\n",
    "        results.append({\n",
    "            \"Base Estimator\": name,\n",
    "            \"N Estimators\": n_estimators,\n",
    "            \"Train Accuracy\": train_accuracy,\n",
    "            \"Test Accuracy\": test_accuracy\n",
    "        })\n",
    "\n",
    "# Convertir los resultados en un DataFrame para una mejor visualización\n",
    "import pandas as pd\n",
    "results_df = pd.DataFrame(results)"
   ],
   "outputs": []
  },
  {
   "cell_type": "code",
   "execution_count": 229,
   "id": "0fd9d865-aecf-4342-b3e7-35b4b3beefa0",
   "metadata": {
    "tags": [],
    "ExecuteTime": {
     "end_time": "2024-03-08T04:55:01.450356Z",
     "start_time": "2024-03-08T04:55:01.406905Z"
    }
   },
   "source": [
    "results_df.sort_values(\"Test Accuracy\", ascending = False)"
   ],
   "outputs": []
  },
  {
   "cell_type": "markdown",
   "id": "6a1bfb1b-15f7-4d96-8324-4e9db3c1f0fa",
   "metadata": {},
   "source": [
    "### Aplicamos métodos Ensemble: modelo Adaboost"
   ]
  },
  {
   "cell_type": "code",
   "execution_count": 230,
   "id": "1018311f-e272-4182-8272-af7cc654be96",
   "metadata": {
    "tags": [],
    "ExecuteTime": {
     "end_time": "2024-03-08T04:55:01.462895Z",
     "start_time": "2024-03-08T04:55:01.416394Z"
    }
   },
   "source": [
    "# Definir los estimadores base a probar\n",
    "estimators = {\n",
    "    \"Decision Tree\": DecisionTreeClassifier(max_depth=None),\n",
    "    \"Logistic Regression\": LogisticRegression(solver='liblinear', random_state=42)\n",
    "}"
   ],
   "outputs": []
  },
  {
   "cell_type": "code",
   "execution_count": 231,
   "id": "f773e30c-1608-478d-abb1-cbcb201617cf",
   "metadata": {
    "tags": [],
    "ExecuteTime": {
     "end_time": "2024-03-08T04:55:04.748989Z",
     "start_time": "2024-03-08T04:55:01.420486Z"
    }
   },
   "source": [
    "# Lista para guardar los resultados\n",
    "results_ada = []\n",
    "\n",
    "for name, estim in estimators.items():\n",
    "    for n_estimators in [5, 10, 20, 50]:\n",
    "        # Crear y entrenar el modelo de AdaBoost\n",
    "        model = AdaBoostClassifier(estimator=estim, n_estimators=n_estimators, random_state=42)\n",
    "        model.fit(X_train, y_train)\n",
    "        \n",
    "        # Realizar predicciones y calcular la precisión\n",
    "        y_pred_train = model.predict(X_train)\n",
    "        y_pred_test = model.predict(X_test)\n",
    "        train_accuracy = accuracy_score(y_train, y_pred_train)\n",
    "        test_accuracy = accuracy_score(y_test, y_pred_test)\n",
    "        \n",
    "        # Guardar los resultados\n",
    "        results_ada.append({\n",
    "            \"Base Estimator\": name,\n",
    "            \"N Estimators\": n_estimators,\n",
    "            \"Train Accuracy\": train_accuracy,\n",
    "            \"Test Accuracy\": test_accuracy\n",
    "        })\n",
    "\n",
    "# Convertir los resultados en un DataFrame para una mejor visualización\n",
    "import pandas as pd\n",
    "results_ada_df = pd.DataFrame(results_ada)"
   ],
   "outputs": []
  },
  {
   "cell_type": "code",
   "execution_count": 232,
   "id": "9121fc1f-0d1e-48a4-8ab2-e9d6d73d8dac",
   "metadata": {
    "tags": [],
    "ExecuteTime": {
     "end_time": "2024-03-08T04:55:04.811537Z",
     "start_time": "2024-03-08T04:55:04.754178Z"
    }
   },
   "source": [
    "results_ada_df.sort_values(\"Test Accuracy\", ascending = False)"
   ],
   "outputs": []
  },
  {
   "cell_type": "markdown",
   "id": "e6a0893d-e064-415e-bcdd-0813def1bd1c",
   "metadata": {},
   "source": [
    "Analizando los resultados, teniendo en cuenta los resultados de train y test, se decide elegir el Árbol de decisión con 20 estimadores por tener unos resultados muy similares al de 50 estimadores pero es menos complejo y consume menos recursos. También tenemos en cuenta que aplicando Adaboost, el mejor es, de nuevo, el Árbol de decisión con 20 estimadores, pero los resultados son algo peores que con el de Baggin. Dicho esto, procedemos a aplicar el que consideremos el mejor modelo."
   ]
  },
  {
   "cell_type": "markdown",
   "id": "1aed193b-58cd-4a74-8f77-9ac5198086ea",
   "metadata": {},
   "source": [
    "### Aplicamos el mejor estimador al conjunto de test: Decision Tree N Estimators: 20"
   ]
  },
  {
   "cell_type": "code",
   "execution_count": 233,
   "id": "f9e53606-f4a8-4cec-b574-a0c1452cfebf",
   "metadata": {
    "tags": [],
    "ExecuteTime": {
     "end_time": "2024-03-08T04:55:04.975115Z",
     "start_time": "2024-03-08T04:55:04.761421Z"
    }
   },
   "source": [
    "dataset_test=pd.read_csv(\"spaceship_alcon_test.csv\")"
   ],
   "outputs": []
  },
  {
   "cell_type": "code",
   "execution_count": 234,
   "id": "5c9c4707-a639-4ede-a30a-6d013e06a3ac",
   "metadata": {
    "tags": [],
    "ExecuteTime": {
     "end_time": "2024-03-08T04:55:05.025667Z",
     "start_time": "2024-03-08T04:55:04.796621Z"
    }
   },
   "source": [
    "dataset_test.head()"
   ],
   "outputs": []
  },
  {
   "cell_type": "code",
   "execution_count": 235,
   "id": "fd9ee223-a232-4c06-8b98-be90bfbeae34",
   "metadata": {
    "tags": [],
    "ExecuteTime": {
     "end_time": "2024-03-08T04:55:05.071449Z",
     "start_time": "2024-03-08T04:55:04.803221Z"
    }
   },
   "source": [
    "dataset_test_filter = dataset_test[[\"Age\",\"RoomService\",\"FoodCourt\",\"ShoppingMall\",\"Spa\",\"VRDeck\",\"CryoSleep\"]]"
   ],
   "outputs": []
  },
  {
   "cell_type": "code",
   "execution_count": 236,
   "id": "24514b6c-5340-4c76-887e-cc8618c82ad6",
   "metadata": {
    "tags": [],
    "ExecuteTime": {
     "end_time": "2024-03-08T04:55:05.158080Z",
     "start_time": "2024-03-08T04:55:04.812272Z"
    }
   },
   "source": [
    "dataset_test_filter.isna().sum()"
   ],
   "outputs": []
  },
  {
   "cell_type": "code",
   "execution_count": 237,
   "id": "785abf46-c191-4974-8e44-7d582c1f9c53",
   "metadata": {
    "tags": [],
    "ExecuteTime": {
     "end_time": "2024-03-08T04:55:05.172422Z",
     "start_time": "2024-03-08T04:55:04.838861Z"
    }
   },
   "source": [
    "dataset_test_filter.CryoSleep.fillna(dataset_test_filter.CryoSleep.value_counts().idxmax(),inplace = True) "
   ],
   "outputs": []
  },
  {
   "cell_type": "code",
   "execution_count": 238,
   "id": "dbc2fa18-23cf-49e5-b65b-5389cc526acb",
   "metadata": {
    "tags": [],
    "ExecuteTime": {
     "end_time": "2024-03-08T04:55:05.207886Z",
     "start_time": "2024-03-08T04:55:04.839377Z"
    }
   },
   "source": [
    "dataset_test_filter[\"Age\"].fillna(dataset_test_filter[\"Age\"].median(), inplace = True)"
   ],
   "outputs": []
  },
  {
   "cell_type": "code",
   "execution_count": 239,
   "id": "c9a973d9-d2ec-4e7c-8110-dd52482b7f42",
   "metadata": {
    "tags": [],
    "ExecuteTime": {
     "end_time": "2024-03-08T04:55:05.224170Z",
     "start_time": "2024-03-08T04:55:04.842871Z"
    }
   },
   "source": [
    "list_num_null= [\"RoomService\",\"FoodCourt\",\"ShoppingMall\",\"Spa\",\"VRDeck\"]\n",
    "\n",
    "for i in list_num_null:\n",
    "    dataset_test_filter[i] = np.where(dataset_test_filter['CryoSleep'] == True, 0, dataset_test_filter[i])   "
   ],
   "outputs": []
  },
  {
   "cell_type": "code",
   "execution_count": 240,
   "id": "c557598e-537e-4c08-9c04-3d0b7ae45666",
   "metadata": {
    "tags": [],
    "ExecuteTime": {
     "end_time": "2024-03-08T04:55:05.264146Z",
     "start_time": "2024-03-08T04:55:04.849997Z"
    }
   },
   "source": [
    "dataset_test_filter[list_num_null]= dataset_test_filter[list_num_null].replace({np.nan:dataset[\"RoomService\"].median(),\n",
    "                                                        np.nan:dataset[\"FoodCourt\"].median(),\n",
    "                                                        np.nan:dataset[\"ShoppingMall\"].median(),\n",
    "                                                        np.nan:dataset[\"Spa\"].median(),\n",
    "                                                        np.nan:dataset[\"VRDeck\"].median()})"
   ],
   "outputs": []
  },
  {
   "cell_type": "code",
   "execution_count": 241,
   "id": "94be30dc-3fa8-4db4-aae8-f0594f9fc680",
   "metadata": {
    "tags": [],
    "ExecuteTime": {
     "end_time": "2024-03-08T04:55:05.311547Z",
     "start_time": "2024-03-08T04:55:04.862949Z"
    }
   },
   "source": [
    "dataset_test_filter.isna().sum()"
   ],
   "outputs": []
  },
  {
   "cell_type": "code",
   "execution_count": 242,
   "id": "24eab104-9a1a-4320-8002-e3562c7f7992",
   "metadata": {
    "tags": [],
    "ExecuteTime": {
     "end_time": "2024-03-08T04:55:05.329442Z",
     "start_time": "2024-03-08T04:55:04.868684Z"
    }
   },
   "source": [
    "X = dataset_test_filter"
   ],
   "outputs": []
  },
  {
   "cell_type": "code",
   "execution_count": 243,
   "id": "95fec9af-79f2-4bdb-9ffc-29744a70a3d0",
   "metadata": {
    "tags": [],
    "ExecuteTime": {
     "end_time": "2024-03-08T04:55:05.367876Z",
     "start_time": "2024-03-08T04:55:04.874744Z"
    }
   },
   "source": [
    "sc_X = MinMaxScaler()\n",
    "X = sc_X.fit_transform(X)"
   ],
   "outputs": []
  },
  {
   "cell_type": "code",
   "execution_count": 244,
   "id": "1afc097c-8275-4de7-b3ae-8808eca063a3",
   "metadata": {
    "tags": [],
    "ExecuteTime": {
     "end_time": "2024-03-08T04:55:05.423429Z",
     "start_time": "2024-03-08T04:55:04.883887Z"
    }
   },
   "source": [
    "estimador = DecisionTreeClassifier(max_depth=None)"
   ],
   "outputs": []
  },
  {
   "cell_type": "code",
   "execution_count": 245,
   "id": "566ba10e-2755-437a-bc8c-392334bc734d",
   "metadata": {
    "tags": [],
    "ExecuteTime": {
     "end_time": "2024-03-08T04:55:05.508777Z",
     "start_time": "2024-03-08T04:55:04.888267Z"
    }
   },
   "source": [
    "baggModel = BaggingClassifier(base_estimator = estimador, n_estimators=20, random_state=42)"
   ],
   "outputs": []
  },
  {
   "cell_type": "code",
   "execution_count": 246,
   "id": "4e965b40-59e7-497a-a8bf-4799785131ee",
   "metadata": {
    "tags": [],
    "ExecuteTime": {
     "end_time": "2024-03-08T04:55:06.103139Z",
     "start_time": "2024-03-08T04:55:04.895365Z"
    }
   },
   "source": [
    "baggModel.fit(X_train, y_train)\n",
    "y_pred_test = baggModel.predict(X)"
   ],
   "outputs": []
  },
  {
   "cell_type": "code",
   "execution_count": 247,
   "id": "08ccfa18-c06e-49b8-aaac-2cef11b87420",
   "metadata": {
    "tags": [],
    "ExecuteTime": {
     "end_time": "2024-03-08T04:55:06.172108Z",
     "start_time": "2024-03-08T04:55:05.294189Z"
    }
   },
   "source": [
    "dataset_test_filter[\"Transported\"] = y_pred_test\n",
    "dataset_test_filter"
   ],
   "outputs": []
  },
  {
   "cell_type": "markdown",
   "id": "e421443e",
   "metadata": {},
   "source": [
    "## [EJERCICIO 2]\n",
    "\n",
    "La empresa está desarrollando una aplicación a modo TripAdvisor en la que los usuarios van a poder valorar una serie de restaurantes en base a su experiencia. Para que los restaurantes se adieran a la aplicación y quieran compartirla con sus clientes, estos desean saber, en base a sus características, que valoración pueden tener. Para ayudarles, hay que tratar de predecir la valoración (variable rate) que obtendría cada restaurante en base a las variables conocidas:\n",
    "\n",
    "- name: Nombre del restaurante.\n",
    "- online_order:¿Aceptan pedidos en línea? (Verdadero/Falso)\n",
    "- book_table: ¿Podemos reservar mesa en el restaurante?\n",
    "- rate: Valoración que dan los usuarios en la aplicación (variable objetivo).\n",
    "- votes: Número de valoraciones realizadas a un restaurante.\n",
    "- location: Ubicación del restaurante.\n",
    "- rest_type: Tipo de restaurante.\n",
    "- cuisines: Tipo de cocina.\n",
    "- Cost2plate: Coste aproximado de dos platos.\n",
    "- Type: Categoría del restaurante.\n",
    "\n",
    "### La empresa solicita el siguiente informe:\n",
    "#### a) Ver el número de restaurantes por cada una de las localizaciones.\n",
    "#### b) Conocer el número de restaurantes que permiten y no permiten pedidos online y aquellos que permiten reservar mesa.\n",
    "#### c) Queremos conocer, mediante una visualización, cual es la distribución de la valoracion de los usuarios en función de si el restaurante permite o no pedidos online.\n",
    "#### d) Queremos conocer, mediante una visualización, cual es la distribución de la valoracion de los usuarios en función de si el restaurante permite o no reservar mesa.\n",
    "#### e) ¿Cual de las dos variables analizadas en los apartados d y C crees que sería más determinante de cara a un modelo de Machine Learning? ¿Por qué?\n",
    "#### f) Realiza las transformaciones que creas necesarias en las variables, explicando cada una de ellas, de cara a crear un modelo de regresión que sea capaz de predecir la valoración de los usuarios.\n",
    "#### g) Aplica un modelo de Regresión de los vistos en clase para tratar de predecir la valoración de los usuarios. Trata de mejorar los resultados aplicando otros modelos. (Regresión Lineal Múltiple, Árboles de Regresión o Random Forest Regressor)\n",
    "#### h) Selecciona el mejor modelo basándote en la métrica del RMSE.\n",
    "\n",
    "##### Deberás entrenar y validar el modelo seleccionado sobre el dataset \"app_restaurantes.csv\".\n",
    "\n",
    "##### Deberás explicar todos los pasos que vayas dando en la resolución del problema."
   ]
  },
  {
   "cell_type": "code",
   "execution_count": 248,
   "id": "1898f621-270f-4265-8e83-850bf3a7c59d",
   "metadata": {
    "tags": [],
    "ExecuteTime": {
     "end_time": "2024-03-08T04:55:06.207698Z",
     "start_time": "2024-03-08T04:55:05.313322Z"
    }
   },
   "source": [
    "from sklearn.ensemble import AdaBoostClassifier, AdaBoostRegressor, RandomForestClassifier, RandomForestRegressor\n",
    "from sklearn.tree import DecisionTreeClassifier, DecisionTreeRegressor\n",
    "from sklearn.neighbors import KNeighborsClassifier\n",
    "from sklearn.linear_model import LogisticRegression, LinearRegression\n",
    "from sklearn.naive_bayes import GaussianNB\n",
    "from sklearn.svm import SVC\n",
    "import pandas as pd\n",
    "import numpy as np\n",
    "from sklearn.model_selection import train_test_split\n",
    "from sklearn.metrics import confusion_matrix, accuracy_score, roc_auc_score, roc_curve\n",
    "from sklearn.preprocessing import StandardScaler\n",
    "import seaborn as sns\n",
    "import matplotlib.pyplot as plt\n",
    "import plotly.express as px\n",
    "from sklearn.model_selection import GridSearchCV\n",
    "from sklearn.ensemble import BaggingClassifier"
   ],
   "outputs": []
  },
  {
   "cell_type": "code",
   "execution_count": 249,
   "id": "182cc6dd-d3d3-4bcb-bdef-1d52c45abd20",
   "metadata": {
    "tags": [],
    "ExecuteTime": {
     "end_time": "2024-03-08T04:55:06.872873Z",
     "start_time": "2024-03-08T04:55:05.320993Z"
    }
   },
   "source": [
    "restaurants = pd.read_csv(\"app_restaurantes_clean.csv\")"
   ],
   "outputs": []
  },
  {
   "cell_type": "code",
   "source": [
    "restaurants.head()"
   ],
   "metadata": {
    "collapsed": false,
    "ExecuteTime": {
     "end_time": "2024-03-08T04:55:06.942607Z",
     "start_time": "2024-03-08T04:55:05.460191Z"
    }
   },
   "id": "53564cbe1a195a0",
   "execution_count": 250,
   "outputs": []
  },
  {
   "cell_type": "code",
   "execution_count": 251,
   "id": "dc63c8ec-6a09-46f2-b2fb-fa7b20ae89c5",
   "metadata": {
    "tags": [],
    "ExecuteTime": {
     "end_time": "2024-03-08T04:55:06.991778Z",
     "start_time": "2024-03-08T04:55:05.466526Z"
    }
   },
   "source": [
    "restaurants.describe()"
   ],
   "outputs": []
  },
  {
   "cell_type": "code",
   "execution_count": 252,
   "id": "3b22f9aa-2e45-4097-a276-4806f0b86cb4",
   "metadata": {
    "tags": [],
    "ExecuteTime": {
     "end_time": "2024-03-08T04:55:07.072992Z",
     "start_time": "2024-03-08T04:55:05.511032Z"
    }
   },
   "source": [
    "restaurants.isna().sum()"
   ],
   "outputs": []
  },
  {
   "cell_type": "code",
   "source": [
    "from ydata_profiling import ProfileReport\n",
    "\n",
    "report = ProfileReport(restaurants)\n",
    "report"
   ],
   "metadata": {
    "collapsed": false,
    "ExecuteTime": {
     "end_time": "2024-03-08T04:55:21.544805Z",
     "start_time": "2024-03-08T04:55:05.532193Z"
    }
   },
   "id": "2d036ff659ccb0b1",
   "execution_count": 253,
   "outputs": []
  },
  {
   "cell_type": "markdown",
   "id": "fe132ac5-c235-42f0-8bc0-fe00774796a7",
   "metadata": {},
   "source": [
    "### a) Ver el número de restaurantes por cada una de las localizaciones"
   ]
  },
  {
   "cell_type": "code",
   "execution_count": 254,
   "id": "fe477c01-b8ed-44df-801e-943fc49bf4bf",
   "metadata": {
    "tags": [],
    "ExecuteTime": {
     "end_time": "2024-03-08T04:55:21.545052Z",
     "start_time": "2024-03-08T04:55:21.500585Z"
    }
   },
   "source": [
    "restaurants.groupby(\"location\")[[\"name\"]].count() #Número de restaurantes por cada localización"
   ],
   "outputs": []
  },
  {
   "cell_type": "markdown",
   "id": "605953c2-12ed-46ca-9b57-25d2386cf687",
   "metadata": {},
   "source": [
    "Otra forma de ver el número de restaurantes por localización en la que se pueden ver todas las localizaciones es la siguiente:"
   ]
  },
  {
   "cell_type": "code",
   "execution_count": 255,
   "id": "042aaf5b-1ead-4fd8-b378-4356b57b1237",
   "metadata": {
    "tags": [],
    "ExecuteTime": {
     "end_time": "2024-03-08T04:55:21.607398Z",
     "start_time": "2024-03-08T04:55:21.504046Z"
    }
   },
   "source": [
    "restaurant_count = restaurants['location'].value_counts().reset_index()\n",
    "restaurant_count.columns = ['Location', 'Restaurant Count']"
   ],
   "outputs": []
  },
  {
   "cell_type": "code",
   "execution_count": 256,
   "id": "358ef301-29e5-4dbb-823d-5294daec6510",
   "metadata": {
    "tags": [],
    "ExecuteTime": {
     "end_time": "2024-03-08T04:55:21.607687Z",
     "start_time": "2024-03-08T04:55:21.507926Z"
    }
   },
   "source": [
    "for index,  row in restaurant_count.iterrows():\n",
    "    print(row['Location'], row['Restaurant Count'])"
   ],
   "outputs": []
  },
  {
   "cell_type": "markdown",
   "id": "dab18282-3023-4b81-879f-d21de5bead36",
   "metadata": {
    "tags": []
   },
   "source": [
    "### b) Conocer el número de restaurantes que permiten y no permiten pedidos online y aquellos que permiten reservar mesa"
   ]
  },
  {
   "cell_type": "code",
   "execution_count": 257,
   "id": "e8986e54-a5ce-4e93-9858-ceffd892821c",
   "metadata": {
    "tags": [],
    "ExecuteTime": {
     "end_time": "2024-03-08T04:55:21.608505Z",
     "start_time": "2024-03-08T04:55:21.512666Z"
    }
   },
   "source": [
    "restaurants.groupby(\"online_order\")[[\"name\"]].count() #Número de restaurantes que permiten y no permiten pedidos online"
   ],
   "outputs": []
  },
  {
   "cell_type": "code",
   "execution_count": 258,
   "id": "8bea9f8c-368c-4087-a7a4-1c4a942c9e56",
   "metadata": {
    "tags": [],
    "ExecuteTime": {
     "end_time": "2024-03-08T04:55:21.760515Z",
     "start_time": "2024-03-08T04:55:21.517700Z"
    }
   },
   "source": [
    "restaurants.groupby(\"book_table\")[[\"name\"]].count() #Número de restaurantes que permiten y no permiten reservar mesa"
   ],
   "outputs": []
  },
  {
   "cell_type": "markdown",
   "id": "1519c8db-7110-48fd-909b-1ad0e1b32e0e",
   "metadata": {
    "tags": []
   },
   "source": [
    "### c) Conocer, mediante una visualización, cual es la distribución de la valoracion de los usuarios en función de si el restaurante permite o no pedidos online"
   ]
  },
  {
   "cell_type": "code",
   "execution_count": 259,
   "id": "675f19b5-98fb-4ad6-8b93-2cf8af7ccc77",
   "metadata": {
    "tags": [],
    "ExecuteTime": {
     "end_time": "2024-03-08T04:55:22.527517Z",
     "start_time": "2024-03-08T04:55:21.539241Z"
    }
   },
   "source": [
    "restaurants.isna().sum()"
   ],
   "outputs": []
  },
  {
   "cell_type": "code",
   "execution_count": 260,
   "id": "6a838f5e-95c7-4772-a56c-bdb3a79134b5",
   "metadata": {
    "tags": [],
    "ExecuteTime": {
     "end_time": "2024-03-08T04:55:22.602975Z",
     "start_time": "2024-03-08T04:55:21.578683Z"
    }
   },
   "source": [
    "#Se separan las filas cuyo \"rate\" es nulo de las que no\n",
    "restaurants_rate = restaurants[restaurants[\"rate\"].notna()] \n",
    "restaurants_rate_null = restaurants[restaurants[\"rate\"].isna()]"
   ],
   "outputs": []
  },
  {
   "cell_type": "code",
   "execution_count": 261,
   "id": "f2756808-2649-4299-a95a-84b981091cdb",
   "metadata": {
    "tags": [],
    "ExecuteTime": {
     "end_time": "2024-03-08T04:55:22.830233Z",
     "start_time": "2024-03-08T04:55:21.605551Z"
    }
   },
   "source": [
    "def get_rate(field):\n",
    "    field = str(field)\n",
    "    num = float(field.split(\"/\")[0])\n",
    "    \n",
    "    return num"
   ],
   "outputs": []
  },
  {
   "cell_type": "code",
   "execution_count": 262,
   "id": "3678772c-ee7f-47cf-9cb2-068259d46cb0",
   "metadata": {
    "tags": [],
    "ExecuteTime": {
     "end_time": "2024-03-08T04:55:22.852245Z",
     "start_time": "2024-03-08T04:55:21.611791Z"
    }
   },
   "source": [
    "restaurants_rate[\"rate\"] = restaurants_rate[\"rate\"].map(get_rate)"
   ],
   "outputs": []
  },
  {
   "cell_type": "code",
   "execution_count": 263,
   "id": "97749093-e01c-4d06-80ea-3f22b78e0969",
   "metadata": {
    "tags": [],
    "ExecuteTime": {
     "end_time": "2024-03-08T04:55:22.944434Z",
     "start_time": "2024-03-08T04:55:21.644427Z"
    }
   },
   "source": [
    "restaurants_rate.describe()"
   ],
   "outputs": []
  },
  {
   "cell_type": "code",
   "execution_count": 264,
   "id": "866b2e38-32cc-401b-962f-cd6ccda18487",
   "metadata": {
    "tags": [],
    "ExecuteTime": {
     "end_time": "2024-03-08T04:55:22.998435Z",
     "start_time": "2024-03-08T04:55:21.673840Z"
    }
   },
   "source": [
    "restaurants = pd.concat([restaurants_rate, restaurants_rate_null])"
   ],
   "outputs": []
  },
  {
   "cell_type": "code",
   "execution_count": 265,
   "id": "e2d2da0f-3b0b-4d8b-8b30-0ccfedb4bb76",
   "metadata": {
    "tags": [],
    "ExecuteTime": {
     "end_time": "2024-03-08T04:55:23.765377Z",
     "start_time": "2024-03-08T04:55:21.689700Z"
    }
   },
   "source": [
    "plt.figure(figsize=(8, 6))\n",
    "restaurants.groupby(['rate', 'online_order']).size().unstack().plot(kind='bar', stacked=True)\n",
    "plt.xlabel('Rate')\n",
    "plt.ylabel('Count')\n",
    "plt.title('Distribution of Rate by Online Order')\n",
    "plt.show()"
   ],
   "outputs": []
  },
  {
   "cell_type": "markdown",
   "id": "bfe278db-b6f1-4a85-b95f-93276999fe25",
   "metadata": {},
   "source": [
    "### d) Conocer, mediante una visualización, cual es la distribución de la valoración de los usuarios en función de si el restaurante permite o no reservar mesa"
   ]
  },
  {
   "cell_type": "code",
   "execution_count": 266,
   "id": "3caf6242-3811-4781-b5a4-a8ebcf199871",
   "metadata": {
    "tags": [],
    "ExecuteTime": {
     "end_time": "2024-03-08T04:55:25.565680Z",
     "start_time": "2024-03-08T04:55:22.651791Z"
    }
   },
   "source": [
    "plt.figure(figsize=(8, 6))\n",
    "restaurants.groupby(['rate', 'book_table']).size().unstack().plot(kind='bar', stacked=True)\n",
    "plt.xlabel('Book_Table')\n",
    "plt.ylabel('Count')\n",
    "plt.title('Distribution of Rate by Book_Table')\n",
    "plt.show()"
   ],
   "outputs": []
  },
  {
   "cell_type": "markdown",
   "id": "d37f9a24-dcd7-49fb-be38-1138e4ecce54",
   "metadata": {},
   "source": [
    "### e) ¿Cual de las dos variables analizadas en los apartados c y d crees que sería más determinante de cara a un modelo de Machine Learning? ¿Por qué?"
   ]
  },
  {
   "cell_type": "markdown",
   "id": "a69a9e8f-43ef-4ccd-8870-9cf2e1308693",
   "metadata": {},
   "source": [
    "Al observar ambas gráficas, podemos ver que en la segunda gráfica (`rate` vs `book_table`), la variable `book_table` no parece tener un impacto significativo en la distribución de la variable `rate`, ya que las barras se mantienen casi uniformes independientemente de si se dispone de mesa para reservar o no.\n",
    "Por otro lado, en la primera gráfica (`rate` vs `online_order`), se observa que la variable `online_order` sí tiene un impacto en la distribución de la variable `rate`, porque las barras varían en función de si se permite el pedido en línea o no.\n",
    "Por lo que: basándonos en las gráficas proporcionadas, parece que *la variable `online_order` sería más determinante* de cara a un modelo de Machine Learning, ya que parece tener un impacto significativo en la variable objetivo `rate`.\n",
    "\n",
    "Otra forma de analizarlo la cual también nos hace elegir la variable `online_order` como la más determinante es la importante correlación que existe entre `online_order` y `Cost2plate`, como hemos podido ver en el mapa de correlaciones del _report_, haciendo más únicos y significativos de cara a un modelo de Machine Learning los valores de `online_order`."
   ]
  },
  {
   "cell_type": "markdown",
   "id": "9d4f11a9-156c-4523-ae54-364f28d6425f",
   "metadata": {},
   "source": [
    "### f) Realizar las transformaciones que creas necesarias en las variables, explicando cada una de ellas, de cara a crear un modelo de regresión que sea capaz de predecir la valoración de los usuarios"
   ]
  },
  {
   "cell_type": "code",
   "execution_count": 267,
   "id": "2c664dc5-6a4f-4e80-a992-8bdad0c249a6",
   "metadata": {
    "tags": [],
    "ExecuteTime": {
     "end_time": "2024-03-08T04:55:25.701938Z",
     "start_time": "2024-03-08T04:55:23.555807Z"
    }
   },
   "source": [
    "restaurants[\"rate\"] = restaurants[\"rate\"].replace({np.nan:restaurants[\"rate\"].mean()})"
   ],
   "outputs": []
  },
  {
   "cell_type": "code",
   "execution_count": 268,
   "id": "bd959d44-f3dc-47c8-b6b2-972a0450d03f",
   "metadata": {
    "tags": [],
    "ExecuteTime": {
     "end_time": "2024-03-08T04:55:26.265926Z",
     "start_time": "2024-03-08T04:55:23.573787Z"
    }
   },
   "source": [
    "restaurants.isna().sum()"
   ],
   "outputs": []
  },
  {
   "cell_type": "code",
   "execution_count": 269,
   "id": "e0642a4b-a19c-4469-aa3c-418e2e5824dd",
   "metadata": {
    "tags": [],
    "ExecuteTime": {
     "end_time": "2024-03-08T04:55:26.364356Z",
     "start_time": "2024-03-08T04:55:23.636061Z"
    }
   },
   "source": [
    "list_variables = ['rest_type', 'cuisines', 'location']\n",
    "restaurants[list_variables] = restaurants[list_variables].replace({np.nan:restaurants['rest_type'].mode()[0],\n",
    "                                                                            np.nan:restaurants['cuisines'].mode()[0],\n",
    "                                                                            np.nan:restaurants['location'].mode()[0]})"
   ],
   "outputs": []
  },
  {
   "cell_type": "code",
   "execution_count": 270,
   "id": "d0b83813-b748-4971-bed0-cb3c236815b0",
   "metadata": {
    "tags": [],
    "ExecuteTime": {
     "end_time": "2024-03-08T04:55:26.438621Z",
     "start_time": "2024-03-08T04:55:23.651438Z"
    }
   },
   "source": [
    "restaurants[\"Cost2plate\"] = restaurants[\"Cost2plate\"].replace({np.nan:restaurants[\"Cost2plate\"].mean()})"
   ],
   "outputs": []
  },
  {
   "cell_type": "code",
   "execution_count": 271,
   "id": "4e98fd25-38aa-45e7-933c-b2c8e074bb33",
   "metadata": {
    "tags": [],
    "ExecuteTime": {
     "end_time": "2024-03-08T04:55:26.497023Z",
     "start_time": "2024-03-08T04:55:23.685062Z"
    }
   },
   "source": [
    "restaurants.isna().sum()"
   ],
   "outputs": []
  },
  {
   "cell_type": "markdown",
   "id": "a2073153-8548-450b-9671-be12cf7579fe",
   "metadata": {},
   "source": [
    "### g) Aplica un modelo de Regresión de los vistos en clase para tratar de predecir la valoración de los usuarios. Trata de mejorar los resultados aplicando otros modelos. (Regresión Lineal Múltiple, Árboles de Regresión o Random Forest Regressor)"
   ]
  },
  {
   "cell_type": "markdown",
   "id": "6456f40b-3b25-47ba-96bc-97ac76239422",
   "metadata": {},
   "source": [
    "Se hace una primera prueba con Regresión Lineal Múltiple quitando las variables categóricas que tienen muchos valores únicos"
   ]
  },
  {
   "cell_type": "code",
   "execution_count": 272,
   "id": "0781538d-f53e-462a-8102-dcadef08c873",
   "metadata": {
    "tags": [],
    "ExecuteTime": {
     "end_time": "2024-03-08T04:55:26.527297Z",
     "start_time": "2024-03-08T04:55:23.703743Z"
    }
   },
   "source": [
    "restaurants_filtered = restaurants[[\"online_order\", \"book_table\", \"votes\", \"Cost2plate\", \"Type\", \"rate\"]]"
   ],
   "outputs": []
  },
  {
   "cell_type": "code",
   "execution_count": 273,
   "id": "988840bf-7bec-47ee-8aa3-bca40dfec9ee",
   "metadata": {
    "tags": [],
    "ExecuteTime": {
     "end_time": "2024-03-08T04:55:26.594476Z",
     "start_time": "2024-03-08T04:55:23.711606Z"
    }
   },
   "source": [
    "restaurants_filtered = pd.get_dummies(restaurants_filtered, drop_first=True, dtype=int)"
   ],
   "outputs": []
  },
  {
   "cell_type": "code",
   "execution_count": 274,
   "id": "205885f6-d84e-4173-8b16-8c01c14ece2a",
   "metadata": {
    "tags": [],
    "ExecuteTime": {
     "end_time": "2024-03-08T04:55:26.710369Z",
     "start_time": "2024-03-08T04:55:23.764292Z"
    }
   },
   "source": [
    "restaurants_filtered"
   ],
   "outputs": []
  },
  {
   "cell_type": "code",
   "execution_count": 275,
   "id": "d05066ca-bb39-4d41-9046-a2f516bbca3d",
   "metadata": {
    "tags": [],
    "ExecuteTime": {
     "end_time": "2024-03-08T04:55:26.769923Z",
     "start_time": "2024-03-08T04:55:23.774784Z"
    }
   },
   "source": [
    "X = restaurants_filtered.drop(\"rate\", axis = 1)\n",
    "y = restaurants_filtered[\"rate\"]"
   ],
   "outputs": []
  },
  {
   "cell_type": "code",
   "execution_count": 276,
   "id": "f84af7c2-3df2-42ac-bfef-0d28e0b1a874",
   "metadata": {
    "tags": [],
    "ExecuteTime": {
     "end_time": "2024-03-08T04:55:26.824132Z",
     "start_time": "2024-03-08T04:55:23.784123Z"
    }
   },
   "source": [
    "X_train, X_test, y_train, y_test = train_test_split(X, y, test_size = 0.3, random_state = 0)"
   ],
   "outputs": []
  },
  {
   "cell_type": "code",
   "execution_count": 277,
   "id": "bfd7985a-6bb2-4773-92d8-3dc38126e977",
   "metadata": {
    "tags": [],
    "ExecuteTime": {
     "end_time": "2024-03-08T04:55:26.887976Z",
     "start_time": "2024-03-08T04:55:23.800255Z"
    }
   },
   "source": [
    "std = StandardScaler()\n",
    "X_train_std = std.fit_transform(X_train)\n",
    "X_test_std = std.transform(X_test)"
   ],
   "outputs": []
  },
  {
   "cell_type": "markdown",
   "id": "c3ce8c47-7934-4231-a2ac-99737c1d9d80",
   "metadata": {
    "tags": []
   },
   "source": [
    "#### Regresión lineal múltiple"
   ]
  },
  {
   "cell_type": "code",
   "execution_count": 278,
   "id": "590cd981-2314-4c0e-920d-87ee38b5cee1",
   "metadata": {
    "tags": [],
    "ExecuteTime": {
     "end_time": "2024-03-08T04:55:26.950362Z",
     "start_time": "2024-03-08T04:55:23.825101Z"
    }
   },
   "source": [
    "def r2_adj(y_pred, X_test, r2):\n",
    "    N = y_pred.shape[0]\n",
    "    p = X_test.shape[1]\n",
    "    k = (1-r2)\n",
    "    w = (N-1)/(N-p-1)\n",
    "    adj_r2 = 1-(k*w)\n",
    "    \n",
    "    return adj_r2"
   ],
   "outputs": []
  },
  {
   "cell_type": "code",
   "execution_count": 279,
   "id": "c011f6d9-1682-4147-8a7d-591e907d38a7",
   "metadata": {
    "tags": [],
    "ExecuteTime": {
     "end_time": "2024-03-08T04:55:26.972769Z",
     "start_time": "2024-03-08T04:55:23.834235Z"
    }
   },
   "source": [
    "X_train_df = pd.DataFrame(X_train, columns = X_train.columns)\n",
    "X_test_df = pd.DataFrame(X_test, columns = X_train.columns)"
   ],
   "outputs": []
  },
  {
   "cell_type": "code",
   "execution_count": 280,
   "id": "0a0b399a-896d-43e1-87c3-14536b6c23a5",
   "metadata": {
    "tags": [],
    "ExecuteTime": {
     "end_time": "2024-03-08T04:55:27.029957Z",
     "start_time": "2024-03-08T04:55:23.840512Z"
    }
   },
   "source": [
    "from mlxtend.feature_selection import SequentialFeatureSelector as SFS\n",
    "from sklearn.metrics import r2_score\n",
    "from sklearn.metrics import mean_squared_error, mean_absolute_error, r2_score"
   ],
   "outputs": []
  },
  {
   "cell_type": "code",
   "execution_count": 281,
   "id": "6bf1f116-b745-42ac-8490-d060b72054d5",
   "metadata": {
    "tags": [],
    "ExecuteTime": {
     "end_time": "2024-03-08T04:56:33.439371Z",
     "start_time": "2024-03-08T04:55:23.851902Z"
    }
   },
   "source": [
    "dataset_seleccion = pd.DataFrame() # Se crea vacío y se va rellenando en un bucle\n",
    "for i in range(1, len(X_train_df.columns)):# Se recorre columna por columna, empieza en 1 porque es el número de columnas que se seleccionan\n",
    "    sbs = SFS(LinearRegression(), k_features = i, forward = False)\n",
    "    sbs.fit(np.array(X_train), y_train)\n",
    "    regression = LinearRegression()\n",
    "    columnas = [X_train_df.columns[int(index)] for index in sbs.k_feature_idx_] # FYI, Debido a alguna cuestión relacionada con las versiones de Python o Jupyter a algunos nos daba error si poníamos list(in sbs.k_feature_idx_) aunque a otros no nos ocurría ese error.\n",
    "    regression.fit(X_train_df[columnas], y_train)\n",
    "    y_pred = regression.predict(X_test_df[columnas])\n",
    "    r2 = r2_score(y_test, y_pred)\n",
    "    adj_r2 = r2_adj(y_pred, X_test_df[columnas], r2)\n",
    "    rmse = mean_squared_error(y_test, y_pred, squared = False)\n",
    "    mae = mean_squared_error(y_test, y_pred)\n",
    "    df_result = pd.DataFrame({\"variables\": [columnas], \"r2\": adj_r2, \"rmse\": rmse, \"mae\": mae})\n",
    "    dataset_seleccion = pd.concat([dataset_seleccion, df_result], ignore_index = True)\n",
    "    dataset_seleccion = dataset_seleccion.sort_values(by = 'r2', ascending = False)"
   ],
   "outputs": []
  },
  {
   "cell_type": "code",
   "execution_count": 282,
   "id": "3b3b6b99-bf3d-4aab-9647-faef0b90ddc5",
   "metadata": {
    "tags": [],
    "ExecuteTime": {
     "end_time": "2024-03-08T04:56:34.195915Z",
     "start_time": "2024-03-08T04:56:33.475029Z"
    }
   },
   "source": [
    "dataset_seleccion"
   ],
   "outputs": []
  },
  {
   "cell_type": "markdown",
   "id": "a7328a7f-0658-423f-871d-e92a5884c6b9",
   "metadata": {},
   "source": [
    "Los resultados son muy malos, por lo que se decide añadir las variables \"location\" y \"rest_type\" y hacer una codificación binaria para deducir el número de variables que se obtendrían usando One Hot Encoding"
   ]
  },
  {
   "cell_type": "code",
   "execution_count": 283,
   "id": "46cd9d97-664f-4dbe-aac9-5e66f1558821",
   "metadata": {
    "tags": [],
    "ExecuteTime": {
     "end_time": "2024-03-08T04:56:34.477670Z",
     "start_time": "2024-03-08T04:56:33.501373Z"
    }
   },
   "source": [
    "import category_encoders as ce\n",
    "encoder = ce.BinaryEncoder(cols=['online_order', 'book_table', 'location', 'rest_type', 'Type'])"
   ],
   "outputs": []
  },
  {
   "cell_type": "code",
   "execution_count": 284,
   "id": "37f7914b-c6a3-4b68-bd5c-27b01aaa6e02",
   "metadata": {
    "tags": [],
    "ExecuteTime": {
     "end_time": "2024-03-08T04:56:35.858157Z",
     "start_time": "2024-03-08T04:56:34.128753Z"
    }
   },
   "source": [
    "df_rest_limpio2 = encoder.fit_transform(restaurants)"
   ],
   "outputs": []
  },
  {
   "cell_type": "code",
   "execution_count": 285,
   "id": "19fb06bb-4b45-48eb-95de-5b0b81410370",
   "metadata": {
    "tags": [],
    "ExecuteTime": {
     "end_time": "2024-03-08T04:56:36.120131Z",
     "start_time": "2024-03-08T04:56:35.012993Z"
    }
   },
   "source": [
    "df_rest_limpio2.head()"
   ],
   "outputs": []
  },
  {
   "cell_type": "code",
   "execution_count": 286,
   "id": "0d72c112-2574-4607-b376-f45bed8971e9",
   "metadata": {
    "tags": [],
    "ExecuteTime": {
     "end_time": "2024-03-08T04:56:36.240743Z",
     "start_time": "2024-03-08T04:56:35.085546Z"
    }
   },
   "source": [
    "df_rest_limpio_sin_name = df_rest_limpio2.drop(['name', 'cuisines', 'Unnamed: 0'], axis=1)"
   ],
   "outputs": []
  },
  {
   "cell_type": "code",
   "execution_count": 287,
   "id": "f65666e3-8a2f-4541-99f6-a80ba96872af",
   "metadata": {
    "tags": [],
    "ExecuteTime": {
     "end_time": "2024-03-08T04:56:36.374583Z",
     "start_time": "2024-03-08T04:56:35.116048Z"
    }
   },
   "source": [
    "df_rest_limpio_sin_name.head()"
   ],
   "outputs": []
  },
  {
   "cell_type": "code",
   "execution_count": 288,
   "id": "afb57939-00e1-4d35-a2da-009068cc189b",
   "metadata": {
    "tags": [],
    "ExecuteTime": {
     "end_time": "2024-03-08T04:56:45.163469Z",
     "start_time": "2024-03-08T04:56:35.154019Z"
    }
   },
   "source": [
    "# Calcular la matriz de correlaciones\n",
    "correlation_matrix = df_rest_limpio_sin_name.corr().round(2)\n",
    "\n",
    "# Creamos el gráfico con un tamaño más grande\n",
    "plt.figure(figsize=(10, 8))\n",
    "\n",
    "# y crear el heatmap con anotaciones de los valores de correlación\n",
    "sns.heatmap(data=correlation_matrix, annot=True, annot_kws={\"fontsize\": 8})\n",
    "\n",
    "plt.show()"
   ],
   "outputs": []
  },
  {
   "cell_type": "markdown",
   "id": "2898d6f2-f303-40a0-a8c8-7f7f369bc0a3",
   "metadata": {
    "tags": []
   },
   "source": [
    "La variable `rate` que posteriormente se usará como Y correlaciona con:\n",
    "Correlaciones positivas de `rate`: `vote` (0.43), `Cost2plate`(0.37), `restype`(0.15), `book table` (-0.41)\n",
    "Correlaciones negativas entre otras variables: `Cost2plate` con `book table` (-0.62). `Cost2plate` es inversamente proporcional a `book table`. \n",
    "También miramos que `votes`, con `Cost2plate` (0.38), y con  `restype` (0.15) así como `book table`, con `votes` (-0.41)."
   ]
  },
  {
   "cell_type": "code",
   "execution_count": 289,
   "id": "f5f37693-192d-4c17-bc05-53e88a241d2a",
   "metadata": {
    "tags": [],
    "ExecuteTime": {
     "end_time": "2024-03-08T04:56:45.194569Z",
     "start_time": "2024-03-08T04:56:45.079516Z"
    }
   },
   "source": [
    "X = df_rest_limpio_sin_name.drop(['rate'], axis=1)\n",
    "y = df_rest_limpio_sin_name['rate']"
   ],
   "outputs": []
  },
  {
   "cell_type": "code",
   "execution_count": 290,
   "id": "34d7662f-fc85-42a3-bb65-06aa571854d8",
   "metadata": {
    "tags": [],
    "ExecuteTime": {
     "end_time": "2024-03-08T04:56:45.907298Z",
     "start_time": "2024-03-08T04:56:45.093065Z"
    }
   },
   "source": [
    "X_train, X_test, y_train, y_test = train_test_split(X, y, test_size=0.3, random_state=1)"
   ],
   "outputs": []
  },
  {
   "cell_type": "code",
   "execution_count": 291,
   "id": "220e544c-bdca-4c40-9a18-3e05d0266742",
   "metadata": {
    "tags": [],
    "ExecuteTime": {
     "end_time": "2024-03-08T04:56:46.761372Z",
     "start_time": "2024-03-08T04:56:45.133265Z"
    }
   },
   "source": [
    "from sklearn.preprocessing import StandardScaler\n",
    "sc = StandardScaler()\n",
    "sc.fit(X_train)"
   ],
   "outputs": []
  },
  {
   "cell_type": "code",
   "execution_count": 292,
   "id": "711f49a1-12d1-4b18-8a9b-ca0d2987a47f",
   "metadata": {
    "tags": [],
    "ExecuteTime": {
     "end_time": "2024-03-08T04:56:46.948894Z",
     "start_time": "2024-03-08T04:56:45.178784Z"
    }
   },
   "source": [
    "X_train_sc = sc.transform(X_train)\n",
    "X_test_sc = sc.transform(X_test)"
   ],
   "outputs": []
  },
  {
   "cell_type": "markdown",
   "id": "18aea13d-b0ac-4adc-b5c0-b3e82bf5160c",
   "metadata": {},
   "source": [
    "#### Regresión polinómica"
   ]
  },
  {
   "cell_type": "code",
   "execution_count": 293,
   "id": "8b0d79d6-dd88-42ae-b03b-9e6586000d67",
   "metadata": {
    "tags": [],
    "ExecuteTime": {
     "end_time": "2024-03-08T04:56:47.046977Z",
     "start_time": "2024-03-08T04:56:45.211770Z"
    }
   },
   "source": [
    "from sklearn.preprocessing import PolynomialFeatures\n",
    "from sklearn.metrics import r2_score"
   ],
   "outputs": []
  },
  {
   "cell_type": "code",
   "execution_count": 294,
   "id": "e07f5d6c-3214-457c-8d3c-91174acc5454",
   "metadata": {
    "tags": [],
    "ExecuteTime": {
     "end_time": "2024-03-08T04:56:47.092592Z",
     "start_time": "2024-03-08T04:56:45.227134Z"
    }
   },
   "source": [
    "def polynomial_regresion(X_te_sc, X_tr_sc, y_tr, y_te, degree):\n",
    "    poly_features = PolynomialFeatures(degree = degree)\n",
    "    X_tr_sc_poly = poly_features.fit_transform(X_tr_sc)\n",
    "    poly_model = LinearRegression()\n",
    "    poly_model.fit(X_tr_sc_poly, y_tr)\n",
    "    \n",
    "    y_tr_predict = poly_model.predict(X_tr_sc_poly)\n",
    "    r2 = r2_score(y_tr, y_tr_predict)\n",
    "    rmse = mean_squared_error(y_tr, y_tr_predict, squared = False)\n",
    "\n",
    "    print(\"R2 train: {}\".format(r2))\n",
    "    print(\"RMSE train: {}\".format(rmse))\n",
    "\n",
    "    y_te_predict = poly_model.predict(poly_features.transform(X_te_sc))\n",
    "    r2 = r2_score(y_te, y_te_predict)\n",
    "    rmse = mean_squared_error(y_te, y_te_predict, squared = False)\n",
    "\n",
    "    print(\"R2 test: {}\".format(r2))\n",
    "    print(\"RMSE train: {}\".format(rmse))\n",
    "    return y_tr_predict, y_te_predict"
   ],
   "outputs": []
  },
  {
   "cell_type": "code",
   "execution_count": 295,
   "id": "fb45582e-a876-4697-9cf5-a6919ae3c61e",
   "metadata": {
    "tags": [],
    "ExecuteTime": {
     "end_time": "2024-03-08T04:56:48.285773Z",
     "start_time": "2024-03-08T04:56:45.236606Z"
    }
   },
   "source": [
    "y_train_pred, y_teest_pred = polynomial_regresion(X_test_sc, X_train_sc, y_train, y_test, 2) \n",
    "#Regresión de grado 2. Con más grados el procesamiento se hace muy pesado para que lo pueda soportar un PC"
   ],
   "outputs": []
  },
  {
   "cell_type": "markdown",
   "id": "8c32b998-3c52-4b8a-9a89-0f4f2254bf7e",
   "metadata": {},
   "source": [
    "#### Árbol de decisión"
   ]
  },
  {
   "cell_type": "code",
   "execution_count": 296,
   "id": "3be88987-15ec-4084-bd01-cf28ddd9c00c",
   "metadata": {
    "tags": [],
    "ExecuteTime": {
     "end_time": "2024-03-08T04:56:48.676965Z",
     "start_time": "2024-03-08T04:56:47.330047Z"
    }
   },
   "source": [
    "from sklearn.tree import DecisionTreeRegressor\n",
    "regression = DecisionTreeRegressor(random_state = 0)\n",
    "regression.fit(X_train_sc, y_train)"
   ],
   "outputs": []
  },
  {
   "cell_type": "code",
   "execution_count": 297,
   "id": "f1920c4b-d17a-4b23-a710-7b5ff9588761",
   "metadata": {
    "tags": [],
    "ExecuteTime": {
     "end_time": "2024-03-08T04:56:48.783628Z",
     "start_time": "2024-03-08T04:56:47.700158Z"
    }
   },
   "source": [
    "y_train = regression.predict(X_train_sc)\n",
    "y_pred = regression.predict(X_test_sc)"
   ],
   "outputs": []
  },
  {
   "cell_type": "code",
   "execution_count": 298,
   "id": "261ccf7b-bdbc-4b9f-b381-96bf25fbc277",
   "metadata": {
    "tags": [],
    "ExecuteTime": {
     "end_time": "2024-03-08T04:56:48.853655Z",
     "start_time": "2024-03-08T04:56:47.741111Z"
    }
   },
   "source": [
    "rmse_train = mean_squared_error(y_train, y_train, squared = False)\n",
    "rmse_test = mean_squared_error(y_test, y_pred, squared = False)\n",
    "\n",
    "r2_train = r2_score(y_train, y_train)\n",
    "r2_test = r2_score(y_test, y_pred)\n",
    "\n",
    "print(\"RMSE train:\", rmse_train)\n",
    "print(\"RMSE test:\", rmse_test)\n",
    "\n",
    "print(\"R2 train:\", r2_train)\n",
    "print(\"R2 test:\", r2_test)"
   ],
   "outputs": []
  },
  {
   "cell_type": "markdown",
   "id": "681b25f7-065a-4d59-acc5-14a67c65d2c5",
   "metadata": {},
   "source": [
    "#### Árbol de decisión con Grid Search"
   ]
  },
  {
   "cell_type": "code",
   "execution_count": 299,
   "id": "02fea6b0-2f0c-453d-a34a-05e26d6ec4f4",
   "metadata": {
    "tags": [],
    "ExecuteTime": {
     "end_time": "2024-03-08T04:56:48.925589Z",
     "start_time": "2024-03-08T04:56:47.763026Z"
    }
   },
   "source": [
    "from sklearn.model_selection import GridSearchCV"
   ],
   "outputs": []
  },
  {
   "cell_type": "code",
   "execution_count": 300,
   "id": "b76e2bc7-f6a9-4525-a8ba-8153dc1a52f2",
   "metadata": {
    "tags": [],
    "ExecuteTime": {
     "end_time": "2024-03-08T04:58:17.986576Z",
     "start_time": "2024-03-08T04:56:47.778099Z"
    }
   },
   "source": [
    "# Se define el modelo de árbol de decisión\n",
    "model = DecisionTreeRegressor()\n",
    "\n",
    "# Se definen los hiperparámetros a ajustar\n",
    "param_grid = {\n",
    "    'max_depth': [25, 27, 29, 31, 35],\n",
    "    'min_samples_split': [2, 4, 6],\n",
    "    'min_samples_leaf': [1, 2, 3,]\n",
    "}\n",
    "\n",
    "# Se utiliza GridSearchCV para encontrar la mejor combinación de hiperparámetros\n",
    "grid_search = GridSearchCV(model, param_grid, cv=15)\n",
    "grid_search.fit(X_train_sc, y_train)\n",
    "\n",
    "# Imprimimos los mejores hiperparámetros encontrados\n",
    "print(\"Mejores hiperparámetros:\", grid_search.best_params_)\n",
    "\n",
    "# Utilizamos el modelo con los mejores hiperparámetros para hacer las predicciones\n",
    "y_train = grid_search.best_estimator_.predict(X_train_sc)\n",
    "y_pred = grid_search.best_estimator_.predict(X_test_sc)"
   ],
   "outputs": []
  },
  {
   "cell_type": "code",
   "execution_count": 301,
   "id": "849eacb5-77fb-441c-828b-3b2d60600149",
   "metadata": {
    "tags": [],
    "ExecuteTime": {
     "end_time": "2024-03-08T04:58:18.023953Z",
     "start_time": "2024-03-08T04:58:17.979016Z"
    }
   },
   "source": [
    "rmse_train = mean_squared_error(y_train, y_train, squared = False)\n",
    "rmse_test = mean_squared_error(y_test, y_pred, squared = False)\n",
    "\n",
    "r2_train = r2_score(y_train, y_train)\n",
    "r2_test = r2_score(y_test, y_pred)\n",
    "\n",
    "print(\"RMSE train:\", rmse_train)\n",
    "print(\"RMSE test:\", rmse_test)\n",
    "\n",
    "print(\"R2 train:\", r2_train)\n",
    "print(\"R2 test:\", r2_test)"
   ],
   "outputs": []
  },
  {
   "cell_type": "markdown",
   "id": "8d24f6c5-d980-4bff-90cb-36f818364125",
   "metadata": {},
   "source": [
    " A la vista de los resultados obtenidos, hemos decidido hacer la valoración de lo que podría suponer que el modelo no excluya ningún tipo de información, es decir, incluir las variables categóricas también a pesar de que ello pueda consumir más recursos, pero lo buscamos con objeto de ver si de esta manera obtenemos mejores resultados. Y lo hacemos también con Random Forest."
   ]
  },
  {
   "cell_type": "markdown",
   "source": [
    "#### Modelos con V. Categóricas"
   ],
   "metadata": {
    "collapsed": false
   },
   "id": "c18baef0b22d0e98"
  },
  {
   "cell_type": "code",
   "source": [
    "from sklearn.model_selection import train_test_split\n",
    "\n",
    "df_encoded = pd.get_dummies(restaurants.drop(['Unnamed: 0', 'name'], axis=1), drop_first=True)\n",
    "\n",
    "X = df_encoded.drop('rate', axis=1)\n",
    "y = df_encoded['rate']\n",
    "\n",
    "X_train, X_test, y_train, y_test = train_test_split(X, y, train_size=0.8, random_state=0)\n",
    "\n",
    "X_train.shape, X_test.shape, y_train.shape, y_test.shape"
   ],
   "metadata": {
    "collapsed": false,
    "ExecuteTime": {
     "end_time": "2024-03-08T04:58:19.536440Z",
     "start_time": "2024-03-08T04:58:17.993422Z"
    }
   },
   "id": "8ca3ab6de4a9aa09",
   "execution_count": 302,
   "outputs": []
  },
  {
   "cell_type": "code",
   "source": [
    "from sklearn.linear_model import LinearRegression\n",
    "from sklearn.tree import DecisionTreeRegressor\n",
    "from sklearn.ensemble import RandomForestRegressor\n",
    "from sklearn.metrics import mean_squared_error\n",
    "from sklearn.metrics import r2_score\n",
    "import numpy as np\n",
    "\n",
    "dt = DecisionTreeRegressor(random_state=0)\n",
    "rf = RandomForestRegressor(random_state=0, n_jobs=-1)\n",
    "\n",
    "models = {'Decision Tree': dt, 'Random Forest': rf}\n",
    "\n",
    "rmse_values = {}\n",
    "r2_values = {}\n",
    "# Modelos\n",
    "for name, model in models.items():\n",
    "    model.fit(X_train, y_train)\n",
    "    y_pred = model.predict(X_test)\n",
    "    rmse = np.sqrt(mean_squared_error(y_test, y_pred))\n",
    "    r2 = r2_score(y_test, y_pred)\n",
    "    rmse_values[name] = rmse\n",
    "    r2_values[name] = r2\n",
    "\n",
    "rmse_values, r2_values"
   ],
   "metadata": {
    "collapsed": false,
    "ExecuteTime": {
     "end_time": "2024-03-08T05:01:13.330990Z",
     "start_time": "2024-03-08T04:58:19.534796Z"
    }
   },
   "id": "e715b8c2317e623d",
   "execution_count": 303,
   "outputs": []
  },
  {
   "cell_type": "markdown",
   "source": [
    "De esta manera, obtenemos un grandísimo resultado tanto con Árbol de Decisión como con Random Forest, siendo esta la forma más precisa de predecir la valoración de los usuarios. "
   ],
   "metadata": {
    "collapsed": false
   },
   "id": "d6201191981d3100"
  },
  {
   "cell_type": "markdown",
   "id": "e1660951",
   "metadata": {},
   "source": [
    "## [EJERCICIO 3] Explicación\n",
    "\n",
    "Disponemos de un conjunto de datos de pasajeros aéreos desde 2015 hasta 2017 y para futuros vuelos, queremos poder predecir los pasajeros que van a volar en base a los datos pasados de pasajeros, a las condiciones de vuelo u otras variables que puedan influir. \n",
    "\n",
    "Para ello se pide lo siguiente:\n",
    "\n",
    "#### a) Visualiza el comportamiento de la serie temporal de pasajeros (npasajeros).\n",
    "#### b) Visualiza el número de pasajeros en función del tiempo agrupado por mes.\n",
    "#### c) Realiza una descomposición de la serie temporal para analizar la tendencia y la estacionalidad. ¿Se trata de una serie estacionaria?\n",
    "#### d) Determina las transformaciones que hace que la serie sea estacionaria. Recuerda que para ello debes prestar atención a la estacionalidad y la tendencia.\n",
    "#### e) Examina el correlograma y correlograma parcial de la serie. Esto te ayudará a seleccionar los parámetros para el modelo que deberás aplicar en el apartado siguiente.\n",
    "#### f) Aplica un modelo de series temporales para predecir el número de pasajeros. Para ello divide el dataset en 700 muestras para train y 90 para test.\n",
    "#### g) Visualiza el resultado en una gráfica en la que se muestren tanto la serie predicha como la serie real.\n",
    "#### h) Utiliza el rmse para medir el resultado de tu modelo.\n",
    "#### i) Trata de mejorar los resultados añadiendo variables exógenas al modelo.\n",
    "\n",
    "##### Deberás entrenar y validar el modelo seleccionado sobre el dataset \"datos_pasajeros.csv\"."
   ]
  },
  {
   "cell_type": "markdown",
   "source": [
    "## [EJERCICIO 3] Resolución"
   ],
   "metadata": {
    "collapsed": false
   },
   "id": "fdac690d15fe65dd"
  },
  {
   "cell_type": "code",
   "execution_count": 304,
   "id": "db824d63-efbf-4a81-8d2c-a0d89ce1d249",
   "metadata": {
    "tags": [],
    "ExecuteTime": {
     "end_time": "2024-03-08T05:01:17.217913Z",
     "start_time": "2024-03-08T05:01:13.311468Z"
    }
   },
   "source": [
    "import pandas as pd\n",
    "import numpy as np\n",
    "import seaborn as sns\n",
    "import matplotlib.pyplot as plt\n",
    "\n",
    "import scipy.stats\n",
    "import warnings\n",
    "from statsmodels.tsa.arima.model import ARIMA\n",
    "from statsmodels.tsa.seasonal import seasonal_decompose\n",
    "import statsmodels.tsa.stattools as sts\n",
    "\n",
    "import statsmodels.graphics.tsaplots as sgt\n",
    "import statsmodels.tsa.stattools as sts\n",
    "\n",
    "from statsmodels.graphics.tsaplots import plot_acf,plot_pacf\n",
    "from sklearn.metrics import mean_absolute_error, mean_squared_error\n",
    "\n",
    "from statsmodels.tsa.statespace.sarimax import SARIMAX\n",
    "\n",
    "from statsmodels.tsa.arima.model import ARIMA\n",
    "from pmdarima.arima import auto_arima\n",
    "\n",
    "warnings.filterwarnings(\"ignore\")"
   ],
   "outputs": []
  },
  {
   "cell_type": "code",
   "execution_count": 305,
   "id": "2e6efa54",
   "metadata": {
    "tags": [],
    "ExecuteTime": {
     "end_time": "2024-03-08T05:01:17.557080Z",
     "start_time": "2024-03-08T05:01:17.221515Z"
    }
   },
   "source": [
    "pasajeros= pd.read_csv(\"datos_pasajeros.csv\",sep = \";\")\n",
    "pasajeros.head()"
   ],
   "outputs": []
  },
  {
   "cell_type": "markdown",
   "id": "eb0e37c4-dd71-49d6-ab65-8fbcce906d6d",
   "metadata": {},
   "source": [
    "### Preprocesado"
   ]
  },
  {
   "cell_type": "code",
   "execution_count": 306,
   "id": "e11c660c-af05-4b68-843b-5ca64e919c14",
   "metadata": {
    "tags": [],
    "ExecuteTime": {
     "end_time": "2024-03-08T05:01:17.656028Z",
     "start_time": "2024-03-08T05:01:17.259231Z"
    }
   },
   "source": [
    "pasajeros.shape"
   ],
   "outputs": []
  },
  {
   "cell_type": "code",
   "execution_count": 307,
   "id": "f3ada336-f288-4d73-934f-280d14a2342a",
   "metadata": {
    "tags": [],
    "ExecuteTime": {
     "end_time": "2024-03-08T05:01:17.752168Z",
     "start_time": "2024-03-08T05:01:17.273409Z"
    }
   },
   "source": [
    "print(pasajeros.columns)"
   ],
   "outputs": []
  },
  {
   "cell_type": "code",
   "execution_count": 308,
   "id": "8ff9e8cf-b403-4818-b256-a3a0c3721279",
   "metadata": {
    "tags": [],
    "ExecuteTime": {
     "end_time": "2024-03-08T05:01:17.787722Z",
     "start_time": "2024-03-08T05:01:17.284934Z"
    }
   },
   "source": [
    "columns=[\"fecha\",\"mes\",\"festivo\",\"npasajeros\",\"intensidad_evento\",\"inten_lluvia\",\"ocupacion_trafico\",\"semana_mes\",\"day_of_week\"]"
   ],
   "outputs": []
  },
  {
   "cell_type": "code",
   "execution_count": 309,
   "id": "06213dac-adcf-4190-8fdf-fdb454f77ab4",
   "metadata": {
    "tags": [],
    "ExecuteTime": {
     "end_time": "2024-03-08T05:01:17.863936Z",
     "start_time": "2024-03-08T05:01:17.299933Z"
    }
   },
   "source": [
    "pasajeros.isna().sum()"
   ],
   "outputs": []
  },
  {
   "cell_type": "code",
   "execution_count": 310,
   "id": "b9366bf0-ef46-4ae1-922b-5c6fdf395020",
   "metadata": {
    "tags": [],
    "ExecuteTime": {
     "end_time": "2024-03-08T05:01:17.906127Z",
     "start_time": "2024-03-08T05:01:17.319307Z"
    }
   },
   "source": [
    "pasajeros.dtypes"
   ],
   "outputs": []
  },
  {
   "cell_type": "code",
   "source": [
    "from ydata_profiling import ProfileReport\n",
    "\n",
    "report = ProfileReport(pasajeros)\n",
    "report"
   ],
   "metadata": {
    "collapsed": false,
    "ExecuteTime": {
     "end_time": "2024-03-08T05:01:52.084780Z",
     "start_time": "2024-03-08T05:01:17.356950Z"
    }
   },
   "id": "c4072cf29082f0cf",
   "execution_count": 311,
   "outputs": []
  },
  {
   "cell_type": "markdown",
   "id": "e8c48f40-280f-4057-8abd-1ec3ba19c8e3",
   "metadata": {},
   "source": [
    "Pasamos los valores a numéricos"
   ]
  },
  {
   "cell_type": "code",
   "execution_count": 312,
   "id": "c67a51bb-5e04-46ad-9b99-2ff43bbcc57f",
   "metadata": {
    "tags": [],
    "ExecuteTime": {
     "end_time": "2024-03-08T05:01:52.085202Z",
     "start_time": "2024-03-08T05:01:51.952606Z"
    }
   },
   "source": [
    "for i in columns:\n",
    "    pasajeros[i] = pd.to_numeric(pasajeros[i],errors='ignore')"
   ],
   "outputs": []
  },
  {
   "cell_type": "code",
   "execution_count": 313,
   "id": "225df844-111b-451c-8882-f62ec8c7b48d",
   "metadata": {
    "tags": [],
    "ExecuteTime": {
     "end_time": "2024-03-08T05:01:52.118489Z",
     "start_time": "2024-03-08T05:01:51.953333Z"
    }
   },
   "source": [
    "pasajeros.dtypes"
   ],
   "outputs": []
  },
  {
   "cell_type": "markdown",
   "id": "f9be80d4-8fa0-4ec0-ad66-d4fe31b6fc48",
   "metadata": {},
   "source": [
    "Transformamos el texto de la columna fecha en fechas"
   ]
  },
  {
   "cell_type": "code",
   "execution_count": 314,
   "id": "4e203cad-c1f2-40bd-b22c-54c44106d462",
   "metadata": {
    "tags": [],
    "ExecuteTime": {
     "end_time": "2024-03-08T05:01:52.118920Z",
     "start_time": "2024-03-08T05:01:51.964116Z"
    }
   },
   "source": [
    "pasajeros.fecha = pd.to_datetime(pasajeros.fecha, dayfirst = False) "
   ],
   "outputs": []
  },
  {
   "cell_type": "code",
   "execution_count": 315,
   "id": "a5a9eeef-3dba-4eb7-953d-46b30aaa5a0c",
   "metadata": {
    "tags": [],
    "ExecuteTime": {
     "end_time": "2024-03-08T05:01:52.119242Z",
     "start_time": "2024-03-08T05:01:51.970301Z"
    }
   },
   "source": [
    "type(pasajeros.fecha[0])"
   ],
   "outputs": []
  },
  {
   "cell_type": "code",
   "execution_count": 316,
   "id": "4d2d9ced-f5d1-4655-ad8f-13717e35a045",
   "metadata": {
    "tags": [],
    "ExecuteTime": {
     "end_time": "2024-03-08T05:01:52.191266Z",
     "start_time": "2024-03-08T05:01:51.978286Z"
    }
   },
   "source": [
    "pasajeros.set_index(\"fecha\", inplace=True)\n",
    "pasajeros.head(5)"
   ],
   "outputs": []
  },
  {
   "cell_type": "markdown",
   "id": "b13c476f-ae70-467b-b002-1e03d9ab6d62",
   "metadata": {},
   "source": [
    "### a) Visualiza el comportamiento de la serie temporal de pasajeros (npasajeros)."
   ]
  },
  {
   "cell_type": "code",
   "execution_count": 317,
   "id": "9a37ffb5-d0d3-41bc-bfbc-5d40d98266d0",
   "metadata": {
    "tags": [],
    "ExecuteTime": {
     "end_time": "2024-03-08T05:01:53.890238Z",
     "start_time": "2024-03-08T05:01:51.986093Z"
    }
   },
   "source": [
    "import matplotlib.pyplot as plt\n",
    "\n",
    "pasajeros.npasajeros.plot(figsize=(10,3), title = \"Pasajeros\")\n",
    "plt.show()"
   ],
   "outputs": []
  },
  {
   "cell_type": "markdown",
   "id": "5356d9c2-bbaa-42ed-9d1a-0984bf650bcc",
   "metadata": {},
   "source": [
    "### b) Visualiza el número de pasajeros en función del tiempo agrupado por mes."
   ]
  },
  {
   "cell_type": "markdown",
   "id": "b6f8f438-7ff7-4b88-9420-03c2679c816c",
   "metadata": {},
   "source": [
    "Utilizamos el método resample() de pandas para poder agrupar por distintos intervalos de tiempo. (\"M\") agrupa las fechas por intervalos de meses"
   ]
  },
  {
   "cell_type": "code",
   "execution_count": 318,
   "id": "cd08b49e-08cd-4647-83a1-cde6e87fda7d",
   "metadata": {
    "tags": [],
    "ExecuteTime": {
     "end_time": "2024-03-08T05:01:53.984488Z",
     "start_time": "2024-03-08T05:01:52.714959Z"
    }
   },
   "source": [
    "# pasajeros.asfreq(\"m\")"
   ],
   "outputs": []
  },
  {
   "cell_type": "code",
   "execution_count": 319,
   "id": "e2a278ab-b3ba-4a51-aa74-3583ac37178e",
   "metadata": {
    "tags": [],
    "ExecuteTime": {
     "end_time": "2024-03-08T05:01:54.460741Z",
     "start_time": "2024-03-08T05:01:52.724421Z"
    }
   },
   "source": [
    "pasajeros_resample = pasajeros.resample(\"M\")[\"npasajeros\"].sum()\n",
    "pasajeros_resample =pd.DataFrame(pasajeros_resample)\n",
    "pasajeros_resample.head()"
   ],
   "outputs": []
  },
  {
   "cell_type": "code",
   "execution_count": 320,
   "id": "c40a8179-7dac-4e20-b85b-51523af3ac95",
   "metadata": {
    "tags": [],
    "ExecuteTime": {
     "end_time": "2024-03-08T05:01:54.856480Z",
     "start_time": "2024-03-08T05:01:52.868751Z"
    }
   },
   "source": [
    "pasajeros_resample.npasajeros.plot(figsize=(10,3), title = \"Pasajeros/mes\")\n",
    "plt.show()"
   ],
   "outputs": []
  },
  {
   "cell_type": "code",
   "execution_count": 321,
   "id": "9603f3d9-74af-4fae-ba8c-69daf93d104a",
   "metadata": {
    "tags": [],
    "ExecuteTime": {
     "end_time": "2024-03-08T05:01:56.207445Z",
     "start_time": "2024-03-08T05:01:53.589537Z"
    }
   },
   "source": [
    "sns.displot(pasajeros_resample)"
   ],
   "outputs": []
  },
  {
   "cell_type": "markdown",
   "id": "5dace91f-0259-476d-96b5-16566d6ede88",
   "metadata": {},
   "source": [
    "### c) Realiza una descomposición de la serie temporal para analizar la tendencia y la estacionalidad. ¿Se trata de una serie estacionaria?"
   ]
  },
  {
   "cell_type": "code",
   "execution_count": 322,
   "id": "ce10638d-40a6-4ed0-8549-77ea97ce8783",
   "metadata": {
    "tags": [],
    "ExecuteTime": {
     "end_time": "2024-03-08T05:01:58.830724Z",
     "start_time": "2024-03-08T05:01:55.039953Z"
    }
   },
   "source": [
    "descomposicion_aditiva_mes = seasonal_decompose(pasajeros_resample[\"npasajeros\"], model= \"additive\")\n",
    "descomposicion_aditiva_mes.plot()\n",
    "plt.show()"
   ],
   "outputs": []
  },
  {
   "cell_type": "code",
   "execution_count": 323,
   "id": "fa3285a3-974c-463b-99ef-0dcb7ace0749",
   "metadata": {
    "tags": [],
    "ExecuteTime": {
     "end_time": "2024-03-08T05:02:01.447340Z",
     "start_time": "2024-03-08T05:01:57.843792Z"
    }
   },
   "source": [
    "descomposicion_aditiva = seasonal_decompose(pasajeros[\"npasajeros\"], model= \"additive\")\n",
    "descomposicion_aditiva.plot()\n",
    "plt.show()"
   ],
   "outputs": []
  },
  {
   "cell_type": "markdown",
   "id": "5bee4dd4-2501-44cc-8932-91da265ca159",
   "metadata": {},
   "source": [
    "- Test de hipótesis: Obtenemos que el p valor es mayor a 0.05 por lo que la serie no parece estacionaria."
   ]
  },
  {
   "cell_type": "code",
   "execution_count": 324,
   "id": "f5357a57-2ac4-4d58-9e95-4b13ce6e0efc",
   "metadata": {
    "tags": [],
    "ExecuteTime": {
     "end_time": "2024-03-08T05:02:01.568680Z",
     "start_time": "2024-03-08T05:02:00.392526Z"
    }
   },
   "source": [
    "sts.adfuller(pasajeros.npasajeros)"
   ],
   "outputs": []
  },
  {
   "cell_type": "markdown",
   "id": "41fcb163-689c-4e10-81f7-318fc6cb023d",
   "metadata": {},
   "source": [
    "- QQplot"
   ]
  },
  {
   "cell_type": "code",
   "execution_count": 325,
   "id": "84d73867-ecd8-4540-87d0-91df3fe1e4b3",
   "metadata": {
    "tags": [],
    "ExecuteTime": {
     "end_time": "2024-03-08T05:02:01.902806Z",
     "start_time": "2024-03-08T05:02:00.446344Z"
    }
   },
   "source": [
    "scipy.stats.probplot(pasajeros.npasajeros, plot =  plt)\n",
    "#le pasamos la variable que queremos visualizar y el tipo de gráfico (matplotlib)\n",
    "plt.title(\"QQ Plot\", size = 15) \n",
    "plt.show()"
   ],
   "outputs": []
  },
  {
   "cell_type": "markdown",
   "id": "8b13b524-b5c4-4831-b988-99f1b2bb6717",
   "metadata": {},
   "source": [
    "### d) Determina las transformaciones que hace que la serie sea estacionaria. Recuerda que para ello debes prestar atención a la estacionalidad y la tendencia."
   ]
  },
  {
   "cell_type": "markdown",
   "id": "a979ba1d-3d34-4b41-87e7-4cbe29b3527e",
   "metadata": {},
   "source": [
    "-Tras analizar la gráfica de la estacionalidad por días, la serie no es estacional. En el caso de analizarla por meses sí sería estacional."
   ]
  },
  {
   "cell_type": "markdown",
   "id": "ffba27e9-db75-4c20-be54-6a1b0b826fc6",
   "metadata": {},
   "source": [
    "Test de Dickey Fuller"
   ]
  },
  {
   "cell_type": "code",
   "execution_count": 326,
   "id": "9e3e02ae-a78f-4617-b78a-91d6a31d9950",
   "metadata": {
    "tags": [],
    "ExecuteTime": {
     "end_time": "2024-03-08T05:02:01.930920Z",
     "start_time": "2024-03-08T05:02:00.904860Z"
    }
   },
   "source": [
    "sts.adfuller(descomposicion_aditiva.trend.dropna())"
   ],
   "outputs": []
  },
  {
   "cell_type": "code",
   "execution_count": 327,
   "id": "3181b32a-5789-4eae-8db0-68ce2f7aa380",
   "metadata": {
    "tags": [],
    "ExecuteTime": {
     "end_time": "2024-03-08T05:02:01.980753Z",
     "start_time": "2024-03-08T05:02:00.957132Z"
    }
   },
   "source": [
    "sts.adfuller(pasajeros.npasajeros.diff()[1:])"
   ],
   "outputs": []
  },
  {
   "cell_type": "code",
   "execution_count": 328,
   "id": "4e8ebe5c-ac89-400f-84fa-ace82f8dd59f",
   "metadata": {
    "tags": [],
    "ExecuteTime": {
     "end_time": "2024-03-08T05:02:03.146339Z",
     "start_time": "2024-03-08T05:02:01.041486Z"
    }
   },
   "source": [
    "plt.figure(figsize=(20,10))\n",
    "plt.plot(pasajeros.npasajeros.diff()[1:])\n",
    "plt.title(\"Plot for lagged PercentOfBaseline Vs Time for Chile\")\n",
    "plt.show()"
   ],
   "outputs": []
  },
  {
   "cell_type": "markdown",
   "id": "4b79400c-1b13-45ca-984e-11c71843a324",
   "metadata": {},
   "source": [
    "La tendencia con **una diferenciación** es estacionaria.  **d=1**"
   ]
  },
  {
   "cell_type": "markdown",
   "id": "e8757794-7a69-484d-b16c-c1c88289bff1",
   "metadata": {},
   "source": [
    "### e) Examina el correlograma y correlograma parcial de la serie. Esto te ayudará a seleccionar los parámetros para el modelo que deberás aplicar en el apartado siguiente."
   ]
  },
  {
   "cell_type": "markdown",
   "id": "83e6c15a-72f8-4b87-b064-67df1824685a",
   "metadata": {},
   "source": [
    "**Aplicamos el modelo ARIMA al carecer de estacionalidad**"
   ]
  },
  {
   "cell_type": "markdown",
   "id": "1188c8c9-e277-45cc-a9a4-4fa3b334b3c0",
   "metadata": {},
   "source": [
    "**Función de autocorrelación (cálculo de q)**"
   ]
  },
  {
   "cell_type": "code",
   "execution_count": 329,
   "id": "e6beaafb-9ef6-4377-9f88-8b516c1c4a45",
   "metadata": {
    "tags": [],
    "ExecuteTime": {
     "end_time": "2024-03-08T05:02:03.327649Z",
     "start_time": "2024-03-08T05:02:01.972054Z"
    }
   },
   "source": [
    "sgt.plot_acf(pasajeros.npasajeros.diff()[1:],\n",
    "             zero = False)\n",
    "plt.title(\"Autocorrelación\", size = 12)\n",
    "plt.show()"
   ],
   "outputs": []
  },
  {
   "cell_type": "markdown",
   "id": "23cf2670-d648-4025-8322-8ea60dfca245",
   "metadata": {},
   "source": [
    "**q =5**"
   ]
  },
  {
   "cell_type": "markdown",
   "id": "924ca76c-41b0-4357-b9d8-849bb1e4f421",
   "metadata": {},
   "source": [
    "**Función de autocorrelación parcial (cálculo de p)**"
   ]
  },
  {
   "cell_type": "code",
   "execution_count": 330,
   "id": "00dacf67-d491-4f09-9e1e-0d000b0ebbe6",
   "metadata": {
    "tags": [],
    "ExecuteTime": {
     "end_time": "2024-03-08T05:02:04.220313Z",
     "start_time": "2024-03-08T05:02:02.432440Z"
    }
   },
   "source": [
    "sgt.plot_pacf(pasajeros.npasajeros.diff()[1:],\n",
    "              zero = False, method = ('ols'))\n",
    "plt.title(\"Autocorrelación parcial\", size = 12)\n",
    "plt.show()"
   ],
   "outputs": []
  },
  {
   "cell_type": "markdown",
   "id": "cbf7200b-21df-4521-8678-1b5061890dce",
   "metadata": {},
   "source": [
    "**p =7**"
   ]
  },
  {
   "cell_type": "markdown",
   "id": "43905dea-28d5-4baf-a0bc-0dbdecfb6fde",
   "metadata": {},
   "source": [
    "### f) Aplica un modelo de series temporales para predecir el número de pasajeros. Para ello divide el dataset en 700 muestras para train y 90 para test."
   ]
  },
  {
   "cell_type": "markdown",
   "id": "96e07d7f-f36a-4dfc-bd53-e692e67c5fbb",
   "metadata": {},
   "source": [
    "- División entrenamiento y test:"
   ]
  },
  {
   "cell_type": "code",
   "execution_count": 331,
   "id": "ce92f5cb-52e2-408e-93b8-8454f4c1b61a",
   "metadata": {
    "tags": [],
    "ExecuteTime": {
     "end_time": "2024-03-08T05:02:04.291002Z",
     "start_time": "2024-03-08T05:02:02.889982Z"
    }
   },
   "source": [
    "print(len(pasajeros))\n",
    "\n",
    "train = pasajeros[[\"npasajeros\"]].iloc[:700]\n",
    "test = pasajeros[[\"npasajeros\"]].iloc[700:]\n",
    "print(len(train))\n",
    "print(len(test))"
   ],
   "outputs": []
  },
  {
   "cell_type": "code",
   "execution_count": 332,
   "id": "6f2e6ac1-1c8b-4b72-b262-6ff8ef1b5507",
   "metadata": {
    "tags": [],
    "ExecuteTime": {
     "end_time": "2024-03-08T05:02:04.360321Z",
     "start_time": "2024-03-08T05:02:02.905461Z"
    }
   },
   "source": [
    "train"
   ],
   "outputs": []
  },
  {
   "cell_type": "markdown",
   "id": "696c3b6f-2ee0-41dd-8798-41621cc94fa9",
   "metadata": {},
   "source": [
    "***Definición del modelo ARIMAX:***\n",
    "El modelo será p = 7, d = 1, q = 5."
   ]
  },
  {
   "cell_type": "markdown",
   "id": "5bebcfcd-70f0-4b96-8004-413868b30f57",
   "metadata": {},
   "source": [
    "Vamos a usar ahora a usar el modelo autoarima para encontrar los valores más óptimos de p y q y ver si coinciden aproximadamente con los calculados."
   ]
  },
  {
   "cell_type": "code",
   "execution_count": 333,
   "id": "ad4b5dda-3190-424b-8914-4102939bea70",
   "metadata": {
    "tags": [],
    "ExecuteTime": {
     "end_time": "2024-03-08T05:03:50.177240Z",
     "start_time": "2024-03-08T05:02:02.925073Z"
    }
   },
   "source": [
    "arima_model =  auto_arima(train,start_p=0, d=1, start_q=0,\n",
    "                          max_p=9, max_q=7, seasonal=False,\n",
    "                          error_action='warn',trace = True,\n",
    "                          supress_warnings=True,stepwise = True,\n",
    "                          random_state=20,n_fits = 50 )"
   ],
   "outputs": []
  },
  {
   "cell_type": "markdown",
   "id": "cf750791-d876-4653-ac3e-417f0b53c147",
   "metadata": {},
   "source": [
    "Una vez encontrado el mejor modelo, vamos a seleccionarlo y entrenar un modelo ARIMA con él:"
   ]
  },
  {
   "cell_type": "code",
   "execution_count": 334,
   "id": "44349b29-fd58-462a-92b5-c0e235fba4d7",
   "metadata": {
    "tags": [],
    "ExecuteTime": {
     "end_time": "2024-03-08T05:03:54.037531Z",
     "start_time": "2024-03-08T05:03:50.161757Z"
    }
   },
   "source": [
    "modelArima = ARIMA(train, order = (7,1,7))\n",
    "resultados = modelArima.fit()"
   ],
   "outputs": []
  },
  {
   "cell_type": "markdown",
   "id": "fe5cf4ce-229e-4efb-b13a-37411537e892",
   "metadata": {},
   "source": [
    "### g) Visualiza el resultado en una gráfica en la que se muestren tanto la serie predicha como la serie real."
   ]
  },
  {
   "cell_type": "code",
   "execution_count": 335,
   "id": "308153ca-8383-4d01-aa6f-12aa77c4ba11",
   "metadata": {
    "tags": [],
    "ExecuteTime": {
     "end_time": "2024-03-08T05:03:54.287006Z",
     "start_time": "2024-03-08T05:03:54.042422Z"
    }
   },
   "source": [
    "inicio_prediccion = len(train)\n",
    "fin_prediccion = len(test)\n",
    "test[\"prediccion\"] = resultados.predict(\n",
    "    start=inicio_prediccion,end=inicio_prediccion + fin_prediccion)"
   ],
   "outputs": []
  },
  {
   "cell_type": "code",
   "execution_count": 336,
   "id": "86d37c96-aec7-4783-999c-842012959505",
   "metadata": {
    "tags": [],
    "ExecuteTime": {
     "end_time": "2024-03-08T05:03:55.113612Z",
     "start_time": "2024-03-08T05:03:54.067244Z"
    }
   },
   "source": [
    "plt.figure(figsize=(20, 6))\n",
    "plt.plot(train)\n",
    "plt.plot(test[\"npasajeros\"]) \n",
    "plt.plot(test[\"prediccion\"])\n",
    "plt.xticks(rotation = 90)\n",
    "plt.xlabel(\"Fecha\")\n",
    "plt.ylabel(\"Número de pasajeros\")"
   ],
   "outputs": []
  },
  {
   "cell_type": "markdown",
   "id": "0b75cef0-387e-469b-9fa6-6dddec28de2f",
   "metadata": {},
   "source": [
    "### h) Utiliza el rmse para medir el resultado de tu modelo."
   ]
  },
  {
   "cell_type": "code",
   "execution_count": 337,
   "id": "2718e3c1-6d3e-4034-b60a-08fcd36981d0",
   "metadata": {
    "tags": [],
    "ExecuteTime": {
     "end_time": "2024-03-08T05:03:55.220220Z",
     "start_time": "2024-03-08T05:03:55.113160Z"
    }
   },
   "source": [
    "MSE = mean_squared_error(test[\"npasajeros\"],test[\"prediccion\"])\n",
    "RMSE = np.sqrt(MSE)\n",
    "print(\"Root Mean Square Error:\", RMSE)"
   ],
   "outputs": []
  },
  {
   "cell_type": "markdown",
   "id": "e18caad8-5036-4855-a405-56f65440c41a",
   "metadata": {},
   "source": [
    "### i) Trata de mejorar los resultados añadiendo variables exógenas al modelo."
   ]
  },
  {
   "cell_type": "markdown",
   "id": "fdf8a0c2-e748-469b-b8e8-2241b98dce09",
   "metadata": {},
   "source": [
    "Consideramos que las variantes exógenas que más pueden afectar son la intensidad de lluvia y la ocupación de tráfico"
   ]
  },
  {
   "cell_type": "code",
   "execution_count": 338,
   "id": "6612d7a4-8974-4788-8b8c-24bd5c3ecfc6",
   "metadata": {
    "tags": [],
    "ExecuteTime": {
     "end_time": "2024-03-08T05:03:56.074637Z",
     "start_time": "2024-03-08T05:03:55.122269Z"
    }
   },
   "source": [
    "pasajeros.describe()"
   ],
   "outputs": []
  },
  {
   "cell_type": "markdown",
   "id": "97601d83-2d7b-4cd5-9467-969ec43141c8",
   "metadata": {},
   "source": [
    "Introducimos la variable exógena: inten_lluvia"
   ]
  },
  {
   "cell_type": "code",
   "execution_count": 339,
   "id": "433ed788-32d6-47e8-894b-5f6f5e81a9da",
   "metadata": {
    "tags": [],
    "ExecuteTime": {
     "end_time": "2024-03-08T05:03:59.725069Z",
     "start_time": "2024-03-08T05:03:55.179443Z"
    }
   },
   "source": [
    "modelArima = ARIMA(train,\n",
    "                   exog = pasajeros[[\"inten_lluvia\"]].iloc[:700],\n",
    "                   order = (7,1,7))\n",
    "\n",
    "resultados = modelArima.fit()"
   ],
   "outputs": []
  },
  {
   "cell_type": "code",
   "execution_count": 340,
   "id": "3889456c-7a89-4c06-8352-1d7790585b77",
   "metadata": {
    "tags": [],
    "ExecuteTime": {
     "end_time": "2024-03-08T05:03:59.867651Z",
     "start_time": "2024-03-08T05:03:59.731018Z"
    }
   },
   "source": [
    "inicio_prediccion = len(train)\n",
    "fin_prediccion = len(test)\n",
    "test[\"prediccion\"] = resultados.predict(\n",
    "    start=inicio_prediccion,end=inicio_prediccion + fin_prediccion -1,exog = pasajeros[[\"inten_lluvia\"]].iloc[700:])"
   ],
   "outputs": []
  },
  {
   "cell_type": "code",
   "execution_count": 341,
   "id": "36d48215-3f6e-4f31-ace0-af7d561c64ff",
   "metadata": {
    "tags": [],
    "ExecuteTime": {
     "end_time": "2024-03-08T05:04:00.776943Z",
     "start_time": "2024-03-08T05:03:59.774509Z"
    }
   },
   "source": [
    "plt.figure(figsize=(20, 6))\n",
    "plt.plot(train)\n",
    "plt.plot(pasajeros[\"inten_lluvia\"])\n",
    "plt.plot(test[\"npasajeros\"]) \n",
    "plt.plot(test[\"prediccion\"])\n",
    "plt.xticks(rotation = 90)\n",
    "plt.xlabel(\"Fecha\")\n",
    "plt.ylabel(\"Número de pasajeros\")"
   ],
   "outputs": []
  },
  {
   "cell_type": "code",
   "execution_count": 342,
   "id": "2fbc6509-d492-44ae-83a0-724d823c389f",
   "metadata": {
    "tags": [],
    "ExecuteTime": {
     "end_time": "2024-03-08T05:04:00.856264Z",
     "start_time": "2024-03-08T05:04:00.754515Z"
    }
   },
   "source": [
    "MSE = mean_squared_error(test[\"npasajeros\"],test[\"prediccion\"])\n",
    "RMSE = np.sqrt(MSE)\n",
    "print(\"Root Mean Square Error con la variable éxogena intensidad de lluvia:\", RMSE)"
   ],
   "outputs": []
  },
  {
   "cell_type": "markdown",
   "id": "08fc445c-4938-45e6-b5dc-d4e4a629a36e",
   "metadata": {},
   "source": [
    "- Introducimos la variable exógena: ocupacion_trafico"
   ]
  },
  {
   "cell_type": "code",
   "execution_count": 343,
   "id": "b066df49-126b-40f5-bdfc-74779f7a8ee8",
   "metadata": {
    "tags": [],
    "ExecuteTime": {
     "end_time": "2024-03-08T05:04:05.095758Z",
     "start_time": "2024-03-08T05:04:00.770829Z"
    }
   },
   "source": [
    "modelArima = ARIMA(train,\n",
    "                   exog = pasajeros[[\"ocupacion_trafico\"]].iloc[:700],\n",
    "                   order = (7,1,7))\n",
    "\n",
    "resultados = modelArima.fit()"
   ],
   "outputs": []
  },
  {
   "cell_type": "code",
   "execution_count": 344,
   "id": "3820d490-fde4-47fb-ba9c-3e73ffb8d9b4",
   "metadata": {
    "tags": [],
    "ExecuteTime": {
     "end_time": "2024-03-08T05:04:05.241680Z",
     "start_time": "2024-03-08T05:04:05.105835Z"
    }
   },
   "source": [
    "inicio_prediccion = len(train)\n",
    "fin_prediccion = len(test)\n",
    "test[\"prediccion\"] = resultados.predict(\n",
    "    start=inicio_prediccion,end=inicio_prediccion + fin_prediccion -1,exog = pasajeros[[\"ocupacion_trafico\"]].iloc[700:])"
   ],
   "outputs": []
  },
  {
   "cell_type": "code",
   "execution_count": 345,
   "id": "2f644702-12c5-4db9-b66c-584bf1b1f4db",
   "metadata": {
    "scrolled": true,
    "tags": [],
    "ExecuteTime": {
     "end_time": "2024-03-08T05:04:06.150387Z",
     "start_time": "2024-03-08T05:04:05.167890Z"
    }
   },
   "source": [
    "plt.figure(figsize=(20, 6))\n",
    "plt.plot(train)\n",
    "plt.plot(pasajeros[\"ocupacion_trafico\"])\n",
    "plt.plot(test[\"npasajeros\"]) \n",
    "plt.plot(test[\"prediccion\"])\n",
    "plt.xticks(rotation = 90)\n",
    "plt.xlabel(\"Fecha\")\n",
    "plt.ylabel(\"Número de pasajeros\")"
   ],
   "outputs": []
  },
  {
   "cell_type": "code",
   "execution_count": 346,
   "id": "a7a9c99e-1e84-48c8-8098-934976ff232e",
   "metadata": {
    "tags": [],
    "ExecuteTime": {
     "end_time": "2024-03-08T05:04:06.206226Z",
     "start_time": "2024-03-08T05:04:06.129761Z"
    }
   },
   "source": [
    "MSE = mean_squared_error(test[\"npasajeros\"],test[\"prediccion\"])\n",
    "RMSE = np.sqrt(MSE)\n",
    "print(\"Root Mean Square Error con la variable éxogena ocupación de tráfico:\", RMSE)"
   ],
   "outputs": []
  },
  {
   "cell_type": "markdown",
   "id": "efff907e-43db-467a-8060-3d774e444429",
   "metadata": {},
   "source": [
    "**Conclusiones:**\n",
    "Al introducir la variable exógena disminuye el error en la predicción"
   ]
  }
 ],
 "metadata": {
  "kernelspec": {
   "display_name": "Python 3 (ipykernel)",
   "language": "python",
   "name": "python3"
  },
  "language_info": {
   "codemirror_mode": {
    "name": "ipython",
    "version": 3
   },
   "file_extension": ".py",
   "mimetype": "text/x-python",
   "name": "python",
   "nbconvert_exporter": "python",
   "pygments_lexer": "ipython3",
   "version": "3.11.5"
  }
 },
 "nbformat": 4,
 "nbformat_minor": 5
}
