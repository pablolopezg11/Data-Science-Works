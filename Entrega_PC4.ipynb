{
 "cells": [
  {
   "cell_type": "markdown",
   "id": "bcec9d87-38e7-4b4d-97d5-ff3aef72ae91",
   "metadata": {
    "tags": []
   },
   "source": [
    "’’’’<br/>\n",
    "\n",
    "<img src=\"https://uploads-ssl.webflow.com/614b1fe22fa8b90ef41aeffe/6265cb48f9496b1cefc9ab75_logotipo-mbit-39.png\" width=\"200px\" align=\"right\" CLASS=\"TextWrap\" style=\"background-color:#2a3f3f;\">\n",
    "\n",
    "<h1><font color=\"#2a3f3f\" size=5></font></h1>\n",
    "\n",
    "<br/>\n",
    "<div style=\"text-align: right\">\n",
    "<font color=\"#2a3f3f\" size=3>Javier Cózar - javier.cozar@mbitschool.com</font><br>\n",
    "<font color=\"#2a3f3f\" size=3>M07 - Proyecto de consolidación</font><br>\n",
    "</div>\n"
   ]
  },
  {
   "cell_type": "markdown",
   "id": "63e44c93",
   "metadata": {},
   "source": [
    "En este proyecto de consolidación vamos a aprender un modelo de detección del sentimiento utilizando MLlib. Una vez aprendido serializaremos el modelo en S3, lo que nos permitirá realizar predicciones siempre que queramos leyendo el modelo serializado con una simple instrucción.\n",
    "\n",
    "Para ello utilizaremos el dataset de [__amazon reviews__](https://s3.amazonaws.com/amazon-reviews-pds/readme.html) que antes estaba disponible de manera pública a través de un bucket de AWS S3, pero que han bloqueado el acceso por razones internas. En la siguiente URL podemos encontrar una versión del dataset público de amazon que contiene una gran cantidad de reviews generadas a lo largo de los años.\n",
    "\n",
    "https://cseweb.ucsd.edu/~jmcauley/datasets/amazon_v2/\n",
    "\n",
    "Puedes descargar el dataset original en la sección de **Files**. Sin embargo, para evitar descargar un dataset tan pesado, en la carpeta `data/amazon-reviews/` encontrarás un subset de los datos de la categoría `Electronics` en formato parquet. Debes subir esta carpeta a AWS S3 para poder trabajar con estos datos."
   ]
  },
  {
   "cell_type": "markdown",
   "id": "e21923a1-0671-4339-bbe6-f4cd63fb35cb",
   "metadata": {},
   "source": [
    "## Configuración de la sesión de glue"
   ]
  },
  {
   "cell_type": "code",
   "execution_count": null,
   "id": "39224fd1-31a7-4a9b-9039-e50bd97cd901",
   "metadata": {},
   "outputs": [],
   "source": [
    "%env AWS_ACCESS_KEY_ID=...\n",
    "%env AWS_SECRET_ACCESS_KEY=...    #No pongo las credenciales porque se introducen en DataSpell en el txt de las credenciales\n",
    "%env AWS_SESSION_TOKEN=..."
   ]
  },
  {
   "cell_type": "code",
   "id": "1c5866cc-ba20-4c07-abd3-d657767fb3ad",
   "metadata": {
    "ExecuteTime": {
     "end_time": "2024-06-02T15:34:52.932980Z",
     "start_time": "2024-06-02T15:34:52.357491Z"
    }
   },
   "source": [
    "%iam_role arn:aws:iam::730335631817:role/LabRole\n",
    "%region us-east-1\n",
    "%number_of_workers 2\n",
    "%worker_type G.1X\n",
    "%idle_timeout 120"
   ],
   "outputs": [
    {
     "name": "stdout",
     "output_type": "stream",
     "text": [
      "Welcome to the Glue Interactive Sessions Kernel\n",
      "For more information on available magic commands, please type %help in any new cell.\n",
      "\n",
      "Please view our Getting Started page to access the most up-to-date information on the Interactive Sessions kernel: https://docs.aws.amazon.com/glue/latest/dg/interactive-sessions.html\n",
      "It looks like there is a newer version of the kernel available. The latest version is 1.0.6 and you have 1.0.5 installed.\n",
      "Please run `pip install --upgrade aws-glue-sessions` to upgrade your kernel\n",
      "Current iam_role is None\n",
      "iam_role has been set to arn:aws:iam::730335631817:role/LabRole.\n",
      "Previous region: None\n",
      "Setting new region to: us-east-1\n",
      "Region is set to: us-east-1\n",
      "Previous number of workers: None\n",
      "Setting new number of workers to: 2\n",
      "Previous worker type: None\n",
      "Setting new worker type to: G.1X\n",
      "Current idle_timeout is None minutes.\n",
      "idle_timeout has been set to 120 minutes.\n"
     ]
    }
   ],
   "execution_count": 10
  },
  {
   "metadata": {
    "ExecuteTime": {
     "end_time": "2024-06-02T15:35:27.345556Z",
     "start_time": "2024-06-02T15:34:57.638552Z"
    }
   },
   "cell_type": "code",
   "source": "spark",
   "id": "c3d542e7aa3bc386",
   "outputs": [
    {
     "name": "stdout",
     "output_type": "stream",
     "text": [
      "Trying to create a Glue session for the kernel.\n",
      "Session Type: etl\n",
      "Worker Type: G.1X\n",
      "Number of Workers: 2\n",
      "Idle Timeout: 120\n",
      "Session ID: a506606c-02b7-4188-bfeb-aceb5bec75fc\n",
      "Applying the following default arguments:\n",
      "--glue_kernel_version 1.0.5\n",
      "--enable-glue-datacatalog true\n",
      "Waiting for session a506606c-02b7-4188-bfeb-aceb5bec75fc to get into ready status...\n",
      "Session a506606c-02b7-4188-bfeb-aceb5bec75fc has been created.\n",
      "<pyspark.sql.session.SparkSession object at 0x7efd53fcdd80>\n"
     ]
    }
   ],
   "execution_count": 1
  },
  {
   "cell_type": "markdown",
   "id": "38b50651-dd35-48ef-9d5b-5a22ffbee829",
   "metadata": {},
   "source": [
    "Importamos las librerías necesarias"
   ]
  },
  {
   "cell_type": "code",
   "id": "cd97d19d",
   "metadata": {
    "tags": [],
    "ExecuteTime": {
     "end_time": "2024-06-02T15:36:22.199531Z",
     "start_time": "2024-06-02T15:36:02.271991Z"
    }
   },
   "source": [
    "import pandas as pd\n",
    "import seaborn as sns\n",
    "import matplotlib.pyplot as plt\n",
    "import pyspark.sql.functions as f"
   ],
   "outputs": [
    {
     "name": "stdout",
     "output_type": "stream",
     "text": [
      "\n"
     ]
    }
   ],
   "execution_count": 3
  },
  {
   "cell_type": "markdown",
   "id": "1cab1aa6-7351-4b99-933b-7bfa4e6191a2",
   "metadata": {},
   "source": [
    "Define el nombre de tu bucket de S3 aquí, donde subiremos los datos:"
   ]
  },
  {
   "cell_type": "code",
   "id": "90bf129e-250e-4aa2-b09f-1464c47ffa9a",
   "metadata": {
    "ExecuteTime": {
     "end_time": "2024-06-02T15:36:25.803841Z",
     "start_time": "2024-06-02T15:36:25.096728Z"
    }
   },
   "source": "BUCKET_NAME = \"pc4-mbit-pablolopez\"",
   "outputs": [
    {
     "name": "stdout",
     "output_type": "stream",
     "text": [
      "\n"
     ]
    }
   ],
   "execution_count": 5
  },
  {
   "cell_type": "markdown",
   "id": "f1d7be47",
   "metadata": {},
   "source": [
    "## Fase 1: Carga y análisis exploratorio\n",
    "\n",
    "Cargar el dataset a partir de los ficheros parquet y verificar el esquema. Muestra también las primeras filas del mismo."
   ]
  },
  {
   "cell_type": "markdown",
   "id": "75accd57",
   "metadata": {},
   "source": [
    "#### Carga los datos del bucket original"
   ]
  },
  {
   "cell_type": "code",
   "id": "0c90ed8e",
   "metadata": {
    "tags": [],
    "ExecuteTime": {
     "end_time": "2024-06-02T15:36:42.563484Z",
     "start_time": "2024-06-02T15:36:30.393488Z"
    }
   },
   "source": [
    "df = (\n",
    "    spark\n",
    "    .read\n",
    "    .format(\"parquet\")\n",
    "    .load(\"s3://pc4-mbit-pablolopez/data/amazon-reviews/\")\n",
    ")"
   ],
   "outputs": [
    {
     "name": "stdout",
     "output_type": "stream",
     "text": [
      "\n"
     ]
    }
   ],
   "execution_count": 7
  },
  {
   "metadata": {
    "ExecuteTime": {
     "end_time": "2024-06-02T15:36:53.048675Z",
     "start_time": "2024-06-02T15:36:47.498633Z"
    }
   },
   "cell_type": "code",
   "source": "df.show()",
   "id": "d5ea1f3deb67f886",
   "outputs": [
    {
     "name": "stdout",
     "output_type": "stream",
     "text": [
      "+----------+-------+--------------------+--------------------+-----------+--------------+------------------+--------+----+-----------+\n",
      "|      asin|overall|             summary|          reviewText| reviewTime|    reviewerID|      reviewerName|verified|vote|   category|\n",
      "+----------+-------+--------------------+--------------------+-----------+--------------+------------------+--------+----+-----------+\n",
      "|B00007E7JU|    4.0|        light sponge|Super cheap and s...| 09 5, 2009|A29IP2N2DSBH3T|Ben B. Photography|    true|null|electronics|\n",
      "|B000068U29|    1.0|Display stopped w...|While it worked, ...| 11 3, 2003|A198CCH4NNLI2E|    Jonathan Birge|   false|null|electronics|\n",
      "|B00004ZCKA|    1.0|  Very disappointed.|Had to send them ...|01 13, 2009|A2HQHL396BKNP6|         Geoffreyo|   false|   9|electronics|\n",
      "|B00008BO8M|    5.0|           Excellent|This thing is fan...|01 28, 2008|A1IK26QYTPLDWG| Terry D. Anderson|    true|   8|electronics|\n",
      "|B000092TT0|    5.0|               Great|Its pretty hard t...|12 31, 2013| AUF2GD7P3YN3I|     Senior Seegee|    true|null|electronics|\n",
      "|B00004ZCJI|    5.0|          Five Stars|Bon produit et li...|08 23, 2015| AA4MLHJVEU8FT|     J.L. Thriault|    true|null|electronics|\n",
      "|B00007E7JU|    5.0|        Great photos|Ive only used it ...|02 27, 2016|A29HTPTAH1VKXL|           B. Carr|    true|null|electronics|\n",
      "|B00004SABB|    4.0|Good for concerts +1|These are better ...|01 15, 2016|A379D0HHJTJT6D|               Jes|    true|null|electronics|\n",
      "|B000065BPB|    4.0|Great headphones,...|The sound quality...| 11 1, 2013|A3K4KFM1Y2NVZF|               Jim|    true|null|electronics|\n",
      "|B00006HSYC|    5.0|               great|Can't beat the pr...|05 21, 2012|A2COXS0GEGQVIN|           Mandyii|    true|null|electronics|\n",
      "|B0000BZM56|    5.0|           very nice|Lost the original...|02 12, 2010| AD4JAOKP7AHLJ|        D Matthews|    true|null|electronics|\n",
      "|B0000DIESW|    4.0|          Four Stars|worked for my nee...|05 13, 2017| A6ZX8EJP2X2JB|              Hawk|   false|null|electronics|\n",
      "|B0000BVDM7|    5.0|            Lens Cap|New factory lens ...|01 16, 2012|A2O4ZCXD06GTD4|       ken norberg|    true|null|electronics|\n",
      "|B00006IW1X|    5.0|          Five Stars|Nice I will be bu...|03 11, 2015|A3TCTREMYOBYN6|            BigDog|    true|null|electronics|\n",
      "|B00004UFRO|    3.0|These work at ver...|5-10 feet is the ...|12 17, 2013|A3RQNQD090NUN1|            Matt A|    true|null|electronics|\n",
      "|B00017LSPI|    5.0|Good for blowing ...|Good for blowing ...|01 22, 2013|A2CEXG5KTTSW10|           M. Bose|    true|null|electronics|\n",
      "|B00009UHKW|    5.0|        Works great!|This adapter work...|10 24, 2009|A3D6OHGHXN95AS|   William Jackson|    true|null|electronics|\n",
      "|B00004ZC95|    4.0|          Four Stars|   very good quality|12 29, 2014|A16X3MH2FG1JOD|              Bill|    true|null|electronics|\n",
      "|B00004WCID|    4.0|Good quality and ...|I bought this to ...| 09 4, 2013|A28X0LT2100RL1|          Eusebius|    true|null|electronics|\n",
      "|B00000JBUI|    5.0|     Great Trackball|I have had three ...|10 26, 2013|A2D333TODX15EN|Sherrie I. Laforce|    true|   2|electronics|\n",
      "+----------+-------+--------------------+--------------------+-----------+--------------+------------------+--------+----+-----------+\n",
      "only showing top 20 rows\n"
     ]
    }
   ],
   "execution_count": 9
  },
  {
   "metadata": {
    "ExecuteTime": {
     "end_time": "2024-06-02T15:37:01.255633Z",
     "start_time": "2024-06-02T15:37:00.618089Z"
    }
   },
   "cell_type": "code",
   "source": "df.printSchema()",
   "id": "bba1977b02f0159b",
   "outputs": [
    {
     "name": "stdout",
     "output_type": "stream",
     "text": [
      "root\n",
      " |-- asin: string (nullable = true)\n",
      " |-- overall: double (nullable = true)\n",
      " |-- summary: string (nullable = true)\n",
      " |-- reviewText: string (nullable = true)\n",
      " |-- reviewTime: string (nullable = true)\n",
      " |-- reviewerID: string (nullable = true)\n",
      " |-- reviewerName: string (nullable = true)\n",
      " |-- verified: boolean (nullable = true)\n",
      " |-- vote: string (nullable = true)\n",
      " |-- category: string (nullable = true)\n"
     ]
    }
   ],
   "execution_count": 11
  },
  {
   "metadata": {
    "ExecuteTime": {
     "end_time": "2024-06-02T15:37:43.044717Z",
     "start_time": "2024-06-02T15:37:02.821641Z"
    }
   },
   "cell_type": "code",
   "source": "df.describe()",
   "id": "a7f4d2140b380751",
   "outputs": [
    {
     "name": "stdout",
     "output_type": "stream",
     "text": [
      "DataFrame[summary: string, asin: string, overall: string, summary: string, reviewText: string, reviewTime: string, reviewerID: string, reviewerName: string, vote: string, category: string]\n"
     ]
    }
   ],
   "execution_count": 13
  },
  {
   "cell_type": "markdown",
   "id": "b83290dc",
   "metadata": {},
   "source": [
    "#### Cuenta el total de elementos"
   ]
  },
  {
   "cell_type": "code",
   "id": "0f26ac08",
   "metadata": {
    "tags": [],
    "ExecuteTime": {
     "end_time": "2024-06-02T15:37:44.834503Z",
     "start_time": "2024-06-02T15:37:43.047165Z"
    }
   },
   "source": "df.count()",
   "outputs": [
    {
     "name": "stdout",
     "output_type": "stream",
     "text": [
      "599973\n"
     ]
    }
   ],
   "execution_count": 14
  },
  {
   "cell_type": "markdown",
   "id": "3bd8265b",
   "metadata": {},
   "source": [
    "### Análisis exploratorio\n",
    "\n",
    "Resuelve las siguientes cuestiones haciendo queries y también de manera gráfica"
   ]
  },
  {
   "cell_type": "markdown",
   "id": "3fe7ca7e",
   "metadata": {},
   "source": "- Muestra el total de reviews para cada posible número de estrellas recibidas (`overall`)"
  },
  {
   "metadata": {
    "ExecuteTime": {
     "end_time": "2024-06-02T15:37:45.384910Z",
     "start_time": "2024-06-02T15:37:44.836448Z"
    }
   },
   "cell_type": "code",
   "source": [
    "df_count = (\n",
    "    df\n",
    "    .groupBy(\"overall\")\n",
    "    .count()\n",
    ")"
   ],
   "id": "3c6a927da94dc4a6",
   "outputs": [
    {
     "name": "stdout",
     "output_type": "stream",
     "text": [
      "\n"
     ]
    }
   ],
   "execution_count": 15
  },
  {
   "metadata": {
    "ExecuteTime": {
     "end_time": "2024-06-02T15:37:47.163839Z",
     "start_time": "2024-06-02T15:37:45.387399Z"
    }
   },
   "cell_type": "code",
   "source": "df_count.show()",
   "id": "1bd5db19386b59f6",
   "outputs": [
    {
     "name": "stdout",
     "output_type": "stream",
     "text": [
      "+-------+------+\n",
      "|overall| count|\n",
      "+-------+------+\n",
      "|    4.0|101991|\n",
      "|    1.0| 39868|\n",
      "|    3.0| 44377|\n",
      "|    5.0|386898|\n",
      "|    2.0| 26839|\n",
      "+-------+------+\n"
     ]
    }
   ],
   "execution_count": 16
  },
  {
   "metadata": {
    "ExecuteTime": {
     "end_time": "2024-06-02T15:37:48.945908Z",
     "start_time": "2024-06-02T15:37:47.164832Z"
    }
   },
   "cell_type": "code",
   "source": "df_count_graf = df_count.toPandas()",
   "id": "7d0b3eb8fa136102",
   "outputs": [
    {
     "name": "stdout",
     "output_type": "stream",
     "text": [
      "\n"
     ]
    }
   ],
   "execution_count": 17
  },
  {
   "metadata": {
    "ExecuteTime": {
     "end_time": "2024-06-02T15:37:50.885984Z",
     "start_time": "2024-06-02T15:37:48.947576Z"
    }
   },
   "cell_type": "code",
   "source": [
    "sns.catplot(data=df_count_graf,kind=\"bar\",x=\"overall\",y=\"count\")\n",
    "%matplot plt"
   ],
   "id": "b81b342b2d7f10e7",
   "outputs": [
    {
     "name": "stdout",
     "output_type": "stream",
     "text": [
      "<seaborn.axisgrid.FacetGrid object at 0x7efd30b42f20>\n",
      "\n"
     ]
    },
    {
     "data": {
      "image/png": "[encoded data removed]"
     },
     "metadata": {
      "image/png": {
       "width": 640,
       "height": 480
      }
     },
     "output_type": "display_data"
    }
   ],
   "execution_count": 18
  },
  {
   "cell_type": "markdown",
   "id": "9efe9f32",
   "metadata": {},
   "source": "- Obtén los 10 productos (columna `asin`) con más reviews mostrando numero de votos y valoración media"
  },
  {
   "metadata": {
    "ExecuteTime": {
     "end_time": "2024-06-02T15:37:54.733011Z",
     "start_time": "2024-06-02T15:37:54.195211Z"
    }
   },
   "cell_type": "code",
   "source": [
    "df_top10 = (\n",
    "    df\n",
    "    .groupBy(\"asin\")\n",
    "    .agg(\n",
    "        f.sum(\"vote\").alias(\"total_votes\"),\n",
    "        f.mean(\"overall\").alias(\"mean_overall\")\n",
    "    )\n",
    "    .orderBy\n",
    "    (f.desc(\"total_votes\"))\n",
    "    .limit(10)\n",
    ")"
   ],
   "id": "4cdd9b573cb21c4e",
   "outputs": [
    {
     "name": "stdout",
     "output_type": "stream",
     "text": [
      "\n"
     ]
    }
   ],
   "execution_count": 20
  },
  {
   "metadata": {
    "ExecuteTime": {
     "end_time": "2024-06-02T15:37:58.980007Z",
     "start_time": "2024-06-02T15:37:55.952575Z"
    }
   },
   "cell_type": "code",
   "source": "df_top10.show()",
   "id": "5d91d252c5cdac7d",
   "outputs": [
    {
     "name": "stdout",
     "output_type": "stream",
     "text": [
      "+----------+-----------+------------------+\n",
      "|      asin|total_votes|      mean_overall|\n",
      "+----------+-----------+------------------+\n",
      "|B00112DQXO|     1944.0|           4.68125|\n",
      "|B0012YFY54|     1647.0|               4.6|\n",
      "|B0099XGZXA|     1315.0|3.8275862068965516|\n",
      "|B00752R9SW|     1279.0| 4.523809523809524|\n",
      "|B0007U00XA|     1124.0| 4.484848484848484|\n",
      "|B00FB45SI4|     1083.0| 4.163157894736842|\n",
      "|B00IEZGWI2|     1051.0| 4.086956521739131|\n",
      "|B000V1XLNG|     1023.0|               4.0|\n",
      "|B006U1VH2S|     1014.0| 4.282051282051282|\n",
      "|B00RKNND2W|     1004.0|               4.0|\n",
      "+----------+-----------+------------------+\n"
     ]
    }
   ],
   "execution_count": 22
  },
  {
   "metadata": {
    "ExecuteTime": {
     "end_time": "2024-06-02T15:38:00.787329Z",
     "start_time": "2024-06-02T15:37:58.982288Z"
    }
   },
   "cell_type": "code",
   "source": "df_top10_graf = df_top10.toPandas()",
   "id": "a4d1f2db61beefc4",
   "outputs": [
    {
     "name": "stdout",
     "output_type": "stream",
     "text": [
      "\n"
     ]
    }
   ],
   "execution_count": 23
  },
  {
   "metadata": {
    "ExecuteTime": {
     "end_time": "2024-06-02T15:38:06.670511Z",
     "start_time": "2024-06-02T15:38:04.823475Z"
    }
   },
   "cell_type": "code",
   "source": [
    "sns.catplot(data=df_top10_graf,kind=\"bar\",x=\"total_votes\",y=\"asin\", aspect=2)\n",
    "%matplot plt"
   ],
   "id": "bbf4bb879a69e4c5",
   "outputs": [
    {
     "name": "stdout",
     "output_type": "stream",
     "text": [
      "<seaborn.axisgrid.FacetGrid object at 0x7efd53fcece0>\n",
      "\n"
     ]
    },
    {
     "data": {
      "image/png": "[encoded data removed]"
     },
     "metadata": {
      "image/png": {
       "width": 640,
       "height": 480
      }
     },
     "output_type": "display_data"
    }
   ],
   "execution_count": 25
  },
  {
   "cell_type": "markdown",
   "id": "069fcfcc",
   "metadata": {},
   "source": "- Obtén la cantidad de reviews por mes y año y su valoración media"
  },
  {
   "cell_type": "code",
   "id": "2d594482-e4f8-4885-8be6-0dff4c4848cf",
   "metadata": {
    "ExecuteTime": {
     "end_time": "2024-06-02T15:38:40.859333Z",
     "start_time": "2024-06-02T15:38:37.591926Z"
    }
   },
   "source": [
    "df_fechas = (\n",
    "    df\n",
    "    .withColumn(\n",
    "        \"reviewTime\", f.to_date(\"reviewTime\", \"MM d, yyyy\")\n",
    "    )\n",
    "    \n",
    "    .withColumn(\n",
    "        \"year\", f.year(\"reviewTime\")\n",
    "    )\n",
    "    \n",
    "    .withColumn(\n",
    "        \"month\", f.month(\"reviewTime\")\n",
    "    )\n",
    "    \n",
    "    .groupBy(\"year\", \"month\")\n",
    "    \n",
    "    .agg(\n",
    "        f.count(\"asin\").alias(\"total_reviews\"),\n",
    "        f.mean(\"overall\").alias(\"mean_overall\")\n",
    "    )\n",
    "    .orderBy([\"year\", \"month\"], ascending=[False, False])\n",
    ").show()"
   ],
   "outputs": [
    {
     "name": "stdout",
     "output_type": "stream",
     "text": [
      "+----+-----+-------------+------------------+\n",
      "|year|month|total_reviews|      mean_overall|\n",
      "+----+-----+-------------+------------------+\n",
      "|2018|    9|           88| 4.056818181818182|\n",
      "|2018|    8|          620| 4.174193548387096|\n",
      "|2018|    7|         1408| 4.279829545454546|\n",
      "|2018|    6|         2056| 4.320525291828794|\n",
      "|2018|    5|         2844|4.3048523206751055|\n",
      "|2018|    4|         3649| 4.339545080844067|\n",
      "|2018|    3|         4309| 4.324669296820608|\n",
      "|2018|    2|         4118| 4.315930063137445|\n",
      "|2018|    1|         4904| 4.308727569331158|\n",
      "|2017|   12|         4374| 4.256515775034294|\n",
      "|2017|   11|         4344| 4.272329650092081|\n",
      "|2017|   10|         4562| 4.266768960982025|\n",
      "|2017|    9|         4761| 4.306448225162781|\n",
      "|2017|    8|         5536| 4.297145953757226|\n",
      "|2017|    7|         5638| 4.276516495211068|\n",
      "|2017|    6|         5477| 4.308015336863246|\n",
      "|2017|    5|         5959|  4.31767075012586|\n",
      "|2017|    4|         6671| 4.336831059811122|\n",
      "|2017|    3|         8323| 4.346509671993272|\n",
      "|2017|    2|         7758| 4.367620520752771|\n",
      "+----+-----+-------------+------------------+\n",
      "only showing top 20 rows\n"
     ]
    }
   ],
   "execution_count": 27
  },
  {
   "metadata": {
    "ExecuteTime": {
     "end_time": "2024-06-02T15:38:41.514797Z",
     "start_time": "2024-06-02T15:38:40.861225Z"
    }
   },
   "cell_type": "code",
   "source": [
    "df_fechas2 = (\n",
    "    df\n",
    "    .withColumn(\"date\", f.to_date(\"reviewTime\", \"MM d, yyyy\"))\n",
    "    .withColumn('year', f.year('date'))\n",
    "    .withColumn('month', f.month('date'))\n",
    "    #.withColumn(\"year_month\", f.concat(f.col('year'),f.lit('-'), f.col('month')))\n",
    "    .withColumn(\"year_month\", f.date_format('date', 'yyyy-MM'))\n",
    "    .groupBy(\"year_month\")\n",
    "    .agg(\n",
    "        f.count(\"asin\").alias(\"n_reviews\"), f.avg(\"overall\").alias(\"avg_votes\"))\n",
    "    .orderBy(\"n_reviews\", ascending=False)\n",
    "    .limit(10)\n",
    ") #.show"
   ],
   "id": "a786b1ebdfb4218f",
   "outputs": [
    {
     "name": "stdout",
     "output_type": "stream",
     "text": [
      "\n"
     ]
    }
   ],
   "execution_count": 28
  },
  {
   "metadata": {
    "ExecuteTime": {
     "end_time": "2024-06-02T15:38:44.072436Z",
     "start_time": "2024-06-02T15:38:42.328782Z"
    }
   },
   "cell_type": "code",
   "source": "df_fechas2_graf = df_fechas2.toPandas()",
   "id": "9c7a82f907226b1",
   "outputs": [
    {
     "name": "stdout",
     "output_type": "stream",
     "text": [
      "\n"
     ]
    }
   ],
   "execution_count": 30
  },
  {
   "metadata": {
    "ExecuteTime": {
     "end_time": "2024-06-02T15:38:45.883527Z",
     "start_time": "2024-06-02T15:38:44.074592Z"
    }
   },
   "cell_type": "code",
   "source": [
    "sns.catplot(kind=\"bar\", data=df_fechas2_graf, y=\"year_month\", x=\"n_reviews\", aspect=2)\n",
    "%matplot plt"
   ],
   "id": "79786504559ee7bb",
   "outputs": [
    {
     "name": "stdout",
     "output_type": "stream",
     "text": [
      "<seaborn.axisgrid.FacetGrid object at 0x7efd30850a90>\n",
      "\n"
     ]
    },
    {
     "data": {
      "image/png": "[encoded data removed]"
     },
     "metadata": {
      "image/png": {
       "width": 640,
       "height": 480
      }
     },
     "output_type": "display_data"
    }
   ],
   "execution_count": 31
  },
  {
   "cell_type": "markdown",
   "id": "750e4959",
   "metadata": {},
   "source": [
    "## Fase 2: Limpieza"
   ]
  },
  {
   "cell_type": "markdown",
   "id": "d57a2356",
   "metadata": {},
   "source": [
    "Antes de proseguir con el modelado realizaremos dos procesos de limpieza sobre los datos:\n",
    "\n",
    "- Limpiamos el texto de las reviews utilizando expresiones sobre strings o expresiones regulares\n",
    "    - Pasar todo el texto a minusculas\n",
    "    - Eliminar números y signos de puntuacion\n",
    "\n",
    "- Crearemos la variable `sentiment` en función del número de estrellas asumiendo que una review de menos de 3 estrellas es negativa, para poder generar la variable que determine el sentiment a partir del número de estrellas podéis utilizar la función de spark `when` \n",
    "\n",
    "- Visualiza el resultado estudiando alguna review suelta con su numero de estrellas correspondiente"
   ]
  },
  {
   "cell_type": "code",
   "id": "37c3bf1d",
   "metadata": {
    "tags": [],
    "ExecuteTime": {
     "end_time": "2024-06-02T15:38:51.265493Z",
     "start_time": "2024-06-02T15:38:50.698927Z"
    }
   },
   "source": "df",
   "outputs": [
    {
     "name": "stdout",
     "output_type": "stream",
     "text": [
      "DataFrame[asin: string, overall: double, summary: string, reviewText: string, reviewTime: string, reviewerID: string, reviewerName: string, verified: boolean, vote: string, category: string]\n"
     ]
    }
   ],
   "execution_count": 33
  },
  {
   "metadata": {
    "ExecuteTime": {
     "end_time": "2024-06-02T15:38:54.074901Z",
     "start_time": "2024-06-02T15:38:52.323795Z"
    }
   },
   "cell_type": "code",
   "source": "(df.filter(f.col(\"reviewText\").isNull())).show()",
   "id": "fefee417dda41cad",
   "outputs": [
    {
     "name": "stdout",
     "output_type": "stream",
     "text": [
      "+----------+-------+-----------+----------+-----------+--------------+--------------------+--------+----+-----------+\n",
      "|      asin|overall|    summary|reviewText| reviewTime|    reviewerID|        reviewerName|verified|vote|   category|\n",
      "+----------+-------+-----------+----------+-----------+--------------+--------------------+--------+----+-----------+\n",
      "|B00004ZCJI|    5.0| Five Stars|      null| 09 6, 2015|A322CBQ9W93ZUZ|              marcos|    true|null|electronics|\n",
      "|B0002J1WTC|    2.0|  Two Stars|      null|11 12, 2015|A2LLTQB7Z93WY8|         NICK EREDIA|   false|null|electronics|\n",
      "|B0012YLTR6|    5.0| Five Stars|      null|06 15, 2016| AJECPCOLT4S8Y|                 Lar|    true|null|electronics|\n",
      "|B003INFE16|    5.0|Pretty cool|      null|01 13, 2018|A1RHX3YPRXLB70|               Tails|    true|null|electronics|\n",
      "|B00529MQVU|    5.0|       null|      null| 02 8, 2017|A2WB7MWYML9JZM|            Adrian g|    true|null|electronics|\n",
      "|B005QX7KYU|    1.0| didnt work|      null|11 11, 2015|A2RB2FWZPSJO50|           Kamodo127|    true|null|electronics|\n",
      "|B0091J9JF8|    5.0| Five Stars|      null|12 24, 2016|A2S91KOQT0AKEX|     George P. Alred|    true|null|electronics|\n",
      "|B00B1862X4|    5.0| Five Stars|      null| 10 1, 2014|A2CTIIWNGMLRA2|        Chin Wong Li|    true|null|electronics|\n",
      "|B00B2HP83E|    5.0| Five Stars|      null|10 16, 2016|A1Q9IFSUTBS6I2|Amazoner no longe...|    true|null|electronics|\n",
      "|B00CRFK24K|    5.0| Five Stars|      null|07 27, 2014|A1J4ZTUUDKUIV5|                 Pop|    true|null|electronics|\n",
      "|B00E4CXQZQ|    4.0| Four Stars|      null|07 11, 2014|A16YPRS120VV5R|           Boon Kiat|    true|null|electronics|\n",
      "|B00ESYW40S|    5.0| Five Stars|      null|01 21, 2016| ABUZR75UA0PE5|        ashley dolin|    true|null|electronics|\n",
      "|B00FEY25KU|    2.0|  Two Stars|      null|07 12, 2015| AYA7TSO89TKAW|         EDSON DAVIS|    true|null|electronics|\n",
      "|B00J38SGTW|    5.0| Five Stars|      null|11 18, 2015| A6ZFBESD2W41M|     Amazon Customer|    true|null|electronics|\n",
      "|B00LA520Y8|    5.0| Five Stars|      null|11 24, 2015| ARUNEVU9FX2V8|raphael john fell...|    true|null|electronics|\n",
      "|B00NIA4ZT6|    5.0| Five Stars|      null|10 30, 2017|A1XIT8GINBBKFH|         Chris Koehl|    true|null|electronics|\n",
      "|B00S77C6DW|    5.0| Five Stars|      null|12 19, 2015| AT44BN1T7FZCO|      Marco Hernande|    true|null|electronics|\n",
      "|B00PMMBBSG|    5.0| Five Stars|      null|04 12, 2016|A22EFPTZ6OUEQ3|         Ghonzarelli|    true|null|electronics|\n",
      "|B00TFGX35Y|    5.0| Five Stars|      null|01 17, 2017|A1UF8L4NV2RZ6E|     Amazon Customer|    true|null|electronics|\n",
      "|B0100M38I8|    5.0| Five Stars|      null| 10 8, 2016|A3O2T0768JXP1L|             Jose L.|    true|null|electronics|\n",
      "+----------+-------+-----------+----------+-----------+--------------+--------------------+--------+----+-----------+\n",
      "only showing top 20 rows\n"
     ]
    }
   ],
   "execution_count": 35
  },
  {
   "metadata": {
    "ExecuteTime": {
     "end_time": "2024-06-02T15:38:55.971693Z",
     "start_time": "2024-06-02T15:38:54.077541Z"
    }
   },
   "cell_type": "code",
   "source": "(df.filter(f.col(\"reviewText\").isNull()).count())",
   "id": "da4125c80497e3c1",
   "outputs": [
    {
     "name": "stdout",
     "output_type": "stream",
     "text": [
      "102\n"
     ]
    }
   ],
   "execution_count": 36
  },
  {
   "metadata": {
    "ExecuteTime": {
     "end_time": "2024-06-02T15:38:56.538446Z",
     "start_time": "2024-06-02T15:38:55.973577Z"
    }
   },
   "cell_type": "code",
   "source": "df_limpieza = (df.filter(f.col('reviewText').isNotNull()))",
   "id": "5fb4fc969277c7e1",
   "outputs": [
    {
     "name": "stdout",
     "output_type": "stream",
     "text": [
      "\n"
     ]
    }
   ],
   "execution_count": 37
  },
  {
   "metadata": {
    "ExecuteTime": {
     "end_time": "2024-06-02T15:38:58.375614Z",
     "start_time": "2024-06-02T15:38:56.540927Z"
    }
   },
   "cell_type": "code",
   "source": "df_limpieza.show()",
   "id": "2f40cefb9afd1ac5",
   "outputs": [
    {
     "name": "stdout",
     "output_type": "stream",
     "text": [
      "+----------+-------+--------------------+--------------------+-----------+--------------+------------------+--------+----+-----------+\n",
      "|      asin|overall|             summary|          reviewText| reviewTime|    reviewerID|      reviewerName|verified|vote|   category|\n",
      "+----------+-------+--------------------+--------------------+-----------+--------------+------------------+--------+----+-----------+\n",
      "|B00007E7JU|    4.0|        light sponge|Super cheap and s...| 09 5, 2009|A29IP2N2DSBH3T|Ben B. Photography|    true|null|electronics|\n",
      "|B000068U29|    1.0|Display stopped w...|While it worked, ...| 11 3, 2003|A198CCH4NNLI2E|    Jonathan Birge|   false|null|electronics|\n",
      "|B00004ZCKA|    1.0|  Very disappointed.|Had to send them ...|01 13, 2009|A2HQHL396BKNP6|         Geoffreyo|   false|   9|electronics|\n",
      "|B00008BO8M|    5.0|           Excellent|This thing is fan...|01 28, 2008|A1IK26QYTPLDWG| Terry D. Anderson|    true|   8|electronics|\n",
      "|B000092TT0|    5.0|               Great|Its pretty hard t...|12 31, 2013| AUF2GD7P3YN3I|     Senior Seegee|    true|null|electronics|\n",
      "|B00004ZCJI|    5.0|          Five Stars|Bon produit et li...|08 23, 2015| AA4MLHJVEU8FT|     J.L. Thriault|    true|null|electronics|\n",
      "|B00007E7JU|    5.0|        Great photos|Ive only used it ...|02 27, 2016|A29HTPTAH1VKXL|           B. Carr|    true|null|electronics|\n",
      "|B00004SABB|    4.0|Good for concerts +1|These are better ...|01 15, 2016|A379D0HHJTJT6D|               Jes|    true|null|electronics|\n",
      "|B000065BPB|    4.0|Great headphones,...|The sound quality...| 11 1, 2013|A3K4KFM1Y2NVZF|               Jim|    true|null|electronics|\n",
      "|B00006HSYC|    5.0|               great|Can't beat the pr...|05 21, 2012|A2COXS0GEGQVIN|           Mandyii|    true|null|electronics|\n",
      "|B0000BZM56|    5.0|           very nice|Lost the original...|02 12, 2010| AD4JAOKP7AHLJ|        D Matthews|    true|null|electronics|\n",
      "|B0000DIESW|    4.0|          Four Stars|worked for my nee...|05 13, 2017| A6ZX8EJP2X2JB|              Hawk|   false|null|electronics|\n",
      "|B0000BVDM7|    5.0|            Lens Cap|New factory lens ...|01 16, 2012|A2O4ZCXD06GTD4|       ken norberg|    true|null|electronics|\n",
      "|B00006IW1X|    5.0|          Five Stars|Nice I will be bu...|03 11, 2015|A3TCTREMYOBYN6|            BigDog|    true|null|electronics|\n",
      "|B00004UFRO|    3.0|These work at ver...|5-10 feet is the ...|12 17, 2013|A3RQNQD090NUN1|            Matt A|    true|null|electronics|\n",
      "|B00017LSPI|    5.0|Good for blowing ...|Good for blowing ...|01 22, 2013|A2CEXG5KTTSW10|           M. Bose|    true|null|electronics|\n",
      "|B00009UHKW|    5.0|        Works great!|This adapter work...|10 24, 2009|A3D6OHGHXN95AS|   William Jackson|    true|null|electronics|\n",
      "|B00004ZC95|    4.0|          Four Stars|   very good quality|12 29, 2014|A16X3MH2FG1JOD|              Bill|    true|null|electronics|\n",
      "|B00004WCID|    4.0|Good quality and ...|I bought this to ...| 09 4, 2013|A28X0LT2100RL1|          Eusebius|    true|null|electronics|\n",
      "|B00000JBUI|    5.0|     Great Trackball|I have had three ...|10 26, 2013|A2D333TODX15EN|Sherrie I. Laforce|    true|   2|electronics|\n",
      "+----------+-------+--------------------+--------------------+-----------+--------------+------------------+--------+----+-----------+\n",
      "only showing top 20 rows\n"
     ]
    }
   ],
   "execution_count": 38
  },
  {
   "metadata": {
    "ExecuteTime": {
     "end_time": "2024-06-02T15:45:44.187887Z",
     "start_time": "2024-06-02T15:45:43.612411Z"
    }
   },
   "cell_type": "code",
   "source": "df_limpieza = df_limpieza.withColumn(\"clean_text\",  f.lower(f.regexp_replace(\"reviewText\", r'[^a-zA-Z\\s]', ' '’’’’",
   "id": "98055d0b3cbbcb7a",
   "outputs": [
    {
     "name": "stdout",
     "output_type": "stream",
     "text": [
      "\n"
     ]
    }
   ],
   "execution_count": 84
  },
  {
   "metadata": {
    "ExecuteTime": {
     "end_time": "2024-06-02T15:45:45.917705Z",
     "start_time": "2024-06-02T15:45:44.189514Z"
    }
   },
   "cell_type": "code",
   "source": "df_limpieza.show()",
   "id": "24fafe5b780f950f",
   "outputs": [
    {
     "name": "stdout",
     "output_type": "stream",
     "text": [
      "+----------+-------+--------------------+--------------------+-----------+--------------+------------------+--------+----+-----------+--------------------+---------+\n",
      "|      asin|overall|             summary|          reviewText| reviewTime|    reviewerID|      reviewerName|verified|vote|   category|          clean_text|sentiment|\n",
      "+----------+-------+--------------------+--------------------+-----------+--------------+------------------+--------+----+-----------+--------------------+---------+\n",
      "|B00007E7JU|    4.0|        light sponge|Super cheap and s...| 09 5, 2009|A29IP2N2DSBH3T|Ben B. Photography|    true|null|electronics|super cheap and s...|        1|\n",
      "|B000068U29|    1.0|Display stopped w...|While it worked, ...| 11 3, 2003|A198CCH4NNLI2E|    Jonathan Birge|   false|null|electronics|while it worked  ...|        0|\n",
      "|B00004ZCKA|    1.0|  Very disappointed.|Had to send them ...|01 13, 2009|A2HQHL396BKNP6|         Geoffreyo|   false|   9|electronics|had to send them ...|        0|\n",
      "|B00008BO8M|    5.0|           Excellent|This thing is fan...|01 28, 2008|A1IK26QYTPLDWG| Terry D. Anderson|    true|   8|electronics|this thing is fan...|        1|\n",
      "|B000092TT0|    5.0|               Great|Its pretty hard t...|12 31, 2013| AUF2GD7P3YN3I|     Senior Seegee|    true|null|electronics|its pretty hard t...|        1|\n",
      "|B00004ZCJI|    5.0|          Five Stars|Bon produit et li...|08 23, 2015| AA4MLHJVEU8FT|     J.L. Thriault|    true|null|electronics|bon produit et li...|        1|\n",
      "|B00007E7JU|    5.0|        Great photos|Ive only used it ...|02 27, 2016|A29HTPTAH1VKXL|           B. Carr|    true|null|electronics|ive only used it ...|        1|\n",
      "|B00004SABB|    4.0|Good for concerts +1|These are better ...|01 15, 2016|A379D0HHJTJT6D|               Jes|    true|null|electronics|these are better ...|        1|\n",
      "|B000065BPB|    4.0|Great headphones,...|The sound quality...| 11 1, 2013|A3K4KFM1Y2NVZF|               Jim|    true|null|electronics|the sound quality...|        1|\n",
      "|B00006HSYC|    5.0|               great|Can't beat the pr...|05 21, 2012|A2COXS0GEGQVIN|           Mandyii|    true|null|electronics|can t beat the pr...|        1|\n",
      "|B0000BZM56|    5.0|           very nice|Lost the original...|02 12, 2010| AD4JAOKP7AHLJ|        D Matthews|    true|null|electronics|lost the original...|        1|\n",
      "|B0000DIESW|    4.0|          Four Stars|worked for my nee...|05 13, 2017| A6ZX8EJP2X2JB|              Hawk|   false|null|electronics|worked for my nee...|        1|\n",
      "|B0000BVDM7|    5.0|            Lens Cap|New factory lens ...|01 16, 2012|A2O4ZCXD06GTD4|       ken norberg|    true|null|electronics|new factory lens ...|        1|\n",
      "|B00006IW1X|    5.0|          Five Stars|Nice I will be bu...|03 11, 2015|A3TCTREMYOBYN6|            BigDog|    true|null|electronics|nice i will be bu...|        1|\n",
      "|B00004UFRO|    3.0|These work at ver...|5-10 feet is the ...|12 17, 2013|A3RQNQD090NUN1|            Matt A|    true|null|electronics|     feet is the ...|        1|\n",
      "|B00017LSPI|    5.0|Good for blowing ...|Good for blowing ...|01 22, 2013|A2CEXG5KTTSW10|           M. Bose|    true|null|electronics|good for blowing ...|        1|\n",
      "|B00009UHKW|    5.0|        Works great!|This adapter work...|10 24, 2009|A3D6OHGHXN95AS|   William Jackson|    true|null|electronics|this adapter work...|        1|\n",
      "|B00004ZC95|    4.0|          Four Stars|   very good quality|12 29, 2014|A16X3MH2FG1JOD|              Bill|    true|null|electronics|   very good quality|        1|\n",
      "|B00004WCID|    4.0|Good quality and ...|I bought this to ...| 09 4, 2013|A28X0LT2100RL1|          Eusebius|    true|null|electronics|i bought this to ...|        1|\n",
      "|B00000JBUI|    5.0|     Great Trackball|I have had three ...|10 26, 2013|A2D333TODX15EN|Sherrie I. Laforce|    true|   2|electronics|i have had three ...|        1|\n",
      "+----------+-------+--------------------+--------------------+-----------+--------------+------------------+--------+----+-----------+--------------------+---------+\n",
      "only showing top 20 rows\n"
     ]
    }
   ],
   "execution_count": 85
  },
  {
   "metadata": {
    "ExecuteTime": {
     "end_time": "2024-06-02T15:45:46.457042Z",
     "start_time": "2024-06-02T15:45:45.919791Z"
    }
   },
   "cell_type": "code",
   "source": "df_limpieza = df_limpieza.withColumn(\"sentiment\", f.when(f.col('overall') >= 3, 1).when(f.col('overall') < 3, 0))",
   "id": "98af91d5c13ed014",
   "outputs": [
    {
     "name": "stdout",
     "output_type": "stream",
     "text": [
      "\n"
     ]
    }
   ],
   "execution_count": 86
  },
  {
   "metadata": {
    "ExecuteTime": {
     "end_time": "2024-06-02T15:45:48.172809Z",
     "start_time": "2024-06-02T15:45:46.459718Z"
    }
   },
   "cell_type": "code",
   "source": "df_limpieza.show()",
   "id": "ca178f9dd59cdc24",
   "outputs": [
    {
     "name": "stdout",
     "output_type": "stream",
     "text": [
      "+----------+-------+--------------------+--------------------+-----------+--------------+------------------+--------+----+-----------+--------------------+---------+\n",
      "|      asin|overall|             summary|          reviewText| reviewTime|    reviewerID|      reviewerName|verified|vote|   category|          clean_text|sentiment|\n",
      "+----------+-------+--------------------+--------------------+-----------+--------------+------------------+--------+----+-----------+--------------------+---------+\n",
      "|B00007E7JU|    4.0|        light sponge|Super cheap and s...| 09 5, 2009|A29IP2N2DSBH3T|Ben B. Photography|    true|null|electronics|super cheap and s...|        1|\n",
      "|B000068U29|    1.0|Display stopped w...|While it worked, ...| 11 3, 2003|A198CCH4NNLI2E|    Jonathan Birge|   false|null|electronics|while it worked  ...|        0|\n",
      "|B00004ZCKA|    1.0|  Very disappointed.|Had to send them ...|01 13, 2009|A2HQHL396BKNP6|         Geoffreyo|   false|   9|electronics|had to send them ...|        0|\n",
      "|B00008BO8M|    5.0|           Excellent|This thing is fan...|01 28, 2008|A1IK26QYTPLDWG| Terry D. Anderson|    true|   8|electronics|this thing is fan...|        1|\n",
      "|B000092TT0|    5.0|               Great|Its pretty hard t...|12 31, 2013| AUF2GD7P3YN3I|     Senior Seegee|    true|null|electronics|its pretty hard t...|        1|\n",
      "|B00004ZCJI|    5.0|          Five Stars|Bon produit et li...|08 23, 2015| AA4MLHJVEU8FT|     J.L. Thriault|    true|null|electronics|bon produit et li...|        1|\n",
      "|B00007E7JU|    5.0|        Great photos|Ive only used it ...|02 27, 2016|A29HTPTAH1VKXL|           B. Carr|    true|null|electronics|ive only used it ...|        1|\n",
      "|B00004SABB|    4.0|Good for concerts +1|These are better ...|01 15, 2016|A379D0HHJTJT6D|               Jes|    true|null|electronics|these are better ...|        1|\n",
      "|B000065BPB|    4.0|Great headphones,...|The sound quality...| 11 1, 2013|A3K4KFM1Y2NVZF|               Jim|    true|null|electronics|the sound quality...|        1|\n",
      "|B00006HSYC|    5.0|               great|Can't beat the pr...|05 21, 2012|A2COXS0GEGQVIN|           Mandyii|    true|null|electronics|can t beat the pr...|        1|\n",
      "|B0000BZM56|    5.0|           very nice|Lost the original...|02 12, 2010| AD4JAOKP7AHLJ|        D Matthews|    true|null|electronics|lost the original...|        1|\n",
      "|B0000DIESW|    4.0|          Four Stars|worked for my nee...|05 13, 2017| A6ZX8EJP2X2JB|              Hawk|   false|null|electronics|worked for my nee...|        1|\n",
      "|B0000BVDM7|    5.0|            Lens Cap|New factory lens ...|01 16, 2012|A2O4ZCXD06GTD4|       ken norberg|    true|null|electronics|new factory lens ...|        1|\n",
      "|B00006IW1X|    5.0|          Five Stars|Nice I will be bu...|03 11, 2015|A3TCTREMYOBYN6|            BigDog|    true|null|electronics|nice i will be bu...|        1|\n",
      "|B00004UFRO|    3.0|These work at ver...|5-10 feet is the ...|12 17, 2013|A3RQNQD090NUN1|            Matt A|    true|null|electronics|     feet is the ...|        1|\n",
      "|B00017LSPI|    5.0|Good for blowing ...|Good for blowing ...|01 22, 2013|A2CEXG5KTTSW10|           M. Bose|    true|null|electronics|good for blowing ...|        1|\n",
      "|B00009UHKW|    5.0|        Works great!|This adapter work...|10 24, 2009|A3D6OHGHXN95AS|   William Jackson|    true|null|electronics|this adapter work...|        1|\n",
      "|B00004ZC95|    4.0|          Four Stars|   very good quality|12 29, 2014|A16X3MH2FG1JOD|              Bill|    true|null|electronics|   very good quality|        1|\n",
      "|B00004WCID|    4.0|Good quality and ...|I bought this to ...| 09 4, 2013|A28X0LT2100RL1|          Eusebius|    true|null|electronics|i bought this to ...|        1|\n",
      "|B00000JBUI|    5.0|     Great Trackball|I have had three ...|10 26, 2013|A2D333TODX15EN|Sherrie I. Laforce|    true|   2|electronics|i have had three ...|        1|\n",
      "+----------+-------+--------------------+--------------------+-----------+--------------+------------------+--------+----+-----------+--------------------+---------+\n",
      "only showing top 20 rows\n"
     ]
    }
   ],
   "execution_count": 87
  },
  {
   "metadata": {
    "ExecuteTime": {
     "end_time": "2024-06-02T15:46:02.998889Z",
     "start_time": "2024-06-02T15:45:48.175176Z"
    }
   },
   "cell_type": "code",
   "source": "df_prueba = df_limpieza.toPandas()",
   "id": "994b1cc72d8143ed",
   "outputs": [
    {
     "name": "stdout",
     "output_type": "stream",
     "text": [
      "\n"
     ]
    }
   ],
   "execution_count": 88
  },
  {
   "metadata": {
    "ExecuteTime": {
     "end_time": "2024-06-02T15:47:31.487235Z",
     "start_time": "2024-06-02T15:47:30.934494Z"
    }
   },
   "cell_type": "code",
   "source": "df_prueba.iloc[33]",
   "id": "f5235fbc6c54d006",
   "outputs": [
    {
     "name": "stdout",
     "output_type": "stream",
     "text": [
      "asin                                                   B00004ZCJJ\n",
      "overall                                                       5.0\n",
      "summary                                            Nice and clear\n",
      "reviewText      I bought this mostly to protect my lens and it...\n",
      "reviewTime                                            06 13, 2014\n",
      "reviewerID                                          AKTRVGP0A92BR\n",
      "reviewerName                                                 Pete\n",
      "verified                                                     True\n",
      "vote                                                         None\n",
      "category                                              electronics\n",
      "clean_text      i bought this mostly to protect my lens and it...\n",
      "sentiment                                                       1\n",
      "Name: 33, dtype: object\n"
     ]
    }
   ],
   "execution_count": 100
  },
  {
   "metadata": {
    "ExecuteTime": {
     "end_time": "2024-06-02T15:47:36.670235Z",
     "start_time": "2024-06-02T15:47:36.134305Z"
    }
   },
   "cell_type": "code",
   "source": "df_prueba.iloc[33].clean_text",
   "id": "be17dc9f8f5642c",
   "outputs": [
    {
     "name": "stdout",
     "output_type": "stream",
     "text": [
      "'i bought this mostly to protect my lens and it works great  i was inexpensive but the quality fits my needs'\n"
     ]
    }
   ],
   "execution_count": 102
  },
  {
   "cell_type": "markdown",
   "id": "ca11ef92",
   "metadata": {},
   "source": [
    "### Sampling\n",
    "\n",
    "Los datos están desbalanceados y el número de instancias es demasiado elevado. Para poderlo resolver vamos a realizar dos procesos:\n",
    "\n",
    "- Utiliza la función `sample_by` para muestrear el dataset y que quede el mismo número de elementos para cada clase.\n",
    "- Reduce el número de instancias para que haya en torno a 100k utiliza un nuevo muestreo o realizado junto con el anterior"
   ]
  },
  {
   "cell_type": "code",
   "id": "9ce058dc",
   "metadata": {
    "tags": [],
    "ExecuteTime": {
     "end_time": "2024-06-02T15:48:47.380708Z",
     "start_time": "2024-06-02T15:48:46.532610Z"
    }
   },
   "source": [
    "df_limpieza = (\n",
    "    df_limpieza.select(\"sentiment\", \"clean_text\")\n",
    "    .sampleBy(\"sentiment\", fractions = {0: 1.0,1: 0.2}) .sample(0.1) .cache()\n",
    ")"
   ],
   "outputs": [
    {
     "name": "stdout",
     "output_type": "stream",
     "text": [
      "\n"
     ]
    }
   ],
   "execution_count": 104
  },
  {
   "cell_type": "markdown",
   "id": "785a822b",
   "metadata": {
    "tags": []
   },
   "source": [
    "## Fase 3: Modelado\n",
    "\n",
    "A continuación vamos a entrenar el modelo, para ello utilizaremos diferentes opciones de preprocesamiento\n",
    "\n",
    "Para poder entrenar un clasificador de sentimiento necesitamos contruir una representación del texto que nos permita entrenar el modelo. Para ello utilizaremos un algoritmo de embedding como Word2Vec que viene implementado en Spark MLlib y que nos permitirá transformar una cadena de texto a un vector para utilizarlo como datos de entrenamiento de un clasificador. Este modelo viene definido como una serie de **transformadores** y **estimadores**\n",
    "\n",
    "- `Tokenizer` nos permitirá construir un vector de palabras a partir de nuestras sentencias\n",
    "- `StopWordsRemover` nos permitirá limpiar de nuestros vectores de palabras las de menor significado\n",
    "\n",
    "- Construcción de características dos alternativas\n",
    "    -  Modelo TF-IDF usando `HashingTF` e `IDF`\n",
    "    - `Word2Vec` nos permitirá crear un vector a partir de la lista de palabras\n",
    "\n",
    "- Clasificación binaria, basada en la variable sentiment que hemos utilizado, aplica un clasificador (LogisticRegregession, DecisionTree) evita ensembles por su alto tiempo de aprendizaje.\n",
    "\n",
    "Buscando en la documentación, encuentra los distintos elementos y conectalos en un pipeline junto a un algorimo de clasificación\n",
    "\n",
    "- Recomiendo utilizar una muestra pues el tiempo puede ser excesivo\n",
    "- Es posible ajustar hiperparámetros, pero igualmente puede ser bastante caro"
   ]
  },
  {
   "cell_type": "code",
   "id": "249ca922",
   "metadata": {
    "tags": [],
    "ExecuteTime": {
     "end_time": "2024-06-02T17:48:34.598366Z",
     "start_time": "2024-06-02T17:48:33.624256Z"
    }
   },
   "source": [
    "from pyspark.ml import Pipeline, PipelineModel\n",
    "from pyspark.ml.classification import LogisticRegression, DecisionTreeClassifier\n",
    "from pyspark.ml.feature import Tokenizer, StopWordsRemover, HashingTF, IDF, Word2Vec\n",
    "from pyspark.ml.evaluation import BinaryClassificationEvaluator, MulticlassClassificationEvaluator\n",
    "from sklearn.model_selection import ParameterGrid"
   ],
   "outputs": [
    {
     "name": "stdout",
     "output_type": "stream",
     "text": [
      "\n"
     ]
    }
   ],
   "execution_count": 264
  },
  {
   "metadata": {
    "ExecuteTime": {
     "end_time": "2024-06-02T17:48:36.779095Z",
     "start_time": "2024-06-02T17:48:36.141147Z"
    }
   },
   "cell_type": "code",
   "source": [
    "tokenizer = Tokenizer(inputCol = \"clean_text\", outputCol = \"clean_text_token\")\n",
    "remover = StopWordsRemover(inputCol = tokenizer.getOutputCol(), outputCol = \"clean_text_tokens_improved\")\n",
    "\n",
    "word2Vec = Word2Vec(minCount = 5, vectorSize = 200, inputCol = remover.getOutputCol(), outputCol = \"features\")"
   ],
   "id": "f7ceec24f112985c",
   "outputs": [
    {
     "name": "stdout",
     "output_type": "stream",
     "text": [
      "\n"
     ]
    }
   ],
   "execution_count": 266
  },
  {
   "metadata": {
    "ExecuteTime": {
     "end_time": "2024-06-02T17:48:41.027203Z",
     "start_time": "2024-06-02T17:48:38.003371Z"
    }
   },
   "cell_type": "code",
   "source": "train, test = df_limpieza.randomSplit([0.8, 0.2], seed = 2022)",
   "id": "ab866076dde56d14",
   "outputs": [
    {
     "name": "stdout",
     "output_type": "stream",
     "text": [
      "\n"
     ]
    }
   ],
   "execution_count": 268
  },
  {
   "metadata": {
    "ExecuteTime": {
     "end_time": "2024-06-02T17:49:16.455186Z",
     "start_time": "2024-06-02T17:49:15.889287Z"
    }
   },
   "cell_type": "code",
   "source": [
    "# Para analizar cuál es el mejor modelo posible, se analiza con diversos hiperparámetros\n",
    "paramGrid = {\n",
    "    'regParam': [0.01, 0.1, 1.0],\n",
    "    'maxIter': [10, 20, 50]\n",
    "}"
   ],
   "id": "c620638ac0d5f537",
   "outputs": [
    {
     "name": "stdout",
     "output_type": "stream",
     "text": [
      "\n"
     ]
    }
   ],
   "execution_count": 270
  },
  {
   "metadata": {
    "ExecuteTime": {
     "end_time": "2024-06-02T18:18:29.165703Z",
     "start_time": "2024-06-02T18:15:02.398061Z"
    }
   },
   "cell_type": "code",
   "source": [
    "best_model = None\n",
    "best_accuracy = 0\n",
    "\n",
    "for params in ParameterGrid(paramGrid):\n",
    "\n",
    "    model = LogisticRegression(regParam = params['regParam'], maxIter = params['maxIter']).setFeaturesCol('features').setLabelCol('sentiment') # Configuramos el modelo de regresión logística con los hiperparámetros actuales\n",
    "    pipeline = Pipeline(stages = [tokenizer, remover, word2Vec, model]) # se crea el pipeline\n",
    "\n",
    "    # entrenamos el modelo y realizamos las predicciones\n",
    "    model_pipeline = pipeline.fit(train)\n",
    "    predictions = model_pipeline.transform(test)\n",
    "\n",
    "    # se evalúa\n",
    "    evaluator = MulticlassClassificationEvaluator(labelCol = \"sentiment\", metricName = \"accuracy\")\n",
    "    accuracy = evaluator.evaluate(predictions)\n",
    "\n",
    "    # y se guarda el mejor modelo\n",
    "    if accuracy > best_accuracy:\n",
    "        best_accuracy = accuracy\n",
    "        best_model = model_pipeline\n",
    "\n",
    "# y obtenemos las métricas de este\n",
    "predictions = best_model.transform(test)\n",
    "evaluator1 = MulticlassClassificationEvaluator(labelCol = \"sentiment\", metricName = \"accuracy\")\n",
    "print(f\"Best Model Accuracy: {evaluator1.evaluate(predictions)}\")\n",
    "evaluator2 = BinaryClassificationEvaluator(labelCol = \"sentiment\", metricName = \"areaUnderROC\")\n",
    "print(f\"Best Model AUC: {evaluator2.evaluate(predictions)}\")"
   ],
   "id": "d696511d2b0e0c4",
   "outputs": [
    {
     "name": "stdout",
     "output_type": "stream",
     "text": [
      "Best Model Accuracy: 0.8204545454545454\n",
      "Best Model AUC: 0.889854639818398\n"
     ]
    }
   ],
   "execution_count": 288
  },
  {
   "cell_type": "markdown",
   "id": "86016afc",
   "metadata": {
    "tags": []
   },
   "source": [
    "## Fase 4: Serializacion\n",
    "\n",
    "\n",
    "Una vez aprendido el modelo almacénalo en S3 utilizando tanto opción nativa de spark y así poderlo utilizar en el futuro.\n",
    "\n",
    "Finalmente, carga el modelo a partir de los datos serializados y haz una predicción sobre los datos de test."
   ]
  },
  {
   "metadata": {
    "ExecuteTime": {
     "end_time": "2024-06-02T18:24:22.087135Z",
     "start_time": "2024-06-02T18:24:21.093480Z"
    }
   },
   "cell_type": "code",
   "source": "sc._jsc.hadoopConfiguration().set(\"mapred.output.committer.class\", \"org.apache.hadoop.mapred.DirectFileOutputCommitter\")",
   "id": "6141d29efce08049",
   "outputs": [
    {
     "name": "stdout",
     "output_type": "stream",
     "text": [
      "\n"
     ]
    }
   ],
   "execution_count": 290
  },
  {
   "cell_type": "code",
   "id": "527db5d7",
   "metadata": {
    "tags": [],
    "ExecuteTime": {
     "end_time": "2024-06-02T18:26:47.652440Z",
     "start_time": "2024-06-02T18:26:38.201463Z"
    }
   },
   "source": [
    "best_model.write().overwrite().save(f\"s3://{BUCKET_NAME}/modelos/sentiment_model\")\n",
    "model_b = PipelineModel.load(f\"s3://{BUCKET_NAME}/modelos/sentiment_model/\")"
   ],
   "outputs": [
    {
     "name": "stdout",
     "output_type": "stream",
     "text": [
      "\n"
     ]
    }
   ],
   "execution_count": 294
  },
  {
   "metadata": {
    "ExecuteTime": {
     "end_time": "2024-06-02T18:26:51.359369Z",
     "start_time": "2024-06-02T18:26:49.605240Z"
    }
   },
   "cell_type": "code",
   "source": [
    "predictions = model_b.transform(test)\n",
    "predictions.show()"
   ],
   "id": "67a34408a712cf7d",
   "outputs": [
    {
     "name": "stdout",
     "output_type": "stream",
     "text": [
      "+---------+--------------------+--------------------+--------------------------+--------------------+--------------------+--------------------+----------+\n",
      "|sentiment|          clean_text|    clean_text_token|clean_text_tokens_improved|            features|       rawPrediction|         probability|prediction|\n",
      "+---------+--------------------+--------------------+--------------------------+--------------------+--------------------+--------------------+----------+\n",
      "|        0|    for a single ...|[, , , , for, a, ...|      [, , , , single, ...|[0.02050358503280...|[-0.4480469652704...|[0.38982521776890...|       1.0|\n",
      "|        0|  of the camera s...|[, , of, the, cam...|      [, , camera, infr...|[-0.0076047458592...|[0.99549293164919...|[0.73017151292253...|       0.0|\n",
      "|        0| div id  video bl...|[, div, id, , vid...|      [, div, id, , vid...|[-0.0019399552711...|[-0.4175254925908...|[0.39710902938745...|       1.0|\n",
      "|        0| i am adjusting t...|[, i, am, adjusti...|      [, adjusting, rat...|[-0.0105948798910...|[3.88252470583161...|[0.50009706311642...|       0.0|\n",
      "|        0|a bit small  no c...|[a, bit, small, ,...|      [bit, small, , co...|[0.03346801353618...|[-3.6028950352626...|[0.02652214492445...|       1.0|\n",
      "|        0|a busted zipper b...|[a, busted, zippe...|      [busted, zipper, ...|[5.27407284607761...|[0.19264101528179...|[0.54801186663379...|       0.0|\n",
      "|        0|according to abbo...|[according, to, a...|      [according, abbot...|[0.00194576456162...|[1.35133725958761...|[0.79434816778576...|       0.0|\n",
      "|        0|after a very frus...|[after, a, very, ...|      [frustrating, hou...|[-0.0053444718276...|[3.65980152190829...|[0.97490818308986...|       0.0|\n",
      "|        0|after about   hou...|[after, about, , ...|      [, , hours, use, ...|[0.00951323115184...|[-0.0814357187528...|[0.47965231417744...|       1.0|\n",
      "|        0|after less than t...|[after, less, tha...|      [less, two, years...|[-2.1831679623574...|[1.02553739877681...|[0.73604981326588...|       0.0|\n",
      "|        0|alas you really d...|[alas, you, reall...|      [alas, really, ge...|[-0.0119399306914...|[0.74092767884847...|[0.67719868074340...|       0.0|\n",
      "|        0|all i can say is ...|[all, i, can, say...|      [say, works, , ca...|[0.03651068711446...|[0.23594127037572...|[0.55871319805662...|       0.0|\n",
      "|        0|although the unit...|[although, the, u...|      [although, unit, ...|[0.00632793284574...|[0.87173207051659...|[0.70510597798645...|       0.0|\n",
      "|        0|any high tones ar...|[any, high, tones...|      [high, tones, lou...|[0.01244766949044...|[-1.1973837062429...|[0.23194096755841...|       1.0|\n",
      "|        0|apps are pretty slow|[apps, are, prett...|      [apps, pretty, slow]|[-0.0222252781192...|[-0.5332735827999...|[0.36975370099329...|       1.0|\n",
      "|        0|arrived appearing...|[arrived, appeari...|      [arrived, appeari...|[0.01816502077555...|[-0.4616072719141...|[0.38660460361554...|       1.0|\n",
      "|        0|as a generic soun...|[as, a, generic, ...|      [generic, soundba...|[0.00208814462717...|[0.58550514134446...|[0.64233315311529...|       0.0|\n",
      "|        0|as a stand alone ...|[as, a, stand, al...|      [stand, alone, , ...|[-0.0054776992621...|[0.04563884638053...|[0.51140773156277...|       0.0|\n",
      "|        0|as some other rev...|[as, some, other,...|      [reviewers, said,...|[-0.0139381360038...|[0.72184943850635...|[0.67301414595350...|       0.0|\n",
      "|        0|as soon as the pa...|[as, soon, as, th...|      [soon, package, o...|[-0.0053449634941...|[1.64189381022910...|[0.83779246379677...|       0.0|\n",
      "+---------+--------------------+--------------------+--------------------------+--------------------+--------------------+--------------------+----------+\n",
      "only showing top 20 rows\n"
     ]
    }
   ],
   "execution_count": 296
  },
  {
   "cell_type": "markdown",
   "id": "6cd85d47-7436-4070-8b0e-1804a37dbb27",
   "metadata": {
    "tags": []
   },
   "source": [
    "## Opcional\n",
    "\n",
    "Con la columna de predictions y de sentiments, prueba a quedarte con unas cuantas filas que la predicción sea erronea (sentiment distinto de prediction), recolectalas con Pandas para una evaluación más cómoda y visualiza los textos. ¿Tienen sentido? :-)"
   ]
  },
  {
   "cell_type": "code",
   "id": "ba47968d-8111-4f1a-9883-85fea4cb1b62",
   "metadata": {
    "ExecuteTime": {
     "end_time": "2024-06-02T18:33:55.613687Z",
     "start_time": "2024-06-02T18:33:53.295149Z"
    }
   },
   "source": [
    "incorrect_predictions = predictions.filter(predictions.sentiment != predictions.prediction)\n",
    "incorrect_predictions_df = incorrect_predictions.select(\"clean_text\", \"sentiment\", \"prediction\").toPandas()\n",
    "\n",
    "\n",
    "print(incorrect_predictions_df.head(10))\n",
    "\n",
    "            # para ver los textos asociados y evaluar la precisión del modelo\n",
    "for index, row in incorrect_predictions_df.head(10).iterrows():\n",
    "    print(f\"Texto: {row['clean_text']}\")\n",
    "    print(f\"Sentimiento Real: {row['sentiment']}, Predicción: {row['prediction']}\")\n",
    "    print(\"-\" * 80)"
   ],
   "outputs": [
    {
     "name": "stdout",
     "output_type": "stream",
     "text": [
      "                                          clean_text  sentiment  prediction\n",
      "0      for a single   foot off brand cable  what ...          0         1.0\n",
      "1   div id  video block r h sj  evba y  class  a ...          0         1.0\n",
      "2              a bit small  no cover for protection           0         1.0\n",
      "3  after about   hours of use the bulb pretty muc...          0         1.0\n",
      "4  any high tones are too loud and get distorted ...          0         1.0\n",
      "5                               apps are pretty slow          0         1.0\n",
      "6  arrived appearing new but red channel is broke...          0         1.0\n",
      "7  collee students should not have to buy these  ...          0         1.0\n",
      "8                  did not function between two tv s          0         1.0\n",
      "9                               didnt fir  too stiff          0         1.0\n",
      "Texto:     for a single   foot off brand cable  what a deal   \n",
      "Sentimiento Real: 0, Predicción: 1.0\n",
      "--------------------------------------------------------------------------------\n",
      "Texto:  div id  video block r h sj  evba y  class  a section a spacing small a spacing top mini video block    div  input type  hidden  name    value  https   images na ssl images amazon com images i b r rzz yas mp   class  video url   input type  hidden  name    value  https   images na ssl images amazon com images i   ddrq ns s png  class  video slate img url   nbsp the unit was working great  for about a week  then it started screaming and wailing at me in the middle of the afternoon  woke me up from a nap  and scared the bejeezus out of my cat  i used my phone to take a quick video of this \n",
      "\n",
      "aside from the fact that it doesn t work  i still was not completely happy with my purchase  i didn t like that there was no auto shut off  you have to remember to hit the power button otherwise your batteries will be drained  and the power button is a little awkward to depress because its so small and recessed  and the cord is way too short  a retractable design with a slightly longer cord would have been more ideal  even an extra   inches would have made a difference to me \n",
      "Sentimiento Real: 0, Predicción: 1.0\n",
      "--------------------------------------------------------------------------------\n",
      "Texto: a bit small  no cover for protection \n",
      "Sentimiento Real: 0, Predicción: 1.0\n",
      "--------------------------------------------------------------------------------\n",
      "Texto: after about   hours of use the bulb pretty much craps out  and leaved this usb light with a dim glow which can only be compared to a glow in the dark sticker  getting one with multiple l e d  s seems to be a better idea   spend more  and get more \n",
      "Sentimiento Real: 0, Predicción: 1.0\n",
      "--------------------------------------------------------------------------------\n",
      "Texto: any high tones are too loud and get distorted \n",
      "the video quality is as good as can be expected with the wii only being capable of    p \n",
      "\n",
      "edit  the audio from the    th inch plug is fine  so if you wanted to use that then it will work well  it s just the audio from the hdmi cable that s got distorted highs \n",
      "interestingly  plugging a cable into the    th inch plug reduces the distortion on the hdmi audio  but it s still clearly distorted \n",
      "Sentimiento Real: 0, Predicción: 1.0\n",
      "--------------------------------------------------------------------------------\n",
      "Texto: apps are pretty slow\n",
      "Sentimiento Real: 0, Predicción: 1.0\n",
      "--------------------------------------------------------------------------------\n",
      "Texto: arrived appearing new but red channel is broken  red     inch ts phone plug poorly fits in     phone sockets i tested  fiddling with the red plug sometimes allows signal sound to transmit  buy at your own risk \n",
      "Sentimiento Real: 0, Predicción: 1.0\n",
      "--------------------------------------------------------------------------------\n",
      "Texto: collee students should not have to buy these  we have smartphones for a reeason \n",
      "Sentimiento Real: 0, Predicción: 1.0\n",
      "--------------------------------------------------------------------------------\n",
      "Texto: did not function between two tv s\n",
      "Sentimiento Real: 0, Predicción: 1.0\n",
      "--------------------------------------------------------------------------------\n",
      "Texto: didnt fir  too stiff\n",
      "Sentimiento Real: 0, Predicción: 1.0\n",
      "--------------------------------------------------------------------------------\n"
     ]
    }
   ],
   "execution_count": 300
  },
  {
   "metadata": {},
   "cell_type": "markdown",
   "source": [
    "Está claro que hay fallas en el modelo, pero dentro de ellas podemos encontrar desde:\n",
    "- Personas que aunque hacen la reseña negativa, la reseña sigue siendo de 3 o más estrellas\n",
    "- Otros que hacen justo lo inverso\n",
    "- Las faltas de ortografía hacen que el modelo cometa más errores \n",
    "- Pero especialmente, las frases irónicas y sarcásticas son las que más confunden al modelo, calificando negativamente de forma sarcástica y el modelo lo entiende positivo."
   ],
   "id": "83eeefa9bfb07c05"
  },
  {
   "metadata": {},
   "cell_type": "code",
   "outputs": [],
   "execution_count": null,
   "source": "",
   "id": "f6eb42fb8398881f"
  }
 ],
 "metadata": {
  "kernelspec": {
   "display_name": "Glue PySpark",
   "language": "python",
   "name": "glue_pyspark"
  },
  "language_info": {
   "codemirror_mode": {
    "name": "python",
    "version": 3
   },
   "file_extension": ".py",
   "mimetype": "text/x-python",
   "name": "Python_Glue_Session",
   "pygments_lexer": "python3"
  }
 },
 "nbformat": 4,
 "nbformat_minor": 5
}
